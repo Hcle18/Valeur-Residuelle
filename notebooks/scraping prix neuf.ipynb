{
 "cells": [
  {
   "cell_type": "markdown",
   "id": "ecf9fd3e",
   "metadata": {},
   "source": [
    "# Scraper le prix neuf des voitures"
   ]
  },
  {
   "cell_type": "markdown",
   "id": "d198e1b1",
   "metadata": {},
   "source": [
    "## 1. Importer la liste des modèles\n"
   ]
  },
  {
   "cell_type": "code",
   "execution_count": 1,
   "id": "5bba6d2f",
   "metadata": {},
   "outputs": [],
   "source": [
    "import pandas as pd\n",
    "import requests\n",
    "from bs4 import BeautifulSoup\n",
    "import time\n",
    "import re\n",
    "from selenium import webdriver\n",
    "from selenium.webdriver.common.by import By\n",
    "from selenium.webdriver.edge.service import Service\n",
    "from webdriver_manager.microsoft import EdgeChromiumDriverManager\n",
    "from selenium.webdriver.support.ui import WebDriverWait\n",
    "from selenium.webdriver.support import expected_conditions as EC\n",
    "from selenium.webdriver.support.ui import Select\n",
    "from selenium.webdriver.common.action_chains import ActionChains\n",
    "from datetime import datetime\n",
    "import sys\n",
    "import os\n",
    "import glob\n",
    "sys.path.append(os.path.abspath(os.path.join(os.getcwd(), '..')))\n",
    "from src.scraping.scraping import init_driver\n",
    "from src.scraping.scraping import accept_popup_general"
   ]
  },
  {
   "cell_type": "code",
   "execution_count": null,
   "id": "0bc482d9",
   "metadata": {},
   "outputs": [],
   "source": [
    "data_path = \"../data/raw_data/autohero.csv\"\n",
    "df = pd.read_csv(data_path, sep=\",\", encoding=\"utf-8\")"
   ]
  },
  {
   "cell_type": "code",
   "execution_count": 3,
   "id": "7d11101f",
   "metadata": {},
   "outputs": [
    {
     "data": {
      "application/vnd.microsoft.datawrangler.viewer.v0+json": {
       "columns": [
        {
         "name": "index",
         "rawType": "int64",
         "type": "integer"
        },
        {
         "name": "scraped_at",
         "rawType": "object",
         "type": "string"
        },
        {
         "name": "modele",
         "rawType": "object",
         "type": "string"
        },
        {
         "name": "finition",
         "rawType": "object",
         "type": "string"
        },
        {
         "name": "prix",
         "rawType": "object",
         "type": "string"
        },
        {
         "name": "annee_mise_en_circulation",
         "rawType": "object",
         "type": "string"
        },
        {
         "name": "kilometrage",
         "rawType": "object",
         "type": "string"
        },
        {
         "name": "carburant",
         "rawType": "object",
         "type": "string"
        },
        {
         "name": "transmission",
         "rawType": "object",
         "type": "string"
        },
        {
         "name": "puissance",
         "rawType": "object",
         "type": "string"
        },
        {
         "name": "nb_ancien_proprietaire",
         "rawType": "object",
         "type": "string"
        },
        {
         "name": "classe_vehicule",
         "rawType": "object",
         "type": "string"
        },
        {
         "name": "nb_porte",
         "rawType": "float64",
         "type": "float"
        },
        {
         "name": "nb_place",
         "rawType": "float64",
         "type": "float"
        },
        {
         "name": "couleur",
         "rawType": "object",
         "type": "string"
        },
        {
         "name": "sellerie",
         "rawType": "object",
         "type": "string"
        },
        {
         "name": "classe_emission",
         "rawType": "object",
         "type": "string"
        },
        {
         "name": "emission_CO2",
         "rawType": "object",
         "type": "unknown"
        },
        {
         "name": "crit_air",
         "rawType": "object",
         "type": "string"
        },
        {
         "name": "usage_commerciale_anterieure",
         "rawType": "object",
         "type": "unknown"
        },
        {
         "name": "url_annonce",
         "rawType": "object",
         "type": "string"
        }
       ],
       "conversionMethod": "pd.DataFrame",
       "ref": "c4490901-8092-4285-8624-0a71dcbce7e9",
       "rows": [
        [
         "0",
         "2025-04-09",
         "Ford Fiesta",
         "1.0 EcoBoost ST-Line X",
         "13 190 €",
         "15.05.2020",
         "69 301 km",
         "Essence",
         "Boite de vitesse manuelle",
         "95 CV / 70 kW",
         "3",
         "Citadine",
         "5.0",
         "5.0",
         "Gris",
         "Tissu (Sellerie d'origine)",
         "EURO 6",
         null,
         "Crit'Air 1",
         null,
         "https://www.autohero.com/fr/ford-fiesta/id/5166bed7-c49e-46a1-813d-945c9389ed85/?financePeriod=84&cashAmount=50000"
        ],
        [
         "1",
         "2025-04-09",
         "Toyota ProAce",
         "Combi Long 1.5 D-4D Dynamic",
         "23 990 €",
         "29.04.2021",
         "71 887 km",
         "Diesel",
         "Boite de vitesse manuelle",
         "120 CV / 88 kW",
         "2",
         "Monospace",
         "4.0",
         "9.0",
         "Gris",
         "Tissu (Sellerie d'origine)",
         "EURO 6",
         "170 g/km",
         "Crit'Air 2",
         "Oui",
         "https://www.autohero.com/fr/toyota-pro-ace/id/a5efe71c-a361-49ed-b021-41574dad508d/?financePeriod=84&cashAmount=50000"
        ],
        [
         "2",
         "2025-04-09",
         "Mercedes-Benz GLA",
         "250 e AMG Line 8G-DCT",
         "32 490 €",
         "23.10.2020",
         "59 649 km",
         "Hybride",
         "Double embrayage / DCT",
         "218 CV / 160 kW",
         "2",
         "SUV",
         "5.0",
         "5.0",
         "Gris",
         "Mi-cuir (Sellerie d'origine)",
         "EURO 6",
         "32 g/km",
         "Crit'Air 1",
         "Oui",
         "https://www.autohero.com/fr/mercedes-benz-gla/id/b760af79-f2fc-4d41-a8fd-0bf0e189f562/?financePeriod=84&cashAmount=50000"
        ],
        [
         "3",
         "2025-04-09",
         "BMW X1",
         "sDrive18i xLine DKG7",
         "27 890 €",
         "05.05.2021",
         "37 869 km",
         "Essence",
         "Double embrayage / DCT",
         "136 CV / 100 kW",
         "2",
         "SUV",
         "5.0",
         "5.0",
         "Noir",
         "Mi-cuir (Sellerie d'origine)",
         "EURO 6",
         "148 g/km",
         "Crit'Air 1",
         "Non",
         "https://www.autohero.com/fr/bmw-x-1/id/490f203e-37c4-4fbc-8bb8-82fa12d291e7/?financePeriod=84&cashAmount=50000&impression_id=MDI0MDgxYTctZTc0Mi00ZjBhLWI1MGUtZGM5MjFhYTFlZmRmKzE3NDQxODIwMTQ1MDI%3D"
        ],
        [
         "4",
         "2025-04-09",
         "Peugeot 3008",
         "1.5 Blue-HDi Crossway EAT8",
         "19 090 €",
         "31.12.2019",
         "58 958 km",
         "Diesel",
         "Boite de vitesse automatique",
         "130 CV / 96 kW",
         "3",
         "SUV",
         "5.0",
         "5.0",
         "Blanc",
         "Mi-cuir (Sellerie d'origine)",
         "EURO 6",
         "98 g/km",
         "Crit'Air 2",
         "Oui",
         "https://www.autohero.com/fr/peugeot-3008/id/dfdc3fae-89a9-4fcb-b1c0-038d394ef4f1/?financePeriod=84&cashAmount=50000"
        ]
       ],
       "shape": {
        "columns": 20,
        "rows": 5
       }
      },
      "text/html": [
       "<div>\n",
       "<style scoped>\n",
       "    .dataframe tbody tr th:only-of-type {\n",
       "        vertical-align: middle;\n",
       "    }\n",
       "\n",
       "    .dataframe tbody tr th {\n",
       "        vertical-align: top;\n",
       "    }\n",
       "\n",
       "    .dataframe thead th {\n",
       "        text-align: right;\n",
       "    }\n",
       "</style>\n",
       "<table border=\"1\" class=\"dataframe\">\n",
       "  <thead>\n",
       "    <tr style=\"text-align: right;\">\n",
       "      <th></th>\n",
       "      <th>scraped_at</th>\n",
       "      <th>modele</th>\n",
       "      <th>finition</th>\n",
       "      <th>prix</th>\n",
       "      <th>annee_mise_en_circulation</th>\n",
       "      <th>kilometrage</th>\n",
       "      <th>carburant</th>\n",
       "      <th>transmission</th>\n",
       "      <th>puissance</th>\n",
       "      <th>nb_ancien_proprietaire</th>\n",
       "      <th>classe_vehicule</th>\n",
       "      <th>nb_porte</th>\n",
       "      <th>nb_place</th>\n",
       "      <th>couleur</th>\n",
       "      <th>sellerie</th>\n",
       "      <th>classe_emission</th>\n",
       "      <th>emission_CO2</th>\n",
       "      <th>crit_air</th>\n",
       "      <th>usage_commerciale_anterieure</th>\n",
       "      <th>url_annonce</th>\n",
       "    </tr>\n",
       "  </thead>\n",
       "  <tbody>\n",
       "    <tr>\n",
       "      <th>0</th>\n",
       "      <td>2025-04-09</td>\n",
       "      <td>Ford Fiesta</td>\n",
       "      <td>1.0 EcoBoost ST-Line X</td>\n",
       "      <td>13 190 €</td>\n",
       "      <td>15.05.2020</td>\n",
       "      <td>69 301 km</td>\n",
       "      <td>Essence</td>\n",
       "      <td>Boite de vitesse manuelle</td>\n",
       "      <td>95 CV / 70 kW</td>\n",
       "      <td>3</td>\n",
       "      <td>Citadine</td>\n",
       "      <td>5.0</td>\n",
       "      <td>5.0</td>\n",
       "      <td>Gris</td>\n",
       "      <td>Tissu (Sellerie d'origine)</td>\n",
       "      <td>EURO 6</td>\n",
       "      <td>NaN</td>\n",
       "      <td>Crit'Air 1</td>\n",
       "      <td>NaN</td>\n",
       "      <td>https://www.autohero.com/fr/ford-fiesta/id/516...</td>\n",
       "    </tr>\n",
       "    <tr>\n",
       "      <th>1</th>\n",
       "      <td>2025-04-09</td>\n",
       "      <td>Toyota ProAce</td>\n",
       "      <td>Combi Long 1.5 D-4D Dynamic</td>\n",
       "      <td>23 990 €</td>\n",
       "      <td>29.04.2021</td>\n",
       "      <td>71 887 km</td>\n",
       "      <td>Diesel</td>\n",
       "      <td>Boite de vitesse manuelle</td>\n",
       "      <td>120 CV / 88 kW</td>\n",
       "      <td>2</td>\n",
       "      <td>Monospace</td>\n",
       "      <td>4.0</td>\n",
       "      <td>9.0</td>\n",
       "      <td>Gris</td>\n",
       "      <td>Tissu (Sellerie d'origine)</td>\n",
       "      <td>EURO 6</td>\n",
       "      <td>170 g/km</td>\n",
       "      <td>Crit'Air 2</td>\n",
       "      <td>Oui</td>\n",
       "      <td>https://www.autohero.com/fr/toyota-pro-ace/id/...</td>\n",
       "    </tr>\n",
       "    <tr>\n",
       "      <th>2</th>\n",
       "      <td>2025-04-09</td>\n",
       "      <td>Mercedes-Benz GLA</td>\n",
       "      <td>250 e AMG Line 8G-DCT</td>\n",
       "      <td>32 490 €</td>\n",
       "      <td>23.10.2020</td>\n",
       "      <td>59 649 km</td>\n",
       "      <td>Hybride</td>\n",
       "      <td>Double embrayage / DCT</td>\n",
       "      <td>218 CV / 160 kW</td>\n",
       "      <td>2</td>\n",
       "      <td>SUV</td>\n",
       "      <td>5.0</td>\n",
       "      <td>5.0</td>\n",
       "      <td>Gris</td>\n",
       "      <td>Mi-cuir (Sellerie d'origine)</td>\n",
       "      <td>EURO 6</td>\n",
       "      <td>32 g/km</td>\n",
       "      <td>Crit'Air 1</td>\n",
       "      <td>Oui</td>\n",
       "      <td>https://www.autohero.com/fr/mercedes-benz-gla/...</td>\n",
       "    </tr>\n",
       "    <tr>\n",
       "      <th>3</th>\n",
       "      <td>2025-04-09</td>\n",
       "      <td>BMW X1</td>\n",
       "      <td>sDrive18i xLine DKG7</td>\n",
       "      <td>27 890 €</td>\n",
       "      <td>05.05.2021</td>\n",
       "      <td>37 869 km</td>\n",
       "      <td>Essence</td>\n",
       "      <td>Double embrayage / DCT</td>\n",
       "      <td>136 CV / 100 kW</td>\n",
       "      <td>2</td>\n",
       "      <td>SUV</td>\n",
       "      <td>5.0</td>\n",
       "      <td>5.0</td>\n",
       "      <td>Noir</td>\n",
       "      <td>Mi-cuir (Sellerie d'origine)</td>\n",
       "      <td>EURO 6</td>\n",
       "      <td>148 g/km</td>\n",
       "      <td>Crit'Air 1</td>\n",
       "      <td>Non</td>\n",
       "      <td>https://www.autohero.com/fr/bmw-x-1/id/490f203...</td>\n",
       "    </tr>\n",
       "    <tr>\n",
       "      <th>4</th>\n",
       "      <td>2025-04-09</td>\n",
       "      <td>Peugeot 3008</td>\n",
       "      <td>1.5 Blue-HDi Crossway EAT8</td>\n",
       "      <td>19 090 €</td>\n",
       "      <td>31.12.2019</td>\n",
       "      <td>58 958 km</td>\n",
       "      <td>Diesel</td>\n",
       "      <td>Boite de vitesse automatique</td>\n",
       "      <td>130 CV / 96 kW</td>\n",
       "      <td>3</td>\n",
       "      <td>SUV</td>\n",
       "      <td>5.0</td>\n",
       "      <td>5.0</td>\n",
       "      <td>Blanc</td>\n",
       "      <td>Mi-cuir (Sellerie d'origine)</td>\n",
       "      <td>EURO 6</td>\n",
       "      <td>98 g/km</td>\n",
       "      <td>Crit'Air 2</td>\n",
       "      <td>Oui</td>\n",
       "      <td>https://www.autohero.com/fr/peugeot-3008/id/df...</td>\n",
       "    </tr>\n",
       "  </tbody>\n",
       "</table>\n",
       "</div>"
      ],
      "text/plain": [
       "   scraped_at             modele                     finition      prix  \\\n",
       "0  2025-04-09        Ford Fiesta       1.0 EcoBoost ST-Line X  13 190 €   \n",
       "1  2025-04-09      Toyota ProAce  Combi Long 1.5 D-4D Dynamic  23 990 €   \n",
       "2  2025-04-09  Mercedes-Benz GLA        250 e AMG Line 8G-DCT  32 490 €   \n",
       "3  2025-04-09             BMW X1         sDrive18i xLine DKG7  27 890 €   \n",
       "4  2025-04-09       Peugeot 3008   1.5 Blue-HDi Crossway EAT8  19 090 €   \n",
       "\n",
       "  annee_mise_en_circulation kilometrage carburant  \\\n",
       "0                15.05.2020   69 301 km   Essence   \n",
       "1                29.04.2021   71 887 km    Diesel   \n",
       "2                23.10.2020   59 649 km   Hybride   \n",
       "3                05.05.2021   37 869 km   Essence   \n",
       "4                31.12.2019   58 958 km    Diesel   \n",
       "\n",
       "                   transmission        puissance nb_ancien_proprietaire  \\\n",
       "0     Boite de vitesse manuelle    95 CV / 70 kW                      3   \n",
       "1     Boite de vitesse manuelle   120 CV / 88 kW                      2   \n",
       "2        Double embrayage / DCT  218 CV / 160 kW                      2   \n",
       "3        Double embrayage / DCT  136 CV / 100 kW                      2   \n",
       "4  Boite de vitesse automatique   130 CV / 96 kW                      3   \n",
       "\n",
       "  classe_vehicule  nb_porte  nb_place couleur                      sellerie  \\\n",
       "0        Citadine       5.0       5.0    Gris    Tissu (Sellerie d'origine)   \n",
       "1       Monospace       4.0       9.0    Gris    Tissu (Sellerie d'origine)   \n",
       "2             SUV       5.0       5.0    Gris  Mi-cuir (Sellerie d'origine)   \n",
       "3             SUV       5.0       5.0    Noir  Mi-cuir (Sellerie d'origine)   \n",
       "4             SUV       5.0       5.0   Blanc  Mi-cuir (Sellerie d'origine)   \n",
       "\n",
       "  classe_emission emission_CO2    crit_air usage_commerciale_anterieure  \\\n",
       "0          EURO 6          NaN  Crit'Air 1                          NaN   \n",
       "1          EURO 6     170 g/km  Crit'Air 2                          Oui   \n",
       "2          EURO 6      32 g/km  Crit'Air 1                          Oui   \n",
       "3          EURO 6     148 g/km  Crit'Air 1                          Non   \n",
       "4          EURO 6      98 g/km  Crit'Air 2                          Oui   \n",
       "\n",
       "                                         url_annonce  \n",
       "0  https://www.autohero.com/fr/ford-fiesta/id/516...  \n",
       "1  https://www.autohero.com/fr/toyota-pro-ace/id/...  \n",
       "2  https://www.autohero.com/fr/mercedes-benz-gla/...  \n",
       "3  https://www.autohero.com/fr/bmw-x-1/id/490f203...  \n",
       "4  https://www.autohero.com/fr/peugeot-3008/id/df...  "
      ]
     },
     "execution_count": 3,
     "metadata": {},
     "output_type": "execute_result"
    }
   ],
   "source": [
    "df.head()"
   ]
  },
  {
   "cell_type": "code",
   "execution_count": 4,
   "id": "1bf1b81e",
   "metadata": {},
   "outputs": [
    {
     "data": {
      "text/plain": [
       "(2352, 20)"
      ]
     },
     "execution_count": 4,
     "metadata": {},
     "output_type": "execute_result"
    }
   ],
   "source": [
    "df.shape"
   ]
  },
  {
   "cell_type": "markdown",
   "id": "ac2b10e0",
   "metadata": {},
   "source": [
    "Il y a 2352 lignes (annonces) et 22 colonnes"
   ]
  },
  {
   "cell_type": "code",
   "execution_count": 5,
   "id": "95b0593f",
   "metadata": {},
   "outputs": [
    {
     "name": "stdout",
     "output_type": "stream",
     "text": [
      "<class 'pandas.core.frame.DataFrame'>\n",
      "RangeIndex: 2352 entries, 0 to 2351\n",
      "Data columns (total 20 columns):\n",
      " #   Column                        Non-Null Count  Dtype  \n",
      "---  ------                        --------------  -----  \n",
      " 0   scraped_at                    2352 non-null   object \n",
      " 1   modele                        2342 non-null   object \n",
      " 2   finition                      2342 non-null   object \n",
      " 3   prix                          2342 non-null   object \n",
      " 4   annee_mise_en_circulation     2342 non-null   object \n",
      " 5   kilometrage                   2342 non-null   object \n",
      " 6   carburant                     2342 non-null   object \n",
      " 7   transmission                  2342 non-null   object \n",
      " 8   puissance                     2342 non-null   object \n",
      " 9   nb_ancien_proprietaire        2342 non-null   object \n",
      " 10  classe_vehicule               2342 non-null   object \n",
      " 11  nb_porte                      2342 non-null   float64\n",
      " 12  nb_place                      2342 non-null   float64\n",
      " 13  couleur                       2342 non-null   object \n",
      " 14  sellerie                      2342 non-null   object \n",
      " 15  classe_emission               2342 non-null   object \n",
      " 16  emission_CO2                  2086 non-null   object \n",
      " 17  crit_air                      2337 non-null   object \n",
      " 18  usage_commerciale_anterieure  2086 non-null   object \n",
      " 19  url_annonce                   2352 non-null   object \n",
      "dtypes: float64(2), object(18)\n",
      "memory usage: 367.6+ KB\n"
     ]
    }
   ],
   "source": [
    "df.info()"
   ]
  },
  {
   "cell_type": "code",
   "execution_count": 6,
   "id": "c9daa152",
   "metadata": {},
   "outputs": [],
   "source": [
    "# Extraire l'année de mise en circulation et la convertir en int\n",
    "df[\"annee\"] = (df[\"annee_mise_en_circulation\"]\n",
    "               .str.extract(r'(\\d{4})')[0]\n",
    "               .astype('Int64'))                                  "
   ]
  },
  {
   "cell_type": "code",
   "execution_count": 7,
   "id": "711b9034",
   "metadata": {},
   "outputs": [],
   "source": [
    "# Extraire la marque de la voiture et l'insérer à côté de la colonne \"modele\"\n",
    "# en utilisant la première partie de la chaîne avant l'espace\n",
    "df.insert(df.columns.get_loc(\"modele\"), \"marque\", df[\"modele\"].str.split(\" \").str[0])"
   ]
  },
  {
   "cell_type": "markdown",
   "id": "fc156242",
   "metadata": {},
   "source": [
    "## 2. Base des modèles à récupérer le prix neuf  \n",
    "On a besoin de:\n",
    "- Nom de modèle  \n",
    "- Finition  \n",
    "- Année  "
   ]
  },
  {
   "cell_type": "code",
   "execution_count": 8,
   "id": "66f2b7b2",
   "metadata": {},
   "outputs": [],
   "source": [
    "# Liste des Modèle, finition et année\n",
    "df_model = df[[\"marque\", \"modele\", \"finition\", \"annee\"]].drop_duplicates()\n",
    "df_model = df_model.sort_values(by=[\"marque\", \"modele\", \"finition\", \"annee\"])\n",
    "df_model.reset_index(drop=True, inplace=True)\n",
    "df_model.to_csv(\"../data/processed_data/modeles_voitures.csv\", index=False)"
   ]
  },
  {
   "cell_type": "code",
   "execution_count": 9,
   "id": "ee93617a",
   "metadata": {},
   "outputs": [],
   "source": [
    "# df_model = pd.read_csv('../data/processed_data/modeles_voitures.csv')"
   ]
  },
  {
   "cell_type": "code",
   "execution_count": 10,
   "id": "b2df55bb",
   "metadata": {},
   "outputs": [
    {
     "data": {
      "application/vnd.microsoft.datawrangler.viewer.v0+json": {
       "columns": [
        {
         "name": "index",
         "rawType": "int64",
         "type": "integer"
        },
        {
         "name": "marque",
         "rawType": "object",
         "type": "string"
        },
        {
         "name": "modele",
         "rawType": "object",
         "type": "string"
        },
        {
         "name": "finition",
         "rawType": "object",
         "type": "string"
        },
        {
         "name": "annee",
         "rawType": "Int64",
         "type": "integer"
        }
       ],
       "conversionMethod": "pd.DataFrame",
       "ref": "001df692-eee1-4187-8cd8-f494de05714b",
       "rows": [
        [
         "0",
         "Abarth",
         "Abarth 124 Spider",
         "1.4 Turbo Turismo BVA",
         "2019"
        ],
        [
         "1",
         "Abarth",
         "Abarth 500",
         "1.4 Turbo T-Jet 595",
         "2020"
        ],
        [
         "2",
         "Abarth",
         "Abarth 500",
         "1.4 Turbo T-Jet 595",
         "2022"
        ],
        [
         "3",
         "Abarth",
         "Abarth 500",
         "1.4 Turbo T-Jet 595 Pista",
         "2018"
        ],
        [
         "4",
         "Abarth",
         "Abarth 500",
         "1.4 Turbo T-Jet 595 Turismo",
         "2020"
        ]
       ],
       "shape": {
        "columns": 4,
        "rows": 5
       }
      },
      "text/html": [
       "<div>\n",
       "<style scoped>\n",
       "    .dataframe tbody tr th:only-of-type {\n",
       "        vertical-align: middle;\n",
       "    }\n",
       "\n",
       "    .dataframe tbody tr th {\n",
       "        vertical-align: top;\n",
       "    }\n",
       "\n",
       "    .dataframe thead th {\n",
       "        text-align: right;\n",
       "    }\n",
       "</style>\n",
       "<table border=\"1\" class=\"dataframe\">\n",
       "  <thead>\n",
       "    <tr style=\"text-align: right;\">\n",
       "      <th></th>\n",
       "      <th>marque</th>\n",
       "      <th>modele</th>\n",
       "      <th>finition</th>\n",
       "      <th>annee</th>\n",
       "    </tr>\n",
       "  </thead>\n",
       "  <tbody>\n",
       "    <tr>\n",
       "      <th>0</th>\n",
       "      <td>Abarth</td>\n",
       "      <td>Abarth 124 Spider</td>\n",
       "      <td>1.4 Turbo Turismo BVA</td>\n",
       "      <td>2019</td>\n",
       "    </tr>\n",
       "    <tr>\n",
       "      <th>1</th>\n",
       "      <td>Abarth</td>\n",
       "      <td>Abarth 500</td>\n",
       "      <td>1.4 Turbo T-Jet 595</td>\n",
       "      <td>2020</td>\n",
       "    </tr>\n",
       "    <tr>\n",
       "      <th>2</th>\n",
       "      <td>Abarth</td>\n",
       "      <td>Abarth 500</td>\n",
       "      <td>1.4 Turbo T-Jet 595</td>\n",
       "      <td>2022</td>\n",
       "    </tr>\n",
       "    <tr>\n",
       "      <th>3</th>\n",
       "      <td>Abarth</td>\n",
       "      <td>Abarth 500</td>\n",
       "      <td>1.4 Turbo T-Jet 595 Pista</td>\n",
       "      <td>2018</td>\n",
       "    </tr>\n",
       "    <tr>\n",
       "      <th>4</th>\n",
       "      <td>Abarth</td>\n",
       "      <td>Abarth 500</td>\n",
       "      <td>1.4 Turbo T-Jet 595 Turismo</td>\n",
       "      <td>2020</td>\n",
       "    </tr>\n",
       "  </tbody>\n",
       "</table>\n",
       "</div>"
      ],
      "text/plain": [
       "   marque             modele                     finition  annee\n",
       "0  Abarth  Abarth 124 Spider        1.4 Turbo Turismo BVA   2019\n",
       "1  Abarth         Abarth 500          1.4 Turbo T-Jet 595   2020\n",
       "2  Abarth         Abarth 500          1.4 Turbo T-Jet 595   2022\n",
       "3  Abarth         Abarth 500    1.4 Turbo T-Jet 595 Pista   2018\n",
       "4  Abarth         Abarth 500  1.4 Turbo T-Jet 595 Turismo   2020"
      ]
     },
     "execution_count": 10,
     "metadata": {},
     "output_type": "execute_result"
    }
   ],
   "source": [
    "df_model.head()"
   ]
  },
  {
   "cell_type": "code",
   "execution_count": 11,
   "id": "c75f20f3",
   "metadata": {},
   "outputs": [
    {
     "data": {
      "text/plain": [
       "marque      1\n",
       "modele      1\n",
       "finition    1\n",
       "annee       1\n",
       "dtype: int64"
      ]
     },
     "execution_count": 11,
     "metadata": {},
     "output_type": "execute_result"
    }
   ],
   "source": [
    "# Check missing values\n",
    "df_model.isnull().sum()"
   ]
  },
  {
   "cell_type": "code",
   "execution_count": 12,
   "id": "a4a12b49",
   "metadata": {},
   "outputs": [],
   "source": [
    "# Supprimer missing values\n",
    "df_model = df_model.dropna()"
   ]
  },
  {
   "cell_type": "code",
   "execution_count": 13,
   "id": "607e11ec",
   "metadata": {},
   "outputs": [],
   "source": [
    "df_model[\"annee\"] = df_model[\"annee\"].astype(int)"
   ]
  },
  {
   "cell_type": "code",
   "execution_count": 14,
   "id": "48eb99cc",
   "metadata": {},
   "outputs": [
    {
     "data": {
      "text/plain": [
       "(1613, 4)"
      ]
     },
     "execution_count": 14,
     "metadata": {},
     "output_type": "execute_result"
    }
   ],
   "source": [
    "# Dimension\n",
    "df_model.shape"
   ]
  },
  {
   "cell_type": "code",
   "execution_count": 15,
   "id": "fd441c02",
   "metadata": {},
   "outputs": [],
   "source": [
    "# Liste des modèles et années\n",
    "df = df_model[[\"marque\", \"modele\", \"annee\"]].drop_duplicates()\n",
    "df = df.sort_values(by=[\"marque\", \"modele\", \"annee\"])\n",
    "df.reset_index(drop=True, inplace=True)"
   ]
  },
  {
   "cell_type": "code",
   "execution_count": 16,
   "id": "40a33412",
   "metadata": {},
   "outputs": [
    {
     "data": {
      "application/vnd.microsoft.datawrangler.viewer.v0+json": {
       "columns": [
        {
         "name": "index",
         "rawType": "int64",
         "type": "integer"
        },
        {
         "name": "marque",
         "rawType": "object",
         "type": "string"
        },
        {
         "name": "modele",
         "rawType": "object",
         "type": "string"
        },
        {
         "name": "annee",
         "rawType": "int64",
         "type": "integer"
        }
       ],
       "conversionMethod": "pd.DataFrame",
       "ref": "e52550ff-745a-4541-b70c-68f07928d93f",
       "rows": [
        [
         "0",
         "Abarth",
         "Abarth 124 Spider",
         "2019"
        ],
        [
         "1",
         "Abarth",
         "Abarth 500",
         "2018"
        ],
        [
         "2",
         "Abarth",
         "Abarth 500",
         "2019"
        ],
        [
         "3",
         "Abarth",
         "Abarth 500",
         "2020"
        ],
        [
         "4",
         "Abarth",
         "Abarth 500",
         "2022"
        ]
       ],
       "shape": {
        "columns": 3,
        "rows": 5
       }
      },
      "text/html": [
       "<div>\n",
       "<style scoped>\n",
       "    .dataframe tbody tr th:only-of-type {\n",
       "        vertical-align: middle;\n",
       "    }\n",
       "\n",
       "    .dataframe tbody tr th {\n",
       "        vertical-align: top;\n",
       "    }\n",
       "\n",
       "    .dataframe thead th {\n",
       "        text-align: right;\n",
       "    }\n",
       "</style>\n",
       "<table border=\"1\" class=\"dataframe\">\n",
       "  <thead>\n",
       "    <tr style=\"text-align: right;\">\n",
       "      <th></th>\n",
       "      <th>marque</th>\n",
       "      <th>modele</th>\n",
       "      <th>annee</th>\n",
       "    </tr>\n",
       "  </thead>\n",
       "  <tbody>\n",
       "    <tr>\n",
       "      <th>0</th>\n",
       "      <td>Abarth</td>\n",
       "      <td>Abarth 124 Spider</td>\n",
       "      <td>2019</td>\n",
       "    </tr>\n",
       "    <tr>\n",
       "      <th>1</th>\n",
       "      <td>Abarth</td>\n",
       "      <td>Abarth 500</td>\n",
       "      <td>2018</td>\n",
       "    </tr>\n",
       "    <tr>\n",
       "      <th>2</th>\n",
       "      <td>Abarth</td>\n",
       "      <td>Abarth 500</td>\n",
       "      <td>2019</td>\n",
       "    </tr>\n",
       "    <tr>\n",
       "      <th>3</th>\n",
       "      <td>Abarth</td>\n",
       "      <td>Abarth 500</td>\n",
       "      <td>2020</td>\n",
       "    </tr>\n",
       "    <tr>\n",
       "      <th>4</th>\n",
       "      <td>Abarth</td>\n",
       "      <td>Abarth 500</td>\n",
       "      <td>2022</td>\n",
       "    </tr>\n",
       "  </tbody>\n",
       "</table>\n",
       "</div>"
      ],
      "text/plain": [
       "   marque             modele  annee\n",
       "0  Abarth  Abarth 124 Spider   2019\n",
       "1  Abarth         Abarth 500   2018\n",
       "2  Abarth         Abarth 500   2019\n",
       "3  Abarth         Abarth 500   2020\n",
       "4  Abarth         Abarth 500   2022"
      ]
     },
     "execution_count": 16,
     "metadata": {},
     "output_type": "execute_result"
    }
   ],
   "source": [
    "df.head()"
   ]
  },
  {
   "cell_type": "code",
   "execution_count": 17,
   "id": "81e9c366",
   "metadata": {},
   "outputs": [
    {
     "name": "stdout",
     "output_type": "stream",
     "text": [
      "['Abarth' 'Alfa' 'Audi' 'BMW' 'Citroen' 'Cupra' 'DS' 'Dacia' 'Fiat' 'Ford'\n",
      " 'Honda' 'Hyundai' 'Infiniti' 'Jaguar' 'Jeep' 'Kia' 'Land' 'Lexus' 'MG'\n",
      " 'MINI' 'Mazda' 'Mercedes-Benz' 'Mitsubishi' 'Nissan' 'Opel' 'Peugeot'\n",
      " 'Renault' 'Seat' 'Skoda' 'Smart' 'Suzuki' 'Toyota' 'Volkswagen' 'Volvo']\n",
      "34\n"
     ]
    }
   ],
   "source": [
    "print(df[\"marque\"].unique())\n",
    "print(len(df[\"marque\"].unique()))"
   ]
  },
  {
   "cell_type": "code",
   "execution_count": 18,
   "id": "43850e15",
   "metadata": {},
   "outputs": [
    {
     "name": "stdout",
     "output_type": "stream",
     "text": [
      "['Abarth' 'Alfa Romeo' 'Audi' 'BMW' 'Citroen' 'Cupra' 'DS' 'Dacia' 'Fiat'\n",
      " 'Ford' 'Honda' 'Hyundai' 'Infiniti' 'Jaguar' 'Jeep' 'Kia' 'Land Rover'\n",
      " 'Lexus' 'MG' 'MINI' 'Mazda' 'Mercedes' 'Mitsubishi' 'Nissan' 'Opel'\n",
      " 'Peugeot' 'Renault' 'Seat' 'Skoda' 'Smart' 'Suzuki' 'Toyota' 'Volkswagen'\n",
      " 'Volvo']\n",
      "34\n"
     ]
    }
   ],
   "source": [
    "# Rename \"marque\" to match with the right name used in the caradisiac website\n",
    "dict_name_marque = {'Abarth' : 'Abarth', 'Alfa' : 'Alfa Romeo', 'Audi' : 'Audi', \n",
    "                    'BMW' : 'BMW', \n",
    "                    'Citroen' : 'Citroen', 'Cupra' : 'Cupra', \n",
    "                    'DS' : 'DS', 'Dacia' : 'Dacia',\n",
    "                    'Fiat' : 'Fiat', 'Ford' : 'Ford', \n",
    "                    'Honda' : 'Honda', 'Hyundai' : 'Hyundai', \n",
    "                    'Infiniti' : 'Infiniti', \n",
    "                    'Jaguar' : 'Jaguar', 'Jeep' : 'Jeep',\n",
    "                    'Kia' : 'Kia', \n",
    "                    'Land' : 'Land Rover', 'Lexus' : 'Lexus', \n",
    "                    'MG' : \"MG\", 'MINI' : 'MINI', 'Mazda' : 'Mazda', 'Mercedes-Benz' : 'Mercedes', 'Mitsubishi' : 'Mitsubishi', \n",
    "                    'Nissan' : 'Nissan', \n",
    "                    'Opel' : 'Opel', \n",
    "                    'Peugeot' : 'Peugeot', \n",
    "                    'Renault' : 'Renault', \n",
    "                    'Seat' : 'Seat', 'Skoda' : 'Skoda', 'Smart' : 'Smart', 'Suzuki' : 'Suzuki', \n",
    "                    'Toyota' : 'Toyota', \n",
    "                    'Volkswagen' : 'Volkswagen', 'Volvo' : 'Volvo'\n",
    "                    }\n",
    "\n",
    "df['marque'] = df['marque'].replace(dict_name_marque)\n",
    "print(df[\"marque\"].unique())\n",
    "print(len(df[\"marque\"].unique()))"
   ]
  },
  {
   "cell_type": "code",
   "execution_count": 19,
   "id": "d8cdcea8",
   "metadata": {},
   "outputs": [
    {
     "data": {
      "application/vnd.microsoft.datawrangler.viewer.v0+json": {
       "columns": [
        {
         "name": "index",
         "rawType": "int64",
         "type": "integer"
        },
        {
         "name": "marque",
         "rawType": "object",
         "type": "string"
        },
        {
         "name": "count",
         "rawType": "int64",
         "type": "integer"
        }
       ],
       "conversionMethod": "pd.DataFrame",
       "ref": "43a78c30-a8b0-405f-a5b6-a5f6ffbb7d1a",
       "rows": [
        [
         "25",
         "Abarth",
         "7"
        ],
        [
         "21",
         "Alfa Romeo",
         "10"
        ],
        [
         "5",
         "Audi",
         "45"
        ],
        [
         "8",
         "BMW",
         "35"
        ],
        [
         "1",
         "Citroen",
         "53"
        ],
        [
         "28",
         "Cupra",
         "4"
        ],
        [
         "19",
         "DS",
         "13"
        ],
        [
         "15",
         "Dacia",
         "19"
        ],
        [
         "12",
         "Fiat",
         "29"
        ],
        [
         "6",
         "Ford",
         "37"
        ],
        [
         "24",
         "Honda",
         "8"
        ],
        [
         "11",
         "Hyundai",
         "31"
        ],
        [
         "32",
         "Infiniti",
         "2"
        ],
        [
         "31",
         "Jaguar",
         "2"
        ],
        [
         "23",
         "Jeep",
         "9"
        ],
        [
         "7",
         "Kia",
         "36"
        ],
        [
         "29",
         "Land Rover",
         "3"
        ],
        [
         "26",
         "Lexus",
         "7"
        ],
        [
         "33",
         "MG",
         "1"
        ],
        [
         "18",
         "MINI",
         "15"
        ],
        [
         "17",
         "Mazda",
         "16"
        ],
        [
         "4",
         "Mercedes",
         "46"
        ],
        [
         "22",
         "Mitsubishi",
         "10"
        ],
        [
         "16",
         "Nissan",
         "18"
        ],
        [
         "9",
         "Opel",
         "35"
        ],
        [
         "2",
         "Peugeot",
         "53"
        ],
        [
         "0",
         "Renault",
         "56"
        ],
        [
         "13",
         "Seat",
         "24"
        ],
        [
         "14",
         "Skoda",
         "24"
        ],
        [
         "30",
         "Smart",
         "3"
        ],
        [
         "20",
         "Suzuki",
         "11"
        ],
        [
         "10",
         "Toyota",
         "33"
        ],
        [
         "3",
         "Volkswagen",
         "53"
        ],
        [
         "27",
         "Volvo",
         "4"
        ]
       ],
       "shape": {
        "columns": 2,
        "rows": 34
       }
      },
      "text/html": [
       "<div>\n",
       "<style scoped>\n",
       "    .dataframe tbody tr th:only-of-type {\n",
       "        vertical-align: middle;\n",
       "    }\n",
       "\n",
       "    .dataframe tbody tr th {\n",
       "        vertical-align: top;\n",
       "    }\n",
       "\n",
       "    .dataframe thead th {\n",
       "        text-align: right;\n",
       "    }\n",
       "</style>\n",
       "<table border=\"1\" class=\"dataframe\">\n",
       "  <thead>\n",
       "    <tr style=\"text-align: right;\">\n",
       "      <th></th>\n",
       "      <th>marque</th>\n",
       "      <th>count</th>\n",
       "    </tr>\n",
       "  </thead>\n",
       "  <tbody>\n",
       "    <tr>\n",
       "      <th>25</th>\n",
       "      <td>Abarth</td>\n",
       "      <td>7</td>\n",
       "    </tr>\n",
       "    <tr>\n",
       "      <th>21</th>\n",
       "      <td>Alfa Romeo</td>\n",
       "      <td>10</td>\n",
       "    </tr>\n",
       "    <tr>\n",
       "      <th>5</th>\n",
       "      <td>Audi</td>\n",
       "      <td>45</td>\n",
       "    </tr>\n",
       "    <tr>\n",
       "      <th>8</th>\n",
       "      <td>BMW</td>\n",
       "      <td>35</td>\n",
       "    </tr>\n",
       "    <tr>\n",
       "      <th>1</th>\n",
       "      <td>Citroen</td>\n",
       "      <td>53</td>\n",
       "    </tr>\n",
       "    <tr>\n",
       "      <th>28</th>\n",
       "      <td>Cupra</td>\n",
       "      <td>4</td>\n",
       "    </tr>\n",
       "    <tr>\n",
       "      <th>19</th>\n",
       "      <td>DS</td>\n",
       "      <td>13</td>\n",
       "    </tr>\n",
       "    <tr>\n",
       "      <th>15</th>\n",
       "      <td>Dacia</td>\n",
       "      <td>19</td>\n",
       "    </tr>\n",
       "    <tr>\n",
       "      <th>12</th>\n",
       "      <td>Fiat</td>\n",
       "      <td>29</td>\n",
       "    </tr>\n",
       "    <tr>\n",
       "      <th>6</th>\n",
       "      <td>Ford</td>\n",
       "      <td>37</td>\n",
       "    </tr>\n",
       "    <tr>\n",
       "      <th>24</th>\n",
       "      <td>Honda</td>\n",
       "      <td>8</td>\n",
       "    </tr>\n",
       "    <tr>\n",
       "      <th>11</th>\n",
       "      <td>Hyundai</td>\n",
       "      <td>31</td>\n",
       "    </tr>\n",
       "    <tr>\n",
       "      <th>32</th>\n",
       "      <td>Infiniti</td>\n",
       "      <td>2</td>\n",
       "    </tr>\n",
       "    <tr>\n",
       "      <th>31</th>\n",
       "      <td>Jaguar</td>\n",
       "      <td>2</td>\n",
       "    </tr>\n",
       "    <tr>\n",
       "      <th>23</th>\n",
       "      <td>Jeep</td>\n",
       "      <td>9</td>\n",
       "    </tr>\n",
       "    <tr>\n",
       "      <th>7</th>\n",
       "      <td>Kia</td>\n",
       "      <td>36</td>\n",
       "    </tr>\n",
       "    <tr>\n",
       "      <th>29</th>\n",
       "      <td>Land Rover</td>\n",
       "      <td>3</td>\n",
       "    </tr>\n",
       "    <tr>\n",
       "      <th>26</th>\n",
       "      <td>Lexus</td>\n",
       "      <td>7</td>\n",
       "    </tr>\n",
       "    <tr>\n",
       "      <th>33</th>\n",
       "      <td>MG</td>\n",
       "      <td>1</td>\n",
       "    </tr>\n",
       "    <tr>\n",
       "      <th>18</th>\n",
       "      <td>MINI</td>\n",
       "      <td>15</td>\n",
       "    </tr>\n",
       "    <tr>\n",
       "      <th>17</th>\n",
       "      <td>Mazda</td>\n",
       "      <td>16</td>\n",
       "    </tr>\n",
       "    <tr>\n",
       "      <th>4</th>\n",
       "      <td>Mercedes</td>\n",
       "      <td>46</td>\n",
       "    </tr>\n",
       "    <tr>\n",
       "      <th>22</th>\n",
       "      <td>Mitsubishi</td>\n",
       "      <td>10</td>\n",
       "    </tr>\n",
       "    <tr>\n",
       "      <th>16</th>\n",
       "      <td>Nissan</td>\n",
       "      <td>18</td>\n",
       "    </tr>\n",
       "    <tr>\n",
       "      <th>9</th>\n",
       "      <td>Opel</td>\n",
       "      <td>35</td>\n",
       "    </tr>\n",
       "    <tr>\n",
       "      <th>2</th>\n",
       "      <td>Peugeot</td>\n",
       "      <td>53</td>\n",
       "    </tr>\n",
       "    <tr>\n",
       "      <th>0</th>\n",
       "      <td>Renault</td>\n",
       "      <td>56</td>\n",
       "    </tr>\n",
       "    <tr>\n",
       "      <th>13</th>\n",
       "      <td>Seat</td>\n",
       "      <td>24</td>\n",
       "    </tr>\n",
       "    <tr>\n",
       "      <th>14</th>\n",
       "      <td>Skoda</td>\n",
       "      <td>24</td>\n",
       "    </tr>\n",
       "    <tr>\n",
       "      <th>30</th>\n",
       "      <td>Smart</td>\n",
       "      <td>3</td>\n",
       "    </tr>\n",
       "    <tr>\n",
       "      <th>20</th>\n",
       "      <td>Suzuki</td>\n",
       "      <td>11</td>\n",
       "    </tr>\n",
       "    <tr>\n",
       "      <th>10</th>\n",
       "      <td>Toyota</td>\n",
       "      <td>33</td>\n",
       "    </tr>\n",
       "    <tr>\n",
       "      <th>3</th>\n",
       "      <td>Volkswagen</td>\n",
       "      <td>53</td>\n",
       "    </tr>\n",
       "    <tr>\n",
       "      <th>27</th>\n",
       "      <td>Volvo</td>\n",
       "      <td>4</td>\n",
       "    </tr>\n",
       "  </tbody>\n",
       "</table>\n",
       "</div>"
      ],
      "text/plain": [
       "        marque  count\n",
       "25      Abarth      7\n",
       "21  Alfa Romeo     10\n",
       "5         Audi     45\n",
       "8          BMW     35\n",
       "1      Citroen     53\n",
       "28       Cupra      4\n",
       "19          DS     13\n",
       "15       Dacia     19\n",
       "12        Fiat     29\n",
       "6         Ford     37\n",
       "24       Honda      8\n",
       "11     Hyundai     31\n",
       "32    Infiniti      2\n",
       "31      Jaguar      2\n",
       "23        Jeep      9\n",
       "7          Kia     36\n",
       "29  Land Rover      3\n",
       "26       Lexus      7\n",
       "33          MG      1\n",
       "18        MINI     15\n",
       "17       Mazda     16\n",
       "4     Mercedes     46\n",
       "22  Mitsubishi     10\n",
       "16      Nissan     18\n",
       "9         Opel     35\n",
       "2      Peugeot     53\n",
       "0      Renault     56\n",
       "13        Seat     24\n",
       "14       Skoda     24\n",
       "30       Smart      3\n",
       "20      Suzuki     11\n",
       "10      Toyota     33\n",
       "3   Volkswagen     53\n",
       "27       Volvo      4"
      ]
     },
     "execution_count": 19,
     "metadata": {},
     "output_type": "execute_result"
    }
   ],
   "source": [
    "freq_marque = df[\"marque\"].value_counts().reset_index().sort_values(by='marque')\n",
    "freq_marque"
   ]
  },
  {
   "cell_type": "markdown",
   "id": "47a09089",
   "metadata": {},
   "source": [
    "## 2. Essai avec request et BeautifulSoup"
   ]
  },
  {
   "cell_type": "code",
   "execution_count": 20,
   "id": "7fc20dad",
   "metadata": {},
   "outputs": [],
   "source": [
    "# Function to scrape car catalogue prices from Caradisiac\n",
    "def clean_model_name(model):\n",
    "    # Remove special characters and normalize spaces\n",
    "    model_v2 = re.sub(r'[^\\w\\s]', '', model).strip().lower()\n",
    "    model_v3 = model_v2.replace(' ', '-')\n",
    "    return model_v3\n",
    "\n",
    "def scrape_caradisiac_price(modele, annee):\n",
    "    base_url = \"https://www.caradisiac.com/fiches-techniques/modele--\"\n",
    "    \n",
    "    # Build search URL\n",
    "    clean_model = clean_model_name(modele)\n",
    "    search_url = f\"{base_url}{clean_model}/{str(annee)}\"\n",
    "    \n",
    "    print(f\"Search url original pattern is: {search_url}\")\n",
    "    \n",
    "    try:\n",
    "        # First attempt with original pattern\n",
    "        time.sleep(5)\n",
    "        response = requests.get(search_url)\n",
    "        #print(f\"Code Status: {response.status_code}\")\n",
    "        if response.status_code != 200:\n",
    "            # Try alternative URL patterns\n",
    "            alternative_models = [\n",
    "                clean_model.replace('_', ''), # Remove \"_\"\n",
    "                '-'.join([clean_model.replace('_', ''), \"2e\", \"generation\"])  # join with version\n",
    "            ] + ['-'.join([clean_model.replace('_', ''), str(i)]) for i in range(1,6)]\n",
    "            \n",
    "            #print(f\"Alternative urls: {alternative_models}\")\n",
    "            \n",
    "            for alt_model in alternative_models:\n",
    "                time.sleep(5)\n",
    "                alt_url = f\"{base_url}{alt_model}/{str(annee)}\"\n",
    "                response = requests.get(alt_url)\n",
    "                if response.status_code == 200:\n",
    "                    search_url = alt_url\n",
    "                    break\n",
    "        # Add delay to be respectful to the server\n",
    "        time.sleep(5)\n",
    "        \n",
    "        # Make request\n",
    "        print(f\"L'url final est: {search_url}\")\n",
    "        response = requests.get(search_url)\n",
    "        soup = BeautifulSoup(response.text, 'html.parser')\n",
    "        \n",
    "        # Find all car versions\n",
    "        versions = soup.find_all('table', class_='listingTab')\n",
    "\n",
    "        # Extract all rows from the table\n",
    "        table = versions[0]  # Since versions contains only one table\n",
    "        rows = table.find_all('tr')\n",
    "\n",
    "        # Initialize lists to store data\n",
    "        data = []\n",
    "        headers = []\n",
    "\n",
    "        # Get headers from first row\n",
    "        header_row = rows[0]\n",
    "        headers = [th.get_text(strip=True) for th in header_row.find_all('th')]\n",
    "\n",
    "        # Get data from remaining rows\n",
    "        for row in rows[1:]:\n",
    "            cols = row.find_all('td')\n",
    "            row_data = [col.get_text(strip=True) for col in cols]\n",
    "            if row_data:  # Only add non-empty rows\n",
    "                data.append(row_data)\n",
    "        # Create DataFrame\n",
    "        df = pd.DataFrame(data, columns=headers)\n",
    "        df['url'] = search_url\n",
    "        return df    \n",
    "    except Exception as e:\n",
    "        print(f\"Error scraping {modele}: {str(e)}\")\n",
    "        return None"
   ]
  },
  {
   "cell_type": "code",
   "execution_count": 21,
   "id": "5b79234d",
   "metadata": {},
   "outputs": [],
   "source": [
    "# # Create an empty DataFrame to store all results\n",
    "# df_all = pd.DataFrame()\n",
    "\n",
    "# # Add progress tracking\n",
    "# total_models = len(df)\n",
    "# print(f\"Starting to scrape {total_models} models...\")\n",
    "\n",
    "# for idx, row in df.iterrows():\n",
    "#     try:\n",
    "#         print(f\"Processing {idx+1}/{total_models}: {row['modele']} ({row['annee']})\")\n",
    "#         df_version = scrape_caradisiac_price(row['modele'], row['annee'])\n",
    "        \n",
    "#         if df_version is not None:\n",
    "#             # Add model and year columns to identify the source\n",
    "#             df_version.insert(0, 'source_model', row['modele'])\n",
    "#             df_version.insert(1, 'source_year', row['annee'])\n",
    "#             df_all = pd.concat([df_all, df_version], ignore_index=True)\n",
    "            \n",
    "#     except Exception as e:\n",
    "#         print(f\"Error processing {row['modele']} ({row['annee']}): {str(e)}\")\n",
    "#         continue\n",
    "\n",
    "# print(f\"\\nScraping completed. Total entries collected: {len(df_all)}\")"
   ]
  },
  {
   "cell_type": "markdown",
   "id": "850ded67",
   "metadata": {},
   "source": [
    "## 3. Essai avec Selenium pour retrouver les bons urls\n"
   ]
  },
  {
   "cell_type": "code",
   "execution_count": 22,
   "id": "88db6226",
   "metadata": {},
   "outputs": [],
   "source": [
    "def select_option_contain (select_element, partial_text):\n",
    "    select = Select(select_element)\n",
    "\n",
    "    #print(f\"Partial text est: {partial_text}\")\n",
    "    accents = {\n",
    "            'a': r'[àáâãäå]',\n",
    "            'e': r'[èéêë]',\n",
    "            'i': r'[ìíîï]',\n",
    "            'o': r'[òóôõö]',\n",
    "            'u': r'[ùúûü]',\n",
    "            'c': r'[ç]',\n",
    "            'n': r'[ñ]',\n",
    "            'A': r'[ÀÁÂÃÄÅ]',\n",
    "            'E': r'[ÈÉÊË]',\n",
    "            'I': r'[ÌÍÎÏ]',\n",
    "            'O': r'[ÒÓÔÕÖ]',\n",
    "            'U': r'[ÙÚÛÜ]',\n",
    "            'C': r'[Ç]',\n",
    "            'N': r'[Ñ]',\n",
    "        }\n",
    "    # Remove special characters with accent\n",
    "    for remplacement, pattern in accents.items():\n",
    "        partial_text = re.sub(pattern, remplacement, partial_text)\n",
    "    print(f\"Partial text: {partial_text}\")\n",
    "\n",
    "    # First check for exact matches\n",
    "    for option in select.options:\n",
    "        #if option.get_attribute(\"value\").strip() != \"\" and partial_text.strip().lower() == option.text.strip().lower():\n",
    "        if (option.get_attribute(\"value\").strip() != \"\" and \n",
    "            partial_text.lower() == option.text.lower()\n",
    "            ):\n",
    "            select.select_by_visible_text(option.text)\n",
    "            print(f\"Found exact match: {option.text}\")\n",
    "            option_select = \"Very Exact match\"\n",
    "            return option.text, option_select\n",
    "            break\n",
    "        \n",
    "    # Check for exact matches after removing space and \"-\"\n",
    "    for option in select.options:\n",
    "        if (option.get_attribute(\"value\").strip() != \"\" and \n",
    "            re.sub(r\"[\\s\\-]\", \"\", partial_text.strip().lower()) == re.sub(r\"[\\s\\-]\", \"\", option.text.strip().lower())\n",
    "            ): # remove any space and \"-\"\n",
    "            select.select_by_visible_text(option.text)\n",
    "            print(f\"Found exact match: {option.text}\")\n",
    "            option_select = \"Exact match\"\n",
    "            return option.text, option_select\n",
    "            break\n",
    "             \n",
    "    # If no exact match found, check for partial matches\n",
    "    best_match = None\n",
    "    max_common_chars = 0\n",
    "    \n",
    "    for option in select.options:\n",
    "        if option.get_attribute(\"value\").strip() != \"\":\n",
    "            option_text = re.sub(r\"[\\s\\-]\", \"\", option.text.strip().lower()) # remove any space\n",
    "            partial_text_lower = re.sub(r\"[\\s\\-]\", \"\", partial_text.strip().lower()) # remove any space\n",
    "            \n",
    "            # Count common characters\n",
    "            common_chars = sum(1 for c in option_text if c in partial_text_lower)\n",
    "            \n",
    "            # Check if this is a partial match and has more common characters\n",
    "            if ((partial_text_lower in option_text) or (option_text in partial_text_lower)) and common_chars > max_common_chars:\n",
    "                max_common_chars = common_chars\n",
    "                best_match = option\n",
    "    # Retain the best partial match = the option that has more common characters with the partial text\n",
    "    if best_match is not None:\n",
    "        select.select_by_visible_text(best_match.text)\n",
    "        print(f\"Found best partial match: {best_match.text}\")\n",
    "        option_select = \"Partial match\"\n",
    "        return best_match.text, option_select\n"
   ]
  },
  {
   "cell_type": "code",
   "execution_count": 23,
   "id": "21ab2d17",
   "metadata": {},
   "outputs": [],
   "source": [
    "def clean_name(model):\n",
    "    # Remove special characters and normalize spaces\n",
    "    accents = {\n",
    "            'a': r'[àáâãäå]',\n",
    "            'e': r'[èéêë]',\n",
    "            'i': r'[ìíîï]',\n",
    "            'o': r'[òóôõö]',\n",
    "            'u': r'[ùúûü]',\n",
    "            'c': r'[ç]',\n",
    "            'n': r'[ñ]',\n",
    "            'A': r'[ÀÁÂÃÄÅ]',\n",
    "            'E': r'[ÈÉÊË]',\n",
    "            'I': r'[ÌÍÎÏ]',\n",
    "            'O': r'[ÒÓÔÕÖ]',\n",
    "            'U': r'[ÙÚÛÜ]',\n",
    "            'C': r'[Ç]',\n",
    "            'N': r'[Ñ]',\n",
    "        }\n",
    "\n",
    "    for remplacement, pattern in accents.items():\n",
    "        model = re.sub(pattern, remplacement, model)\n",
    "    model = re.sub(r'[^\\w\\s\\-!]', '', model).strip().lower()\n",
    "\n",
    "    model = model.replace(' ', '-')\n",
    "    \n",
    "    return model"
   ]
  },
  {
   "cell_type": "code",
   "execution_count": 24,
   "id": "6561102e",
   "metadata": {},
   "outputs": [],
   "source": [
    "# list_models = pd.unique(df['modele'])\n",
    "# print(list_models)\n",
    "# print([i for i in list_models if \"!\" in i ])\n",
    "\n",
    "# list_models_cleaned = [clean_name(model) for model in list_models]\n",
    "# print(list_models_cleaned)\n",
    "\n",
    "# list_models_test = [any(char in i for char in 'éèêëàâäôöûüçñ') for i in list_models_cleaned]\n",
    "# print([i for i in list_models_test if i == True])"
   ]
  },
  {
   "cell_type": "code",
   "execution_count": 25,
   "id": "dff65cc7",
   "metadata": {},
   "outputs": [],
   "source": [
    "def collect_prix_neuf (url, marque, modele, annee, wait_sec=10):\n",
    "    '''\n",
    "    Guessing the convenient urls\n",
    "    Arguments:\n",
    "\n",
    "    '''\n",
    "\n",
    "    try:\n",
    "        # Initialiser le driver\n",
    "        driver = init_driver()\n",
    "        driver.get(url)\n",
    "        time.sleep(2)\n",
    "        \n",
    "        # Accept pop-up\n",
    "        accept_popup_general(driver, \"#didomi-notice-agree-button\")\n",
    "        time.sleep(5)\n",
    "        driver.execute_script(\"document.location.reload()\")\n",
    "        wait = WebDriverWait(driver, wait_sec)\n",
    "\n",
    "        df_all_versions = pd.DataFrame()\n",
    "        \n",
    "        # Sélectionner les options de dropdowns: Marques, Gammes, Annees, Modeles\n",
    "\n",
    "        # Marque: if contains marque\n",
    "        time.sleep(2)\n",
    "        #marque_dropdown = wait.until(EC.presence_of_element_located((By.ID, 'brands')))\n",
    "        marque_dropdown = driver.find_element(By.ID, 'brands')\n",
    "        #option_marque =  Select(marque_dropdown).select_by_visible_text(marque)\n",
    "        option_marque, match_type_marque = select_option_contain (marque_dropdown, marque)\n",
    "        print(f\"Marque: {option_marque}\")\n",
    "\n",
    "        # Gammes: if contains modele\n",
    "        #modele_dropdown = wait.until(EC.presence_of_element_located((By.ID, 'models')))\n",
    "        time.sleep(2)\n",
    "        modele_dropdown = driver.find_element(By.ID, 'models')\n",
    "        #print(f\"Modèle initial est: {modele}\")\n",
    "        option_modele, match_type_modele = select_option_contain (modele_dropdown, modele)\n",
    "        print(f\"Modèle: {option_modele}\")\n",
    "        \n",
    "        # Annees = annee\n",
    "        #annee_dropdown = wait.until(EC.presence_of_element_located((By.ID, 'year')))\n",
    "        time.sleep(2)\n",
    "        annee_dropdown = driver.find_element(By.ID, 'year')\n",
    "        option_year, match_type_year = select_option_contain(annee_dropdown, str(annee))\n",
    "        #print(f\"Liste année: {[option.text for option in Select(annee_dropdown).options]}\")\n",
    "        #print(f\"Année choisie: {option_year}\")\n",
    "        \n",
    "        # Modeles: extract all (for i in range modeles.options)\n",
    "        #modelscomm_dropdown = wait.until(EC.presence_of_element_located((By.ID, 'modelscomm')))\n",
    "        time.sleep(2)\n",
    "        modelscomm_dropdown = driver.find_element(By.ID, 'modelscomm')\n",
    "        select_modelscomm = Select(modelscomm_dropdown)\n",
    "\n",
    "        # Exclure version vide\n",
    "        versions = [option.text for option in select_modelscomm.options if option.get_attribute(\"value\").strip() != \"\"]\n",
    "        print(f\"Liste des versions: {versions}\")\n",
    "       \n",
    "        if versions:  # This checks if the list is not empty\n",
    "            for version in versions:\n",
    "                data = []\n",
    "                #select_modelscomm.select_by_visible_text(version.text)\n",
    "                option_marque_cleaned = clean_name(option_marque)\n",
    "                option_version = clean_name(version)\n",
    "                \n",
    "                search_url_version = f\"{url}/modele--{option_marque_cleaned}-{option_version}/{option_year}\"\n",
    "                print(f\"Extraire la fiche technique de: {version} - année {option_year}\")\n",
    "                print(f\"Search url est : {search_url_version}\")\n",
    "\n",
    "                try:\n",
    "                    driver.get(search_url_version)\n",
    "                    time.sleep(2)\n",
    "                    \n",
    "                    # Récupérer le tableau \"listingTab\"\n",
    "                    table = wait.until(EC.presence_of_element_located((By.CSS_SELECTOR, 'table.listingTab')))\n",
    "\n",
    "                    # Get all rows including header row\n",
    "                    rows = table.find_elements(By.TAG_NAME, 'tr')\n",
    "\n",
    "                    # Get headers from first row\n",
    "                    headers = rows[0].find_elements(By.TAG_NAME, 'th')\n",
    "                    header_texts = [header.text for header in headers]\n",
    "\n",
    "                    # Get data from remaining rows\n",
    "                    for row in rows[1:]:\n",
    "                        cells = row.find_elements(By.TAG_NAME, 'td')\n",
    "                        row_data = [cell.text for cell in cells]\n",
    "                        if row_data:\n",
    "                            data.append(row_data)\n",
    "\n",
    "                    # Sauvegarder le tableau dans un dataframe\n",
    "                    df = pd.DataFrame(data, columns=header_texts)\n",
    "\n",
    "                    # Création des colonnes pour identifier le type de matching\n",
    "                    df['url'] = driver.current_url\n",
    "                    df['option_marque_select'] = option_marque\n",
    "                    df['option_modele_select'] = option_modele\n",
    "                    df['option_year_select'] = option_year\n",
    "                    df['match_type_marque'] = match_type_marque\n",
    "                    df['match_type_modele'] = match_type_modele\n",
    "                    df['match_type_year'] = match_type_year\n",
    "\n",
    "                    #print(f\"URL used is: {driver.current_url}\")\n",
    "\n",
    "                    #print(df.head())\n",
    "                    \n",
    "                    df_all_versions = pd.concat([df_all_versions, df], ignore_index=True)\n",
    "                    #driver.close()\n",
    "                    #print(f\"df all version est: {df_all_versions.head()}\")\n",
    "                except: # If error then continue with a new iteration\n",
    "                    continue\n",
    "        # Close the driver    \n",
    "        driver.quit() \n",
    "        return df_all_versions\n",
    "    except Exception as e:\n",
    "        print (f\"URL is not correct\")\n",
    "        print (f\"Error is: {e}\")\n",
    "        driver.quit()\n",
    "        return None"
   ]
  },
  {
   "cell_type": "code",
   "execution_count": 26,
   "id": "c3c7d4ec",
   "metadata": {},
   "outputs": [],
   "source": [
    "# url = \"https://www.caradisiac.com/fiches-techniques\"\n",
    "# marque = \"BMW\"\n",
    "# modele = \"BMW Série 1\"\n",
    "# annee = \"2021\"\n",
    "# df_test = collect_prix_neuf (url, marque, modele, annee)"
   ]
  },
  {
   "cell_type": "code",
   "execution_count": 27,
   "id": "663ea8ca",
   "metadata": {},
   "outputs": [],
   "source": [
    "def scraping_prix_neuf (df, csv_path_ok, csv_path_ko, wait_time = 10):\n",
    "    # Create an empty DataFrame to store all results\n",
    "    df_all = pd.DataFrame()\n",
    "\n",
    "    df_error = pd.DataFrame()\n",
    "\n",
    "    # Add progress tracking\n",
    "    total_models = len(df)\n",
    "    print(f\"⏳ Starting to scrape {total_models} models & years...\")\n",
    "\n",
    "    # url\n",
    "    url = \"https://www.caradisiac.com/fiches-techniques\"\n",
    "\n",
    "    for idx, row in df.iterrows():\n",
    "        try:\n",
    "            print(f\"--> 🔄Processing {idx+1}/{total_models}: {row['modele']} ({row['annee']})\")\n",
    "            df_version = collect_prix_neuf (url, row['marque'], row['modele'], row['annee'], wait_time)\n",
    "            \n",
    "            if df_version is not None:\n",
    "                # Add model and year columns to identify the source\n",
    "                df_version.insert(0, 'source_model', row['modele'])\n",
    "                df_version.insert(1, 'source_year', row['annee'])\n",
    "                df_all = pd.concat([df_all, df_version], ignore_index=True)\n",
    "                print(f\"✅Successfully collected for {row['modele']} ({row['annee']})\")\n",
    "            else:\n",
    "                print(f\"❌Error processing {row['modele']} ({row['annee']})\")\n",
    "                df_error = pd.concat([df_error, pd.DataFrame({'modele': [row['modele']], 'annee': [row['annee']]})], ignore_index=True)    \n",
    "        except Exception as e:\n",
    "            print(f\"❌Error processing {row['modele']} ({row['annee']}): {str(e)}\")\n",
    "            continue\n",
    "\n",
    "    print(f\"\\n 🆗 Scraping completed. Total entries collected: {len(df_all)}\")\n",
    "    # Exporter les données dans un fichier CSV\n",
    "    df_all.to_csv(csv_path_ok, index=False, encoding='utf-8-sig')\n",
    "    print(f\"\\n ⚠️ Total models not found: {len(df_error)}\")\n",
    "    df_error.to_csv(csv_path_ko, index=False, encoding='utf-8-sig')\n",
    "    return None"
   ]
  },
  {
   "cell_type": "code",
   "execution_count": 28,
   "id": "95de5e9c",
   "metadata": {},
   "outputs": [],
   "source": [
    "# Fonction pour diviser le df original en plusieurs parties => pour lancer le scraping en plusieurs patchs\n",
    "def split_dataframe_by_size(df, nb_lines, csv_root):\n",
    "    list_dfs = [df[i:i+nb_lines] for i in range(0, len(df), nb_lines)]\n",
    "\n",
    "    somme_originale = len(df)\n",
    "    somme_lignes = sum(len(split) for split in list_dfs)\n",
    "\n",
    "    print(f\"Somme des lignes de la base brute = {somme_originale}\")\n",
    "    print(f\"Somme des lignes de tous les splits dataframe = {somme_lignes}\")\n",
    "    print(f'# Data split: {len(list_dfs)}')\n",
    "\n",
    "    # Save each split dataframe to CSV\n",
    "    for i, split_df in enumerate(list_dfs):\n",
    "        csv_path = f'{csv_root}/split_car_models_{i+1}.csv'\n",
    "        split_df.to_csv(csv_path, index=False)\n",
    "        print(f'Split {i+1} saved to {csv_path}')\n",
    "    \n",
    "    return list_dfs"
   ]
  },
  {
   "cell_type": "code",
   "execution_count": 29,
   "id": "6140a3f7",
   "metadata": {},
   "outputs": [
    {
     "name": "stdout",
     "output_type": "stream",
     "text": [
      "Somme des lignes de la base brute = 752\n",
      "Somme des lignes de tous les splits dataframe = 752\n",
      "# Data split: 16\n",
      "Split 1 saved to ../data/raw_data/split_car_models_1.csv\n",
      "Split 2 saved to ../data/raw_data/split_car_models_2.csv\n",
      "Split 3 saved to ../data/raw_data/split_car_models_3.csv\n",
      "Split 4 saved to ../data/raw_data/split_car_models_4.csv\n",
      "Split 5 saved to ../data/raw_data/split_car_models_5.csv\n",
      "Split 6 saved to ../data/raw_data/split_car_models_6.csv\n",
      "Split 7 saved to ../data/raw_data/split_car_models_7.csv\n",
      "Split 8 saved to ../data/raw_data/split_car_models_8.csv\n",
      "Split 9 saved to ../data/raw_data/split_car_models_9.csv\n",
      "Split 10 saved to ../data/raw_data/split_car_models_10.csv\n",
      "Split 11 saved to ../data/raw_data/split_car_models_11.csv\n",
      "Split 12 saved to ../data/raw_data/split_car_models_12.csv\n",
      "Split 13 saved to ../data/raw_data/split_car_models_13.csv\n",
      "Split 14 saved to ../data/raw_data/split_car_models_14.csv\n",
      "Split 15 saved to ../data/raw_data/split_car_models_15.csv\n",
      "Split 16 saved to ../data/raw_data/split_car_models_16.csv\n"
     ]
    }
   ],
   "source": [
    "list_df_split = split_dataframe_by_size(df, 50, \"../data/raw_data\")"
   ]
  },
  {
   "cell_type": "markdown",
   "id": "544ab48d",
   "metadata": {},
   "source": [
    "### First attempt"
   ]
  },
  {
   "cell_type": "code",
   "execution_count": 30,
   "id": "66b621cf",
   "metadata": {},
   "outputs": [
    {
     "name": "stdout",
     "output_type": "stream",
     "text": [
      "File ../data/processed_data/prix_neuf_voitures_pack1.csv already exists, skipping...\n",
      "File ../data/processed_data/prix_neuf_voitures_pack2.csv already exists, skipping...\n",
      "File ../data/processed_data/prix_neuf_voitures_pack3.csv already exists, skipping...\n",
      "File ../data/processed_data/prix_neuf_voitures_pack4.csv already exists, skipping...\n",
      "File ../data/processed_data/prix_neuf_voitures_pack5.csv already exists, skipping...\n",
      "File ../data/processed_data/prix_neuf_voitures_pack6.csv already exists, skipping...\n",
      "File ../data/processed_data/prix_neuf_voitures_pack7.csv already exists, skipping...\n",
      "File ../data/processed_data/prix_neuf_voitures_pack8.csv already exists, skipping...\n",
      "File ../data/processed_data/prix_neuf_voitures_pack9.csv already exists, skipping...\n",
      "File ../data/processed_data/prix_neuf_voitures_pack10.csv already exists, skipping...\n",
      "File ../data/processed_data/prix_neuf_voitures_pack11.csv already exists, skipping...\n",
      "File ../data/processed_data/prix_neuf_voitures_pack12.csv already exists, skipping...\n",
      "File ../data/processed_data/prix_neuf_voitures_pack13.csv already exists, skipping...\n",
      "File ../data/processed_data/prix_neuf_voitures_pack14.csv already exists, skipping...\n",
      "File ../data/processed_data/prix_neuf_voitures_pack15.csv already exists, skipping...\n",
      "File ../data/processed_data/prix_neuf_voitures_pack16.csv already exists, skipping...\n"
     ]
    }
   ],
   "source": [
    "# Process by pack\n",
    "path = \"../data/raw_data\"\n",
    "pattern = \"split_car_models_*.csv\"\n",
    "files = glob.glob(os.path.join(path, pattern))\n",
    "nb_split_df = len(files)\n",
    "\n",
    "for i, path_split in enumerate(files):\n",
    "    csv_path_ok = '../data/processed_data/prix_neuf_voitures_pack' + str(i+1) + '.csv'\n",
    "    \n",
    "    # Only execute if output file doesn't exist\n",
    "    if not os.path.exists(csv_path_ok):\n",
    "        data = pd.read_csv(path_split)\n",
    "        csv_path_ko = '../data/processed_data/prix_neuf_voitures_pack' + str(i+1) + '_error.csv'\n",
    "\n",
    "        # Run scraping\n",
    "        scraping_prix_neuf(data, csv_path_ok, csv_path_ko)\n",
    "    else:\n",
    "        print(f\"File {csv_path_ok} already exists, skipping...\")"
   ]
  },
  {
   "cell_type": "code",
   "execution_count": 31,
   "id": "88898e97",
   "metadata": {},
   "outputs": [
    {
     "name": "stdout",
     "output_type": "stream",
     "text": [
      "752 modèles et années à collecter: \n",
      " ['Abarth 124 Spider 2019', 'Abarth 500 2018', 'Abarth 500 2019', 'Abarth 500 2020', 'Abarth 500 2022', 'Abarth 595 2017', 'Abarth 595C 2020', 'Alfa Romeo Giulia 2020', 'Alfa Romeo Giulia 2021', 'Alfa Romeo Giulietta 2017', 'Alfa Romeo Giulietta 2018', 'Alfa Romeo Giulietta 2019', 'Alfa Romeo Giulietta 2021', 'Alfa Romeo Stelvio 2017', 'Alfa Romeo Stelvio 2018', 'Alfa Romeo Tonale 2023', 'Alfa Romeo Tonale 2024', 'Audi A1 2017', 'Audi A1 2018', 'Audi A1 2019', 'Audi A1 2020', 'Audi A1 2021', 'Audi A1 2023', 'Audi A1 citycarver 2021', 'Audi A3 2017', 'Audi A3 2018', 'Audi A3 2019', 'Audi A3 2020', 'Audi A3 2021', 'Audi A3 2022', 'Audi A3 2023', 'Audi A3 Limousine 2017', 'Audi A3 Limousine 2019', 'Audi A3 Limousine 2021', 'Audi A4 2018', 'Audi A4 2019', 'Audi A4 2020', 'Audi A4 2021', 'Audi A4 2022', 'Audi A5 Sportback 2020', 'Audi A5 Sportback 2022', 'Audi A6 2018', 'Audi Q2 2017', 'Audi Q2 2018', 'Audi Q2 2019', 'Audi Q2 2020', 'Audi Q2 2022', 'Audi Q2 2023', 'Audi Q3 2017', 'Audi Q3 2018', 'Audi Q3 2019', 'Audi Q3 2020', 'Audi Q3 2021', 'Audi Q3 2022', 'Audi Q3 Sportback 2020', 'Audi Q3 Sportback 2021', 'Audi Q5 2017', 'Audi Q5 2019', 'Audi Q5 2020', 'Audi TT 2017', 'Audi TT 2019', 'Audi TT 2020', 'BMW Série 1 2017', 'BMW Série 1 2018', 'BMW Série 1 2019', 'BMW Série 1 2020', 'BMW Série 1 2021', 'BMW Série 1 2022', 'BMW Série 1 2023', 'BMW Série 2 2017', 'BMW Série 2 2018', 'BMW Série 2 2019', 'BMW Série 2 2021', 'BMW Série 2 2023', 'BMW Série 3 2017', 'BMW Série 3 2018', 'BMW Série 3 2019', 'BMW Série 3 2020', 'BMW Série 3 2024', 'BMW Série 4 2019', 'BMW Série 4 2022', 'BMW Série 5 2017', 'BMW Série 5 2020', 'BMW X1 2017', 'BMW X1 2018', 'BMW X1 2019', 'BMW X1 2020', 'BMW X1 2021', 'BMW X1 2022', 'BMW X2 2019', 'BMW X2 2020', 'BMW X2 2021', 'BMW X2 2022', 'BMW X3 2017', 'BMW X3 2020', 'BMW X4 2019', 'BMW Z4 2019', 'Citroen Berlingo 2019', 'Citroen Berlingo 2020', 'Citroen Berlingo 2021', 'Citroen Berlingo 2022', 'Citroen C1 2017', 'Citroen C1 2018', 'Citroen C1 2020', 'Citroen C1 2021', 'Citroen C3 2017', 'Citroen C3 2018', 'Citroen C3 2019', 'Citroen C3 2020', 'Citroen C3 2021', 'Citroen C3 2023', 'Citroen C3 2024', 'Citroen C3 Aircross 2017', 'Citroen C3 Aircross 2018', 'Citroen C3 Aircross 2019', 'Citroen C3 Aircross 2020', 'Citroen C3 Aircross 2021', 'Citroen C3 Aircross 2022', 'Citroen C3 Aircross 2023', 'Citroen C4 2018', 'Citroen C4 2021', 'Citroen C4 2022', 'Citroen C4 2023', 'Citroen C4 Cactus 2017', 'Citroen C4 Cactus 2019', 'Citroen C4 Cactus 2020', 'Citroen C4 Grand Picasso 2017', 'Citroen C4 Grand Picasso 2019', 'Citroen C4 Grand Spacetourer 2019', 'Citroen C4 Grand Spacetourer 2021', 'Citroen C4 Picasso 2017', 'Citroen C4 Picasso 2018', 'Citroen C4 Picasso 2019', 'Citroen C4 Spacetourer 2019', 'Citroen C5 Aircross 2018', 'Citroen C5 Aircross 2019', 'Citroen C5 Aircross 2020', 'Citroen C5 Aircross 2021', 'Citroen C5 Aircross 2022', 'Citroen C5 Aircross 2023', 'Citroen C5 X 2022', 'Citroen C5 X 2023', 'Citroen DS3 2018', 'Citroen DS3 Cabrio 2017', 'Citroen DS3 Cabrio 2019', 'Citroen DS4 2018', 'Citroen DS4 Crossback 2018', 'Citroen DS5 2017', 'Citroen DS5 2018', 'Citroen Spacetourer 2020', 'Cupra Formentor 2022', 'Cupra Formentor 2023', 'Cupra Leon 2022', 'Cupra Leon 2023', 'DS Automobiles DS3 2019', 'DS Automobiles DS3 2022', 'DS Automobiles DS3 2023', 'DS Automobiles DS3 Crossback 2019', 'DS Automobiles DS3 Crossback 2020', 'DS Automobiles DS3 Crossback 2021', 'DS Automobiles DS3 Crossback 2022', 'DS Automobiles DS4 2021', 'DS Automobiles DS4 2022', 'DS Automobiles DS7 2022', 'DS Automobiles DS7 Crossback 2018', 'DS Automobiles DS7 Crossback 2020', 'DS Automobiles DS7 Crossback 2021', 'Dacia Dokker 2019', 'Dacia Duster 2018', 'Dacia Duster 2019', 'Dacia Duster 2020', 'Dacia Duster 2021', 'Dacia Duster 2022', 'Dacia Duster 2023', 'Dacia Jogger 2022', 'Dacia Jogger 2023', 'Dacia Lodgy 2020', 'Dacia Logan MCV 2019', 'Dacia Sandero 2017', 'Dacia Sandero 2018', 'Dacia Sandero 2019', 'Dacia Sandero 2020', 'Dacia Sandero 2021', 'Dacia Sandero 2022', 'Dacia Sandero 2023', 'Dacia Sandero 2024', 'Fiat 500 2017', 'Fiat 500 2018', 'Fiat 500 2019', 'Fiat 500 2020', 'Fiat 500 2021', 'Fiat 500 2022', 'Fiat 500C 2017', 'Fiat 500C 2018', 'Fiat 500C 2019', 'Fiat 500C 2020', 'Fiat 500C 2021', 'Fiat 500L 2020', 'Fiat 500X 2017', 'Fiat 500X 2018', 'Fiat 500X 2019', 'Fiat 500X 2020', 'Fiat 500X 2021', 'Fiat Panda 2017', 'Fiat Panda 2018', 'Fiat Panda 2019', 'Fiat Panda 2020', 'Fiat Panda 2021', 'Fiat Panda 2022', 'Fiat Panda 2023', 'Fiat Panda 2024', 'Fiat Tipo 2018', 'Fiat Tipo 2019', 'Fiat Tipo 2020', 'Fiat Tipo 2021', 'Ford C-Max 2019', 'Ford EcoSport 2017', 'Ford EcoSport 2018', 'Ford EcoSport 2019', 'Ford EcoSport 2020', 'Ford EcoSport 2021', 'Ford EcoSport 2022', 'Ford Edge 2019', 'Ford Fiesta 2017', 'Ford Fiesta 2018', 'Ford Fiesta 2019', 'Ford Fiesta 2020', 'Ford Fiesta 2021', 'Ford Focus 2017', 'Ford Focus 2018', 'Ford Focus 2019', 'Ford Focus 2020', 'Ford Focus 2021', 'Ford Ka+ 2017', 'Ford Ka+ 2018', 'Ford Kuga 2017', 'Ford Kuga 2020', 'Ford Kuga 2021', 'Ford Mondeo 2018', 'Ford Mondeo 2020', 'Ford Puma 2021', 'Ford Puma 2022', 'Ford Puma 2023', 'Ford Puma 2024', 'Ford Ranger 2017', 'Ford Ranger 2018', 'Ford Ranger 2019', 'Ford Ranger 2021', 'Ford Ranger 2022', 'Ford Tourneo 2020', 'Ford Tourneo Connect 2019', 'Ford Transit Custom 2020', 'Honda Civic 2017', 'Honda Civic 2019', 'Honda Civic 2020', 'Honda HR-V 2018', 'Honda HR-V 2020', 'Honda HR-V 2021', 'Honda HR-V 2022', 'Honda Jazz 2019', 'Hyundai Kona 2017', 'Hyundai Kona 2018', 'Hyundai Kona 2019', 'Hyundai Kona 2020', 'Hyundai Kona 2021', 'Hyundai Kona 2022', 'Hyundai Kona 2023', 'Hyundai Santa Fe 2021', 'Hyundai Santa Fe 2022', 'Hyundai Tucson 2017', 'Hyundai Tucson 2018', 'Hyundai Tucson 2019', 'Hyundai Tucson 2020', 'Hyundai Tucson 2021', 'Hyundai Tucson 2022', 'Hyundai Tucson 2023', 'Hyundai Tucson 2024', 'Hyundai i10 2017', 'Hyundai i10 2019', 'Hyundai i10 2021', 'Hyundai i10 2023', 'Hyundai i20 2018', 'Hyundai i20 2019', 'Hyundai i20 2020', 'Hyundai i20 2022', 'Hyundai i20 2024', 'Hyundai i30 2017', 'Hyundai i30 2019', 'Hyundai i30 2021', 'Hyundai i30 Fastback 2018', 'Hyundai i30 Fastback 2019', 'Infiniti Q30 2017', 'Infiniti QX30 2018', 'Jaguar F-Pace 2018', 'Jaguar F-Pace 2019', 'Jeep Compass 2017', 'Jeep Compass 2018', 'Jeep Compass 2019', 'Jeep Compass 2020', 'Jeep Compass 2021', 'Jeep Compass 2022', 'Jeep Renegade 2018', 'Jeep Renegade 2020', 'Jeep Renegade 2021', 'Kia Niro 2019', 'Kia Niro 2020', 'Kia Niro 2022', 'Kia Picanto 2017', 'Kia Picanto 2018', 'Kia Picanto 2019', 'Kia Picanto 2020', 'Kia Picanto 2021', 'Kia Picanto 2022', 'Kia Picanto 2023', 'Kia Rio 2020', 'Kia Rio 2021', 'Kia Rio 2022', 'Kia Rio 2023', 'Kia Sportage 2018', 'Kia Sportage 2019', 'Kia Sportage 2020', 'Kia Sportage 2021', 'Kia Sportage 2022', 'Kia Stonic 2017', 'Kia Stonic 2018', 'Kia Stonic 2020', 'Kia Stonic 2021', 'Kia XCeed 2019', 'Kia XCeed 2020', 'Kia XCeed 2021', 'Kia XCeed 2022', \"Kia cee'd 2018\", \"Kia cee'd 2019\", \"Kia cee'd 2021\", \"Kia cee'd 2022\", \"Kia cee'd 2023\", \"Kia pro_cee'd 2017\", \"Kia pro_cee'd 2019\", \"Kia pro_cee'd 2020\", \"Kia pro_cee'd 2021\", 'Land Rover Evoque 2017', 'Land Rover Evoque 2018', 'Land Rover Evoque 2020', 'Lexus CT-Serie 2020', 'Lexus NX-Serie 2018', 'Lexus NX-Serie 2019', 'Lexus NX-Serie 2021', 'Lexus UX-Serie 2019', 'Lexus UX-Serie 2020', 'Lexus UX-Serie 2021', 'MG ZS 2022', 'MINI Cabrio 2017', 'MINI Cabrio 2018', 'MINI Cabrio 2020', 'MINI Clubman 2018', 'MINI Clubman 2022', 'MINI Countryman 2017', 'MINI Countryman 2018', 'MINI Countryman 2020', 'MINI Countryman 2023', 'MINI MINI 2017', 'MINI MINI 2018', 'MINI MINI 2019', 'MINI MINI 2020', 'MINI MINI 2021', 'MINI MINI 2022', 'Mazda 2 2019', 'Mazda 3 2017', 'Mazda 3 2020', 'Mazda 3 2021', 'Mazda 3 2022', 'Mazda 6 2020', 'Mazda CX-3 2017', 'Mazda CX-3 2018', 'Mazda CX-3 2019', 'Mazda CX-3 2020', 'Mazda CX-30 2020', 'Mazda CX-30 2021', 'Mazda CX-30 2023', 'Mazda CX-5 2019', 'Mazda MX-5 2017', 'Mazda MX-5 2019', 'Mercedes-Benz CLA 2017', 'Mercedes-Benz CLA 2019', 'Mercedes-Benz CLA 2020', 'Mercedes-Benz CLA 2021', 'Mercedes-Benz CLA 2022', 'Mercedes-Benz CLA 2023', 'Mercedes-Benz Classe A 2017', 'Mercedes-Benz Classe A 2018', 'Mercedes-Benz Classe A 2019', 'Mercedes-Benz Classe A 2020', 'Mercedes-Benz Classe A 2021', 'Mercedes-Benz Classe A 2022', 'Mercedes-Benz Classe A 2023', 'Mercedes-Benz Classe A Berline 2019', 'Mercedes-Benz Classe A Berline 2020', 'Mercedes-Benz Classe A Berline 2021', 'Mercedes-Benz Classe A Berline 2022', 'Mercedes-Benz Classe B 2017', 'Mercedes-Benz Classe B 2018', 'Mercedes-Benz Classe B 2019', 'Mercedes-Benz Classe B 2020', 'Mercedes-Benz Classe B 2022', 'Mercedes-Benz Classe C 2017', 'Mercedes-Benz Classe C 2018', 'Mercedes-Benz Classe C 2019', 'Mercedes-Benz Classe C 2020', 'Mercedes-Benz Classe C 2021', 'Mercedes-Benz Classe C 2022', 'Mercedes-Benz Classe E 2017', 'Mercedes-Benz Classe E 2019', 'Mercedes-Benz Classe GLB 2020', 'Mercedes-Benz Classe GLB 2021', 'Mercedes-Benz Classe GLB 2022', 'Mercedes-Benz Classe GLC 2017', 'Mercedes-Benz Classe GLC 2018', 'Mercedes-Benz Classe GLC 2019', 'Mercedes-Benz Classe GLC 2020', 'Mercedes-Benz Classe GLC 2021', 'Mercedes-Benz Classe GLE 2018', 'Mercedes-Benz GLA 2017', 'Mercedes-Benz GLA 2018', 'Mercedes-Benz GLA 2019', 'Mercedes-Benz GLA 2020', 'Mercedes-Benz GLA 2021', 'Mercedes-Benz GLA 2022', 'Mercedes-Benz GLA 2023', 'Mitsubishi ASX 2017', 'Mitsubishi ASX 2019', 'Mitsubishi Eclipse Cross 2022', 'Mitsubishi L 200 2022', 'Mitsubishi Outlander 2017', 'Mitsubishi Outlander 2019', 'Mitsubishi Outlander 2020', 'Mitsubishi Space Star 2019', 'Mitsubishi Space Star 2022', 'Mitsubishi Space Star 2024', 'Nissan Juke 2018', 'Nissan Juke 2019', 'Nissan Juke 2020', 'Nissan Juke 2021', 'Nissan Juke 2024', 'Nissan Micra 2017', 'Nissan Micra 2019', 'Nissan Micra 2020', 'Nissan Qashqai 2017', 'Nissan Qashqai 2018', 'Nissan Qashqai 2019', 'Nissan Qashqai 2020', 'Nissan Qashqai 2021', 'Nissan Qashqai 2022', 'Nissan Qashqai 2023', 'Nissan X-Trail 2017', 'Nissan X-Trail 2018', 'Nissan X-Trail 2020', 'Opel Adam 2018', 'Opel Astra 2018', 'Opel Astra 2019', 'Opel Astra 2020', 'Opel Combo Life 2019', 'Opel Combo Life 2021', 'Opel Corsa 2017', 'Opel Corsa 2018', 'Opel Corsa 2019', 'Opel Corsa 2020', 'Opel Corsa 2021', 'Opel Corsa 2022', 'Opel Corsa 2023', 'Opel Crossland X 2017', 'Opel Crossland X 2018', 'Opel Crossland X 2019', 'Opel Crossland X 2020', 'Opel Crossland X 2021', 'Opel Crossland X 2023', 'Opel Grandland X 2018', 'Opel Grandland X 2019', 'Opel Grandland X 2020', 'Opel Grandland X 2021', 'Opel Insignia Grand Sport 2017', 'Opel Insignia Grand Sport 2018', 'Opel Insignia Grand Sport 2020', 'Opel Insignia Grand Sport 2021', 'Opel Insignia Sports Tourer 2019', 'Opel Karl 2018', 'Opel Karl 2019', 'Opel Mokka 2021', 'Opel Mokka 2022', 'Opel Mokka 2023', 'Opel Mokka X 2018', 'Opel Zafira 2017', 'Peugeot 108 2017', 'Peugeot 108 2018', 'Peugeot 108 2019', 'Peugeot 108 2020', 'Peugeot 2008 2017', 'Peugeot 2008 2018', 'Peugeot 2008 2019', 'Peugeot 2008 2020', 'Peugeot 2008 2021', 'Peugeot 2008 2022', 'Peugeot 2008 2023', 'Peugeot 2008 2024', 'Peugeot 208 2017', 'Peugeot 208 2018', 'Peugeot 208 2019', 'Peugeot 208 2020', 'Peugeot 208 2021', 'Peugeot 208 2022', 'Peugeot 208 2023', 'Peugeot 208 2024', 'Peugeot 3008 2017', 'Peugeot 3008 2018', 'Peugeot 3008 2019', 'Peugeot 3008 2020', 'Peugeot 3008 2021', 'Peugeot 3008 2022', 'Peugeot 3008 2023', 'Peugeot 3008 2024', 'Peugeot 308 2017', 'Peugeot 308 2018', 'Peugeot 308 2019', 'Peugeot 308 2020', 'Peugeot 308 2021', 'Peugeot 308 2022', 'Peugeot 308 2023', 'Peugeot 408 2022', 'Peugeot 408 2023', 'Peugeot 408 2024', 'Peugeot 5008 2018', 'Peugeot 5008 2019', 'Peugeot 5008 2021', 'Peugeot 5008 2022', 'Peugeot 5008 2023', 'Peugeot 508 2017', 'Peugeot 508 2019', 'Peugeot 508 2020', 'Peugeot 508 2021', 'Peugeot 508 2022', 'Peugeot Expert 2020', 'Peugeot Rifter 2018', 'Peugeot Rifter 2019', 'Peugeot Rifter 2020', 'Peugeot Rifter 2022', 'Renault Arkana 2021', 'Renault Arkana 2022', 'Renault Arkana 2023', 'Renault Austral 2023', 'Renault Captur 2017', 'Renault Captur 2018', 'Renault Captur 2019', 'Renault Captur 2020', 'Renault Captur 2021', 'Renault Captur 2022', 'Renault Captur 2023', 'Renault Clio 2017', 'Renault Clio 2018', 'Renault Clio 2019', 'Renault Clio 2020', 'Renault Clio 2021', 'Renault Clio 2022', 'Renault Clio 2023', 'Renault Espace 2021', 'Renault Espace 2023', 'Renault Grand Scenic 2017', 'Renault Grand Scenic 2018', 'Renault Grand Scenic 2019', 'Renault Grand Scenic 2020', 'Renault Grand Scenic 2021', 'Renault Kadjar 2017', 'Renault Kadjar 2018', 'Renault Kadjar 2019', 'Renault Kadjar 2020', 'Renault Kadjar 2021', 'Renault Kadjar 2022', 'Renault Kangoo 2017', 'Renault Kangoo 2018', 'Renault Koleos 2020', 'Renault Koleos 2021', 'Renault Mégane 2017', 'Renault Mégane 2018', 'Renault Mégane 2019', 'Renault Mégane 2020', 'Renault Mégane 2021', 'Renault Mégane 2022', 'Renault Scenic 2017', 'Renault Scenic 2018', 'Renault Scenic 2019', 'Renault Scenic 2021', 'Renault Talisman 2017', 'Renault Talisman 2018', 'Renault Talisman 2019', 'Renault Talisman 2020', 'Renault Talisman 2021', 'Renault Twingo 2017', 'Renault Twingo 2018', 'Renault Twingo 2019', 'Renault Twingo 2020', 'Renault Twingo 2021', 'Renault Twingo 2022', 'Seat Arona 2017', 'Seat Arona 2019', 'Seat Arona 2020', 'Seat Arona 2023', 'Seat Arona 2024', 'Seat Ateca 2017', 'Seat Ateca 2018', 'Seat Ateca 2019', 'Seat Ateca 2020', 'Seat Ateca 2021', 'Seat Ateca 2022', 'Seat Ateca 2023', 'Seat Ibiza 2018', 'Seat Ibiza 2019', 'Seat Ibiza 2020', 'Seat Ibiza 2021', 'Seat Ibiza 2022', 'Seat Leon 2018', 'Seat Leon 2019', 'Seat Leon 2020', 'Seat Leon 2021', 'Seat Leon 2022', 'Seat Tarraco 2019', 'Seat Tarraco 2020', 'Skoda Fabia 2018', 'Skoda Fabia 2019', 'Skoda Fabia 2021', 'Skoda Fabia 2022', 'Skoda Fabia 2023', 'Skoda Kamiq 2019', 'Skoda Kamiq 2020', 'Skoda Kamiq 2022', 'Skoda Kamiq 2023', 'Skoda Karoq 2020', 'Skoda Karoq 2021', 'Skoda Kodiaq 2018', 'Skoda Kodiaq 2020', 'Skoda Kodiaq 2021', 'Skoda Kodiaq 2022', 'Skoda Octavia 2018', 'Skoda Octavia 2019', 'Skoda Octavia 2022', 'Skoda Octavia 2023', 'Skoda Scala 2019', 'Skoda Scala 2020', 'Skoda Scala 2023', 'Skoda Superb 2020', 'Skoda Superb 2022', 'Smart forfour 2017', 'Smart fortwo 2017', 'Smart fortwo 2019', 'Suzuki Ignis 2018', 'Suzuki Ignis 2020', 'Suzuki S-Cross 2023', 'Suzuki SX4 S-Cross 2020', 'Suzuki SX4 S-Cross 2021', 'Suzuki Swift 2019', 'Suzuki Swift 2020', 'Suzuki Swift 2021', 'Suzuki Swift 2023', 'Suzuki Vitara 2019', 'Suzuki Vitara 2021', 'Toyota Auris 2017', 'Toyota Aygo 2018', 'Toyota Aygo 2019', 'Toyota Aygo X 2022', 'Toyota Aygo X 2024', 'Toyota C-HR 2017', 'Toyota C-HR 2018', 'Toyota C-HR 2019', 'Toyota C-HR 2020', 'Toyota C-HR 2021', 'Toyota C-HR 2022', 'Toyota Corolla 2019', 'Toyota Corolla 2020', 'Toyota Corolla 2021', 'Toyota Corolla 2022', 'Toyota ProAce 2021', 'Toyota ProAce Verso 2021', 'Toyota RAV 4 2017', 'Toyota RAV 4 2018', 'Toyota RAV 4 2020', 'Toyota RAV 4 2021', 'Toyota RAV 4 2022', 'Toyota Yaris 2017', 'Toyota Yaris 2018', 'Toyota Yaris 2019', 'Toyota Yaris 2020', 'Toyota Yaris 2021', 'Toyota Yaris 2023', 'Toyota Yaris 2024', 'Toyota Yaris Cross 2021', 'Toyota Yaris Cross 2022', 'Toyota Yaris Cross 2023', 'Toyota Yaris Cross 2024', 'Volkswagen Amarok 2017', 'Volkswagen Amarok 2018', 'Volkswagen Arteon 2018', 'Volkswagen Caddy 2019', 'Volkswagen Golf VII 2017', 'Volkswagen Golf VII 2018', 'Volkswagen Golf VII 2019', 'Volkswagen Golf VII 2020', 'Volkswagen Golf VII Sportsvan 2017', 'Volkswagen Golf VII Sportsvan 2019', 'Volkswagen Golf VII Sportsvan 2020', 'Volkswagen Golf VIII 2020', 'Volkswagen Golf VIII 2021', 'Volkswagen Golf VIII 2022', 'Volkswagen Golf VIII 2023', 'Volkswagen Golf VIII 2024', 'Volkswagen Passat 2019', 'Volkswagen Polo 2017', 'Volkswagen Polo 2018', 'Volkswagen Polo 2019', 'Volkswagen Polo 2020', 'Volkswagen Polo 2021', 'Volkswagen Polo 2022', 'Volkswagen Polo 2023', 'Volkswagen T-Cross 2019', 'Volkswagen T-Cross 2020', 'Volkswagen T-Cross 2021', 'Volkswagen T-Cross 2022', 'Volkswagen T-Cross 2023', 'Volkswagen T-Cross 2024', 'Volkswagen T-Roc 2017', 'Volkswagen T-Roc 2018', 'Volkswagen T-Roc 2019', 'Volkswagen T-Roc 2020', 'Volkswagen T-Roc 2021', 'Volkswagen T-Roc 2022', 'Volkswagen T-Roc 2023', 'Volkswagen T-Roc 2024', 'Volkswagen Taigo 2022', 'Volkswagen Taigo 2023', 'Volkswagen Tiguan 2018', 'Volkswagen Tiguan 2019', 'Volkswagen Tiguan 2020', 'Volkswagen Tiguan 2021', 'Volkswagen Tiguan 2022', 'Volkswagen Tiguan Allspace 2022', 'Volkswagen Touran 2017', 'Volkswagen Touran 2019', 'Volkswagen Touran 2021', 'Volkswagen up! 2017', 'Volkswagen up! 2018', 'Volkswagen up! 2019', 'Volkswagen up! 2021', 'Volvo V40 2018', 'Volvo V40 Cross Country 2019', 'Volvo XC40 2019', 'Volvo XC60 2020']\n",
      "['../data/processed_data\\\\prix_neuf_voitures_pack1.csv', '../data/processed_data\\\\prix_neuf_voitures_pack10.csv', '../data/processed_data\\\\prix_neuf_voitures_pack11.csv', '../data/processed_data\\\\prix_neuf_voitures_pack12.csv', '../data/processed_data\\\\prix_neuf_voitures_pack13.csv', '../data/processed_data\\\\prix_neuf_voitures_pack14.csv', '../data/processed_data\\\\prix_neuf_voitures_pack15.csv', '../data/processed_data\\\\prix_neuf_voitures_pack16.csv', '../data/processed_data\\\\prix_neuf_voitures_pack2.csv', '../data/processed_data\\\\prix_neuf_voitures_pack3.csv', '../data/processed_data\\\\prix_neuf_voitures_pack4.csv', '../data/processed_data\\\\prix_neuf_voitures_pack5.csv', '../data/processed_data\\\\prix_neuf_voitures_pack6.csv', '../data/processed_data\\\\prix_neuf_voitures_pack7.csv', '../data/processed_data\\\\prix_neuf_voitures_pack8.csv', '../data/processed_data\\\\prix_neuf_voitures_pack9.csv']\n"
     ]
    },
    {
     "name": "stdout",
     "output_type": "stream",
     "text": [
      "650 modèles et années collectés: \n",
      " ['Abarth 124 Spider 2019', 'Abarth 500 2018', 'Abarth 500 2019', 'Abarth 500 2020', 'Abarth 500 2022', 'Alfa Romeo Giulia 2020', 'Alfa Romeo Giulia 2021', 'Alfa Romeo Giulietta 2017', 'Alfa Romeo Giulietta 2018', 'Alfa Romeo Giulietta 2019', 'Alfa Romeo Giulietta 2021', 'Alfa Romeo Stelvio 2017', 'Alfa Romeo Stelvio 2018', 'Alfa Romeo Tonale 2023', 'Alfa Romeo Tonale 2024', 'Audi A1 2017', 'Audi A1 2018', 'Audi A1 2019', 'Audi A1 2020', 'Audi A1 2021', 'Audi A1 citycarver 2021', 'Audi A3 2017', 'Audi A3 2018', 'Audi A3 2019', 'Audi A3 2021', 'Audi A3 2022', 'Audi A3 2023', 'Audi A3 Limousine 2017', 'Audi A3 Limousine 2019', 'Audi A3 Limousine 2021', 'Audi A4 2018', 'Audi A4 2019', 'Audi A4 2020', 'Audi A4 2021', 'Audi A4 2022', 'Audi A5 Sportback 2020', 'Audi A5 Sportback 2022', 'Audi A6 2018', 'Audi Q2 2017', 'Audi Q2 2018', 'Audi Q2 2019', 'Audi Q2 2020', 'Audi Q2 2022', 'Audi Q2 2023', 'Audi Q3 2017', 'Audi Q3 2018', 'Audi Q3 2019', 'Audi Q3 2020', 'Audi Q3 2021', 'Audi Q3 2022', 'Audi Q3 Sportback 2020', 'Audi Q3 Sportback 2021', 'Audi Q5 2017', 'Audi Q5 2019', 'Audi Q5 2020', 'Audi TT 2017', 'Audi TT 2019', 'Audi TT 2020', 'BMW Série 1 2017', 'BMW Série 1 2018', 'BMW Série 1 2019', 'BMW Série 1 2020', 'BMW Série 1 2021', 'BMW Série 1 2022', 'BMW Série 1 2023', 'BMW Série 2 2017', 'BMW Série 2 2018', 'BMW Série 2 2019', 'BMW Série 2 2021', 'BMW Série 2 2023', 'BMW Série 3 2017', 'BMW Série 3 2018', 'BMW Série 3 2019', 'BMW Série 3 2020', 'BMW Série 3 2024', 'BMW Série 5 2017', 'BMW Série 5 2020', 'BMW X1 2017', 'BMW X1 2018', 'BMW X1 2019', 'BMW X1 2020', 'BMW X1 2021', 'BMW X1 2022', 'BMW X2 2019', 'BMW X2 2020', 'BMW X2 2021', 'BMW X2 2022', 'BMW X3 2017', 'BMW X3 2020', 'BMW X4 2019', 'BMW Z4 2019', 'Citroen Berlingo 2019', 'Citroen Berlingo 2020', 'Citroen Berlingo 2021', 'Citroen Berlingo 2022', 'Citroen C1 2017', 'Citroen C1 2018', 'Citroen C1 2020', 'Citroen C1 2021', 'Citroen C3 2017', 'Citroen C3 2018', 'Citroen C3 2019', 'Citroen C3 2020', 'Citroen C3 2021', 'Citroen C3 2023', 'Citroen C3 2024', 'Citroen C3 Aircross 2017', 'Citroen C3 Aircross 2018', 'Citroen C3 Aircross 2019', 'Citroen C3 Aircross 2020', 'Citroen C3 Aircross 2021', 'Citroen C3 Aircross 2022', 'Citroen C3 Aircross 2023', 'Citroen C4 2018', 'Citroen C4 2021', 'Citroen C4 2022', 'Citroen C4 2023', 'Citroen C4 Cactus 2017', 'Citroen C4 Cactus 2019', 'Citroen C4 Cactus 2020', 'Citroen C4 Grand Spacetourer 2019', 'Citroen C4 Grand Spacetourer 2021', 'Citroen C4 Picasso 2017', 'Citroen C4 Picasso 2018', 'Citroen C4 Spacetourer 2019', 'Citroen C5 Aircross 2018', 'Citroen C5 Aircross 2019', 'Citroen C5 Aircross 2020', 'Citroen C5 Aircross 2021', 'Citroen C5 Aircross 2022', 'Citroen C5 Aircross 2023', 'Citroen C5 X 2022', 'Citroen C5 X 2023', 'Citroen Spacetourer 2020', 'Cupra Formentor 2022', 'Cupra Formentor 2023', 'Cupra Leon 2022', 'Cupra Leon 2023', 'Dacia Duster 2019', 'Dacia Duster 2020', 'Dacia Duster 2021', 'Dacia Duster 2022', 'Dacia Duster 2023', 'Dacia Jogger 2022', 'Dacia Jogger 2023', 'Dacia Lodgy 2020', 'Dacia Logan MCV 2019', 'Dacia Sandero 2017', 'Dacia Sandero 2018', 'Dacia Sandero 2019', 'Dacia Sandero 2020', 'Dacia Sandero 2021', 'Dacia Sandero 2022', 'Dacia Sandero 2023', 'Dacia Sandero 2024', 'Fiat 500 2017', 'Fiat 500 2018', 'Fiat 500 2019', 'Fiat 500C 2017', 'Fiat 500C 2018', 'Fiat 500C 2019', 'Fiat 500X 2017', 'Fiat 500X 2018', 'Fiat 500X 2019', 'Fiat Panda 2017', 'Fiat Panda 2018', 'Fiat Panda 2019', 'Fiat Panda 2020', 'Fiat Panda 2021', 'Fiat Panda 2022', 'Fiat Panda 2023', 'Fiat Panda 2024', 'Fiat Tipo 2018', 'Fiat Tipo 2019', 'Fiat Tipo 2020', 'Fiat Tipo 2021', 'Ford C-Max 2019', 'Ford EcoSport 2017', 'Ford EcoSport 2018', 'Ford EcoSport 2019', 'Ford EcoSport 2020', 'Ford Edge 2019', 'Ford Fiesta 2017', 'Ford Fiesta 2018', 'Ford Fiesta 2019', 'Ford Fiesta 2020', 'Ford Fiesta 2021', 'Ford Focus 2017', 'Ford Focus 2018', 'Ford Focus 2019', 'Ford Focus 2020', 'Ford Focus 2021', 'Ford Ka+ 2017', 'Ford Kuga 2017', 'Ford Kuga 2020', 'Ford Kuga 2021', 'Ford Mondeo 2018', 'Ford Mondeo 2020', 'Ford Puma 2021', 'Ford Puma 2022', 'Ford Puma 2023', 'Ford Puma 2024', 'Ford Ranger 2017', 'Ford Ranger 2018', 'Ford Ranger 2019', 'Ford Ranger 2021', 'Ford Ranger 2022', 'Ford Tourneo Connect 2019', 'Ford Transit Custom 2020', 'Honda Civic 2017', 'Honda Civic 2019', 'Honda Civic 2020', 'Honda HR-V 2018', 'Honda HR-V 2020', 'Honda HR-V 2021', 'Honda HR-V 2022', 'Honda Jazz 2019', 'Hyundai Kona 2017', 'Hyundai Kona 2018', 'Hyundai Kona 2019', 'Hyundai Kona 2020', 'Hyundai Kona 2021', 'Hyundai Kona 2022', 'Hyundai Kona 2023', 'Hyundai Santa Fe 2021', 'Hyundai Santa Fe 2022', 'Hyundai Tucson 2017', 'Hyundai Tucson 2018', 'Hyundai Tucson 2019', 'Hyundai Tucson 2020', 'Hyundai Tucson 2021', 'Hyundai Tucson 2022', 'Hyundai Tucson 2023', 'Hyundai Tucson 2024', 'Hyundai i10 2017', 'Hyundai i10 2019', 'Hyundai i10 2021', 'Hyundai i10 2023', 'Hyundai i20 2018', 'Hyundai i20 2019', 'Hyundai i20 2020', 'Hyundai i20 2022', 'Hyundai i20 2024', 'Hyundai i30 2017', 'Hyundai i30 2019', 'Hyundai i30 2021', 'Hyundai i30 Fastback 2018', 'Hyundai i30 Fastback 2019', 'Infiniti Q30 2017', 'Infiniti QX30 2018', 'Jaguar F-Pace 2018', 'Jaguar F-Pace 2019', 'Jeep Compass 2017', 'Jeep Compass 2018', 'Jeep Compass 2019', 'Jeep Compass 2020', 'Jeep Compass 2021', 'Jeep Compass 2022', 'Jeep Renegade 2018', 'Jeep Renegade 2020', 'Jeep Renegade 2021', 'Kia Niro 2019', 'Kia Niro 2020', 'Kia Niro 2022', 'Kia Picanto 2017', 'Kia Picanto 2018', 'Kia Picanto 2019', 'Kia Picanto 2020', 'Kia Picanto 2021', 'Kia Picanto 2022', 'Kia Picanto 2023', 'Kia Rio 2020', 'Kia Rio 2021', 'Kia Rio 2022', 'Kia Rio 2023', 'Kia Sportage 2018', 'Kia Sportage 2019', 'Kia Sportage 2020', 'Kia Sportage 2021', 'Kia Sportage 2022', 'Kia Stonic 2017', 'Kia Stonic 2018', 'Kia Stonic 2020', 'Kia Stonic 2021', 'Kia XCeed 2019', 'Kia XCeed 2020', 'Kia XCeed 2021', 'Kia XCeed 2022', 'Lexus CT-Serie 2020', 'Lexus NX-Serie 2018', 'Lexus NX-Serie 2019', 'Lexus NX-Serie 2021', 'Lexus UX-Serie 2019', 'Lexus UX-Serie 2020', 'Lexus UX-Serie 2021', 'MG ZS 2022', 'MINI Cabrio 2017', 'MINI Cabrio 2018', 'MINI Cabrio 2020', 'MINI Clubman 2018', 'MINI Clubman 2022', 'MINI Countryman 2017', 'MINI Countryman 2018', 'MINI Countryman 2020', 'MINI Countryman 2023', 'MINI MINI 2017', 'MINI MINI 2018', 'MINI MINI 2019', 'MINI MINI 2020', 'MINI MINI 2021', 'MINI MINI 2022', 'Mazda 2 2019', 'Mazda 3 2017', 'Mazda 3 2020', 'Mazda 3 2021', 'Mazda CX-3 2017', 'Mazda CX-3 2018', 'Mazda CX-3 2019', 'Mazda CX-3 2020', 'Mazda CX-30 2020', 'Mazda CX-30 2021', 'Mazda CX-30 2023', 'Mazda CX-5 2019', 'Mercedes-Benz CLA 2017', 'Mercedes-Benz CLA 2019', 'Mercedes-Benz CLA 2020', 'Mercedes-Benz CLA 2021', 'Mercedes-Benz CLA 2022', 'Mercedes-Benz CLA 2023', 'Mercedes-Benz Classe A 2017', 'Mercedes-Benz Classe A 2018', 'Mercedes-Benz Classe A 2019', 'Mercedes-Benz Classe A 2020', 'Mercedes-Benz Classe A 2021', 'Mercedes-Benz Classe A 2022', 'Mercedes-Benz Classe A 2023', 'Mercedes-Benz Classe A Berline 2019', 'Mercedes-Benz Classe A Berline 2020', 'Mercedes-Benz Classe A Berline 2021', 'Mercedes-Benz Classe A Berline 2022', 'Mercedes-Benz Classe B 2017', 'Mercedes-Benz Classe B 2018', 'Mercedes-Benz Classe B 2019', 'Mercedes-Benz Classe B 2020', 'Mercedes-Benz Classe B 2022', 'Mercedes-Benz Classe C 2017', 'Mercedes-Benz Classe C 2018', 'Mercedes-Benz Classe C 2019', 'Mercedes-Benz Classe C 2020', 'Mercedes-Benz Classe C 2021', 'Mercedes-Benz Classe C 2022', 'Mercedes-Benz Classe E 2017', 'Mercedes-Benz Classe E 2019', 'Mercedes-Benz GLA 2017', 'Mercedes-Benz GLA 2018', 'Mercedes-Benz GLA 2019', 'Mercedes-Benz GLA 2020', 'Mercedes-Benz GLA 2021', 'Mercedes-Benz GLA 2022', 'Mercedes-Benz GLA 2023', 'Mitsubishi ASX 2017', 'Mitsubishi ASX 2019', 'Mitsubishi Eclipse Cross 2022', 'Mitsubishi L 200 2022', 'Mitsubishi Outlander 2017', 'Mitsubishi Outlander 2019', 'Mitsubishi Outlander 2020', 'Mitsubishi Space Star 2019', 'Mitsubishi Space Star 2022', 'Mitsubishi Space Star 2024', 'Nissan Juke 2018', 'Nissan Juke 2019', 'Nissan Juke 2020', 'Nissan Juke 2021', 'Nissan Juke 2024', 'Nissan Micra 2017', 'Nissan Micra 2019', 'Nissan Micra 2020', 'Nissan Qashqai 2017', 'Nissan Qashqai 2018', 'Nissan Qashqai 2019', 'Nissan Qashqai 2020', 'Nissan Qashqai 2021', 'Nissan Qashqai 2022', 'Nissan Qashqai 2023', 'Nissan X-Trail 2017', 'Nissan X-Trail 2018', 'Nissan X-Trail 2020', 'Opel Adam 2018', 'Opel Astra 2019', 'Opel Astra 2020', 'Opel Combo Life 2019', 'Opel Combo Life 2021', 'Opel Corsa 2020', 'Opel Corsa 2021', 'Opel Corsa 2022', 'Opel Corsa 2023', 'Opel Crossland X 2017', 'Opel Crossland X 2018', 'Opel Crossland X 2019', 'Opel Crossland X 2020', 'Opel Crossland X 2021', 'Opel Grandland X 2018', 'Opel Grandland X 2019', 'Opel Grandland X 2020', 'Opel Grandland X 2021', 'Opel Insignia Grand Sport 2017', 'Opel Insignia Grand Sport 2018', 'Opel Insignia Grand Sport 2020', 'Opel Insignia Grand Sport 2021', 'Opel Insignia Sports Tourer 2019', 'Opel Karl 2018', 'Opel Karl 2019', 'Opel Mokka 2021', 'Opel Mokka 2022', 'Opel Mokka 2023', 'Opel Mokka X 2018', 'Opel Zafira 2017', 'Peugeot 108 2017', 'Peugeot 108 2018', 'Peugeot 108 2019', 'Peugeot 108 2020', 'Peugeot 2008 2017', 'Peugeot 2008 2019', 'Peugeot 2008 2020', 'Peugeot 2008 2021', 'Peugeot 2008 2022', 'Peugeot 2008 2023', 'Peugeot 2008 2024', 'Peugeot 208 2017', 'Peugeot 208 2018', 'Peugeot 208 2019', 'Peugeot 208 2020', 'Peugeot 208 2021', 'Peugeot 208 2022', 'Peugeot 208 2023', 'Peugeot 208 2024', 'Peugeot 3008 2017', 'Peugeot 3008 2018', 'Peugeot 3008 2019', 'Peugeot 3008 2020', 'Peugeot 3008 2021', 'Peugeot 3008 2022', 'Peugeot 3008 2023', 'Peugeot 3008 2024', 'Peugeot 308 2017', 'Peugeot 308 2018', 'Peugeot 308 2019', 'Peugeot 308 2020', 'Peugeot 308 2021', 'Peugeot 308 2022', 'Peugeot 308 2023', 'Peugeot 408 2022', 'Peugeot 408 2023', 'Peugeot 408 2024', 'Peugeot 5008 2018', 'Peugeot 5008 2019', 'Peugeot 5008 2021', 'Peugeot 5008 2022', 'Peugeot 5008 2023', 'Peugeot 508 2017', 'Peugeot 508 2019', 'Peugeot 508 2020', 'Peugeot 508 2021', 'Peugeot 508 2022', 'Peugeot Expert 2020', 'Peugeot Rifter 2018', 'Peugeot Rifter 2019', 'Peugeot Rifter 2020', 'Peugeot Rifter 2022', 'Renault Arkana 2021', 'Renault Arkana 2022', 'Renault Arkana 2023', 'Renault Austral 2023', 'Renault Captur 2017', 'Renault Captur 2018', 'Renault Captur 2019', 'Renault Captur 2020', 'Renault Captur 2021', 'Renault Captur 2022', 'Renault Captur 2023', 'Renault Clio 2017', 'Renault Clio 2018', 'Renault Clio 2019', 'Renault Clio 2020', 'Renault Clio 2021', 'Renault Clio 2022', 'Renault Clio 2023', 'Renault Espace 2021', 'Renault Espace 2023', 'Renault Grand Scenic 2017', 'Renault Grand Scenic 2018', 'Renault Grand Scenic 2019', 'Renault Grand Scenic 2020', 'Renault Grand Scenic 2021', 'Renault Kadjar 2017', 'Renault Kadjar 2018', 'Renault Kadjar 2019', 'Renault Kadjar 2020', 'Renault Kadjar 2021', 'Renault Kadjar 2022', 'Renault Kangoo 2017', 'Renault Kangoo 2018', 'Renault Koleos 2020', 'Renault Koleos 2021', 'Renault Scenic 2017', 'Renault Scenic 2018', 'Renault Scenic 2019', 'Renault Scenic 2021', 'Renault Talisman 2017', 'Renault Talisman 2018', 'Renault Talisman 2019', 'Renault Talisman 2020', 'Renault Talisman 2021', 'Renault Twingo 2019', 'Renault Twingo 2020', 'Renault Twingo 2021', 'Renault Twingo 2022', 'Seat Arona 2017', 'Seat Arona 2019', 'Seat Arona 2020', 'Seat Arona 2023', 'Seat Arona 2024', 'Seat Ateca 2017', 'Seat Ateca 2018', 'Seat Ateca 2019', 'Seat Ateca 2020', 'Seat Ateca 2021', 'Seat Ateca 2022', 'Seat Ateca 2023', 'Seat Ibiza 2018', 'Seat Ibiza 2019', 'Seat Ibiza 2020', 'Seat Ibiza 2022', 'Seat Leon 2018', 'Seat Leon 2020', 'Seat Leon 2021', 'Seat Leon 2022', 'Seat Tarraco 2019', 'Seat Tarraco 2020', 'Skoda Fabia 2018', 'Skoda Fabia 2019', 'Skoda Fabia 2021', 'Skoda Fabia 2022', 'Skoda Fabia 2023', 'Skoda Kamiq 2019', 'Skoda Kamiq 2020', 'Skoda Kamiq 2022', 'Skoda Kamiq 2023', 'Skoda Karoq 2020', 'Skoda Karoq 2021', 'Skoda Kodiaq 2022', 'Skoda Octavia 2018', 'Skoda Octavia 2019', 'Skoda Octavia 2022', 'Skoda Octavia 2023', 'Skoda Scala 2019', 'Skoda Scala 2020', 'Skoda Scala 2023', 'Skoda Superb 2020', 'Skoda Superb 2022', 'Smart forfour 2017', 'Smart fortwo 2017', 'Smart fortwo 2019', 'Suzuki Ignis 2018', 'Suzuki Ignis 2020', 'Suzuki S-Cross 2023', 'Suzuki SX4 S-Cross 2020', 'Suzuki Swift 2019', 'Suzuki Swift 2020', 'Suzuki Swift 2021', 'Suzuki Swift 2023', 'Suzuki Vitara 2019', 'Suzuki Vitara 2021', 'Toyota C-HR 2017', 'Toyota C-HR 2018', 'Toyota C-HR 2019', 'Toyota C-HR 2020', 'Toyota C-HR 2022', 'Toyota Corolla 2019', 'Toyota Corolla 2020', 'Toyota Corolla 2021', 'Toyota Corolla 2022', 'Toyota ProAce 2021', 'Toyota ProAce Verso 2021', 'Toyota RAV 4 2017', 'Toyota RAV 4 2018', 'Toyota RAV 4 2020', 'Toyota RAV 4 2021', 'Toyota RAV 4 2022', 'Toyota Yaris 2021', 'Toyota Yaris 2023', 'Toyota Yaris Cross 2023', 'Toyota Yaris Cross 2024', 'Volkswagen Amarok 2017', 'Volkswagen Amarok 2018', 'Volkswagen Arteon 2018', 'Volkswagen Golf VII 2017', 'Volkswagen Golf VII 2018', 'Volkswagen Golf VII 2019', 'Volkswagen Golf VII 2020', 'Volkswagen Golf VII Sportsvan 2017', 'Volkswagen Golf VII Sportsvan 2019', 'Volkswagen Golf VII Sportsvan 2020', 'Volkswagen Golf VIII 2020', 'Volkswagen Golf VIII 2021', 'Volkswagen Golf VIII 2022', 'Volkswagen Golf VIII 2023', 'Volkswagen Golf VIII 2024', 'Volkswagen Passat 2019', 'Volkswagen Polo 2017', 'Volkswagen Polo 2018', 'Volkswagen Polo 2019', 'Volkswagen Polo 2020', 'Volkswagen Polo 2021', 'Volkswagen Polo 2022', 'Volkswagen Polo 2023', 'Volkswagen T-Cross 2019', 'Volkswagen T-Cross 2020', 'Volkswagen T-Cross 2021', 'Volkswagen T-Cross 2022', 'Volkswagen T-Cross 2023', 'Volkswagen T-Cross 2024', 'Volkswagen T-Roc 2017', 'Volkswagen T-Roc 2018', 'Volkswagen T-Roc 2019', 'Volkswagen T-Roc 2020', 'Volkswagen T-Roc 2021', 'Volkswagen T-Roc 2022', 'Volkswagen T-Roc 2023', 'Volkswagen T-Roc 2024', 'Volkswagen Taigo 2022', 'Volkswagen Taigo 2023', 'Volkswagen Tiguan 2018', 'Volkswagen Tiguan 2019', 'Volkswagen Tiguan 2020', 'Volkswagen Tiguan 2021', 'Volkswagen Tiguan 2022', 'Volkswagen Tiguan Allspace 2022', 'Volkswagen Touran 2017', 'Volkswagen Touran 2019', 'Volkswagen Touran 2021', 'Volkswagen up! 2017', 'Volkswagen up! 2018', 'Volkswagen up! 2019', 'Volkswagen up! 2021', 'Volvo V40 2018', 'Volvo V40 Cross Country 2019', 'Volvo XC40 2019', 'Volvo XC60 2020']\n",
      "629 modèles et années sélectionnés: \n",
      " ['ABARTH 124 2019', 'ABARTH 500 2018', 'ABARTH 500 2019', 'ABARTH 500 2020', 'ABARTH 500 2022', 'ALFA ROMEO GIULIA 2020', 'ALFA ROMEO GIULIA 2021', 'ALFA ROMEO GIULIETTA 2017', 'ALFA ROMEO GIULIETTA 2018', 'ALFA ROMEO GIULIETTA 2019', 'ALFA ROMEO GIULIETTA 2021', 'ALFA ROMEO STELVIO 2017', 'ALFA ROMEO STELVIO 2018', 'ALFA ROMEO TONALE 2023', 'ALFA ROMEO TONALE 2024', 'AUDI A1 2017', 'AUDI A1 2018', 'AUDI A1 2019', 'AUDI A1 2020', 'AUDI A1 2021', 'AUDI A3 2017', 'AUDI A3 2018', 'AUDI A3 2019', 'AUDI A3 2021', 'AUDI A3 2022', 'AUDI A3 2023', 'AUDI A4 2018', 'AUDI A4 2019', 'AUDI A4 2020', 'AUDI A4 2021', 'AUDI A4 2022', 'AUDI A5 2020', 'AUDI A5 2022', 'AUDI A6 2018', 'AUDI Q2 2017', 'AUDI Q2 2018', 'AUDI Q2 2019', 'AUDI Q2 2020', 'AUDI Q2 2022', 'AUDI Q2 2023', 'AUDI Q3 2017', 'AUDI Q3 2018', 'AUDI Q3 2019', 'AUDI Q3 2020', 'AUDI Q3 2021', 'AUDI Q3 2022', 'AUDI Q5 2017', 'AUDI Q5 2019', 'AUDI Q5 2020', 'AUDI TT 2017', 'AUDI TT 2019', 'AUDI TT 2020', 'BMW SERIE 1 2017', 'BMW SERIE 1 2018', 'BMW SERIE 1 2019', 'BMW SERIE 1 2020', 'BMW SERIE 1 2021', 'BMW SERIE 1 2022', 'BMW SERIE 1 2023', 'BMW SERIE 2 2017', 'BMW SERIE 2 2018', 'BMW SERIE 2 2019', 'BMW SERIE 2 2021', 'BMW SERIE 2 2023', 'BMW SERIE 3 2017', 'BMW SERIE 3 2018', 'BMW SERIE 3 2019', 'BMW SERIE 3 2020', 'BMW SERIE 3 2024', 'BMW SERIE 5 2017', 'BMW SERIE 5 2020', 'BMW X1 2017', 'BMW X1 2018', 'BMW X1 2019', 'BMW X1 2020', 'BMW X1 2021', 'BMW X1 2022', 'BMW X2 2019', 'BMW X2 2020', 'BMW X2 2021', 'BMW X2 2022', 'BMW X3 2017', 'BMW X3 2020', 'BMW X4 2019', 'BMW Z4 2019', 'CITROEN BERLINGO 2019', 'CITROEN BERLINGO 2020', 'CITROEN BERLINGO 2021', 'CITROEN BERLINGO 2022', 'CITROEN C1 2017', 'CITROEN C1 2018', 'CITROEN C1 2020', 'CITROEN C1 2021', 'CITROEN C3 2017', 'CITROEN C3 2018', 'CITROEN C3 2019', 'CITROEN C3 2020', 'CITROEN C3 2021', 'CITROEN C3 2023', 'CITROEN C3 2024', 'CITROEN C3 AIRCROSS 2017', 'CITROEN C3 AIRCROSS 2018', 'CITROEN C3 AIRCROSS 2019', 'CITROEN C3 AIRCROSS 2020', 'CITROEN C3 AIRCROSS 2021', 'CITROEN C3 AIRCROSS 2022', 'CITROEN C3 AIRCROSS 2023', 'CITROEN C4 2018', 'CITROEN C4 2021', 'CITROEN C4 2022', 'CITROEN C4 2023', 'CITROEN C4 CACTUS 2017', 'CITROEN C4 CACTUS 2019', 'CITROEN C4 CACTUS 2020', 'CITROEN C4 PICASSO 2017', 'CITROEN C4 PICASSO 2018', 'CITROEN C4 SPACETOURER 2019', 'CITROEN C5 AIRCROSS 2018', 'CITROEN C5 AIRCROSS 2019', 'CITROEN C5 AIRCROSS 2020', 'CITROEN C5 AIRCROSS 2021', 'CITROEN C5 AIRCROSS 2022', 'CITROEN C5 AIRCROSS 2023', 'CITROEN C5 X 2022', 'CITROEN C5 X 2023', 'CITROEN SPACETOURER 2019', 'CITROEN SPACETOURER 2020', 'CITROEN SPACETOURER 2021', 'CUPRA FORMENTOR 2022', 'CUPRA FORMENTOR 2023', 'CUPRA LEON 2022', 'CUPRA LEON 2023', 'DACIA DUSTER 2019', 'DACIA DUSTER 2020', 'DACIA DUSTER 2021', 'DACIA DUSTER 2022', 'DACIA DUSTER 2023', 'DACIA JOGGER 2022', 'DACIA JOGGER 2023', 'DACIA LODGY 2020', 'DACIA LOGAN 2019', 'DACIA SANDERO 2017', 'DACIA SANDERO 2018', 'DACIA SANDERO 2019', 'DACIA SANDERO 2020', 'DACIA SANDERO 2021', 'DACIA SANDERO 2022', 'DACIA SANDERO 2023', 'DACIA SANDERO 2024', 'FIAT 500 2017', 'FIAT 500 2018', 'FIAT 500 2019', 'FIAT PANDA 2017', 'FIAT PANDA 2018', 'FIAT PANDA 2019', 'FIAT PANDA 2020', 'FIAT PANDA 2021', 'FIAT PANDA 2022', 'FIAT PANDA 2023', 'FIAT PANDA 2024', 'FIAT TIPO 2018', 'FIAT TIPO 2019', 'FIAT TIPO 2020', 'FIAT TIPO 2021', 'FORD C-MAX 2019', 'FORD ECOSPORT 2017', 'FORD ECOSPORT 2018', 'FORD ECOSPORT 2019', 'FORD ECOSPORT 2020', 'FORD EDGE 2019', 'FORD FIESTA 2017', 'FORD FIESTA 2018', 'FORD FIESTA 2019', 'FORD FIESTA 2020', 'FORD FIESTA 2021', 'FORD FOCUS 2017', 'FORD FOCUS 2018', 'FORD FOCUS 2019', 'FORD FOCUS 2020', 'FORD FOCUS 2021', 'FORD KA+ 2017', 'FORD KUGA 2017', 'FORD KUGA 2020', 'FORD KUGA 2021', 'FORD MONDEO 2018', 'FORD MONDEO 2020', 'FORD PUMA 2021', 'FORD PUMA 2022', 'FORD PUMA 2023', 'FORD PUMA 2024', 'FORD RANGER 2017', 'FORD RANGER 2018', 'FORD RANGER 2019', 'FORD RANGER 2021', 'FORD RANGER 2022', 'FORD TOURNEO CONNECT 2019', 'FORD TRANSIT CUSTOM 2020', 'HONDA CIVIC 2017', 'HONDA CIVIC 2019', 'HONDA CIVIC 2020', 'HONDA HR-V 2018', 'HONDA HR-V 2020', 'HONDA HR-V 2021', 'HONDA HR-V 2022', 'HONDA JAZZ 2019', 'HYUNDAI I10 2017', 'HYUNDAI I10 2019', 'HYUNDAI I10 2021', 'HYUNDAI I10 2023', 'HYUNDAI I20 2018', 'HYUNDAI I20 2019', 'HYUNDAI I20 2020', 'HYUNDAI I20 2022', 'HYUNDAI I20 2024', 'HYUNDAI I30 2017', 'HYUNDAI I30 2018', 'HYUNDAI I30 2019', 'HYUNDAI I30 2021', 'HYUNDAI KONA 2017', 'HYUNDAI KONA 2018', 'HYUNDAI KONA 2019', 'HYUNDAI KONA 2020', 'HYUNDAI KONA 2021', 'HYUNDAI KONA 2022', 'HYUNDAI KONA 2023', 'HYUNDAI SANTA FE 2021', 'HYUNDAI SANTA FE 2022', 'HYUNDAI TUCSON 2017', 'HYUNDAI TUCSON 2018', 'HYUNDAI TUCSON 2019', 'HYUNDAI TUCSON 2020', 'HYUNDAI TUCSON 2021', 'HYUNDAI TUCSON 2022', 'HYUNDAI TUCSON 2023', 'HYUNDAI TUCSON 2024', 'INFINITI Q30 2017', 'INFINITI QX30 2018', 'JAGUAR F-PACE 2018', 'JAGUAR F-PACE 2019', 'JEEP COMPASS 2017', 'JEEP COMPASS 2018', 'JEEP COMPASS 2019', 'JEEP COMPASS 2020', 'JEEP COMPASS 2021', 'JEEP COMPASS 2022', 'JEEP RENEGADE 2018', 'JEEP RENEGADE 2020', 'JEEP RENEGADE 2021', 'KIA NIRO 2019', 'KIA NIRO 2020', 'KIA NIRO 2022', 'KIA PICANTO 2017', 'KIA PICANTO 2018', 'KIA PICANTO 2019', 'KIA PICANTO 2020', 'KIA PICANTO 2021', 'KIA PICANTO 2022', 'KIA PICANTO 2023', 'KIA RIO 2020', 'KIA RIO 2021', 'KIA RIO 2022', 'KIA RIO 2023', 'KIA SPORTAGE 2018', 'KIA SPORTAGE 2019', 'KIA SPORTAGE 2020', 'KIA SPORTAGE 2021', 'KIA SPORTAGE 2022', 'KIA STONIC 2017', 'KIA STONIC 2018', 'KIA STONIC 2020', 'KIA STONIC 2021', 'KIA XCEED 2019', 'KIA XCEED 2020', 'KIA XCEED 2021', 'KIA XCEED 2022', 'LEXUS CT 2020', 'LEXUS NX 2018', 'LEXUS NX 2019', 'LEXUS NX 2021', 'LEXUS UX 2019', 'LEXUS UX 2020', 'LEXUS UX 2021', 'MAZDA 2 2019', 'MAZDA 3 2017', 'MAZDA 3 2020', 'MAZDA 3 2021', 'MAZDA CX-3 2017', 'MAZDA CX-3 2018', 'MAZDA CX-3 2019', 'MAZDA CX-3 2020', 'MAZDA CX-30 2020', 'MAZDA CX-30 2021', 'MAZDA CX-30 2023', 'MAZDA CX-5 2019', 'MERCEDES CLA 2017', 'MERCEDES CLA 2019', 'MERCEDES CLA 2020', 'MERCEDES CLA 2021', 'MERCEDES CLA 2022', 'MERCEDES CLA 2023', 'MERCEDES CLASSE A 2017', 'MERCEDES CLASSE A 2018', 'MERCEDES CLASSE A 2019', 'MERCEDES CLASSE A 2020', 'MERCEDES CLASSE A 2021', 'MERCEDES CLASSE A 2022', 'MERCEDES CLASSE A 2023', 'MERCEDES CLASSE B 2017', 'MERCEDES CLASSE B 2018', 'MERCEDES CLASSE B 2019', 'MERCEDES CLASSE B 2020', 'MERCEDES CLASSE B 2022', 'MERCEDES CLASSE C 2017', 'MERCEDES CLASSE C 2018', 'MERCEDES CLASSE C 2019', 'MERCEDES CLASSE C 2020', 'MERCEDES CLASSE C 2021', 'MERCEDES CLASSE C 2022', 'MERCEDES CLASSE E 2017', 'MERCEDES CLASSE E 2019', 'MERCEDES GLA 2017', 'MERCEDES GLA 2018', 'MERCEDES GLA 2019', 'MERCEDES GLA 2020', 'MERCEDES GLA 2021', 'MERCEDES GLA 2022', 'MERCEDES GLA 2023', 'MG MG ZS 2022', 'MINI COUNTRYMAN 2017', 'MINI COUNTRYMAN 2018', 'MINI COUNTRYMAN 2020', 'MINI COUNTRYMAN 2023', 'MINI MINI 2017', 'MINI MINI 2018', 'MINI MINI 2019', 'MINI MINI 2020', 'MINI MINI 2021', 'MINI MINI 2022', 'MINI MINI CABRIOLET 2017', 'MINI MINI CABRIOLET 2018', 'MINI MINI CABRIOLET 2020', 'MINI MINI CLUBMAN 2018', 'MINI MINI CLUBMAN 2022', 'MITSUBISHI ASX 2017', 'MITSUBISHI ASX 2019', 'MITSUBISHI ECLIPSE CROSS 2022', 'MITSUBISHI L200 2022', 'MITSUBISHI OUTLANDER 2017', 'MITSUBISHI OUTLANDER 2019', 'MITSUBISHI OUTLANDER 2020', 'MITSUBISHI SPACE STAR 2019', 'MITSUBISHI SPACE STAR 2022', 'MITSUBISHI SPACE STAR 2024', 'NISSAN JUKE 2018', 'NISSAN JUKE 2019', 'NISSAN JUKE 2020', 'NISSAN JUKE 2021', 'NISSAN JUKE 2024', 'NISSAN MICRA 2017', 'NISSAN MICRA 2019', 'NISSAN MICRA 2020', 'NISSAN QASHQAI 2017', 'NISSAN QASHQAI 2018', 'NISSAN QASHQAI 2019', 'NISSAN QASHQAI 2020', 'NISSAN QASHQAI 2021', 'NISSAN QASHQAI 2022', 'NISSAN QASHQAI 2023', 'NISSAN X-TRAIL 2017', 'NISSAN X-TRAIL 2018', 'NISSAN X-TRAIL 2020', 'OPEL ADAM 2018', 'OPEL ASTRA 2019', 'OPEL ASTRA 2020', 'OPEL COMBO LIFE 2019', 'OPEL COMBO LIFE 2021', 'OPEL CORSA 2020', 'OPEL CORSA 2021', 'OPEL CORSA 2022', 'OPEL CORSA 2023', 'OPEL CROSSLAND X 2017', 'OPEL CROSSLAND X 2018', 'OPEL CROSSLAND X 2019', 'OPEL CROSSLAND X 2020', 'OPEL CROSSLAND X 2021', 'OPEL GRANDLAND X 2018', 'OPEL GRANDLAND X 2019', 'OPEL GRANDLAND X 2020', 'OPEL GRANDLAND X 2021', 'OPEL INSIGNIA 2017', 'OPEL INSIGNIA 2018', 'OPEL INSIGNIA 2019', 'OPEL INSIGNIA 2020', 'OPEL INSIGNIA 2021', 'OPEL KARL 2018', 'OPEL KARL 2019', 'OPEL MOKKA 2021', 'OPEL MOKKA 2022', 'OPEL MOKKA 2023', 'OPEL MOKKA X 2018', 'OPEL ZAFIRA 2017', 'PEUGEOT 108 2017', 'PEUGEOT 108 2018', 'PEUGEOT 108 2019', 'PEUGEOT 108 2020', 'PEUGEOT 2008 2017', 'PEUGEOT 2008 2019', 'PEUGEOT 2008 2020', 'PEUGEOT 2008 2021', 'PEUGEOT 2008 2022', 'PEUGEOT 2008 2023', 'PEUGEOT 2008 2024', 'PEUGEOT 208 2017', 'PEUGEOT 208 2018', 'PEUGEOT 208 2019', 'PEUGEOT 208 2020', 'PEUGEOT 208 2021', 'PEUGEOT 208 2022', 'PEUGEOT 208 2023', 'PEUGEOT 208 2024', 'PEUGEOT 3008 2017', 'PEUGEOT 3008 2018', 'PEUGEOT 3008 2019', 'PEUGEOT 3008 2020', 'PEUGEOT 3008 2021', 'PEUGEOT 3008 2022', 'PEUGEOT 3008 2023', 'PEUGEOT 3008 2024', 'PEUGEOT 308 2017', 'PEUGEOT 308 2018', 'PEUGEOT 308 2019', 'PEUGEOT 308 2020', 'PEUGEOT 308 2021', 'PEUGEOT 308 2022', 'PEUGEOT 308 2023', 'PEUGEOT 408 2022', 'PEUGEOT 408 2023', 'PEUGEOT 408 2024', 'PEUGEOT 5008 2018', 'PEUGEOT 5008 2019', 'PEUGEOT 5008 2021', 'PEUGEOT 5008 2022', 'PEUGEOT 5008 2023', 'PEUGEOT 508 2017', 'PEUGEOT 508 2019', 'PEUGEOT 508 2020', 'PEUGEOT 508 2021', 'PEUGEOT 508 2022', 'PEUGEOT EXPERT 2020', 'PEUGEOT RIFTER 2018', 'PEUGEOT RIFTER 2019', 'PEUGEOT RIFTER 2020', 'PEUGEOT RIFTER 2022', 'RENAULT ARKANA 2021', 'RENAULT ARKANA 2022', 'RENAULT ARKANA 2023', 'RENAULT AUSTRAL 2023', 'RENAULT CAPTUR 2017', 'RENAULT CAPTUR 2018', 'RENAULT CAPTUR 2019', 'RENAULT CAPTUR 2020', 'RENAULT CAPTUR 2021', 'RENAULT CAPTUR 2022', 'RENAULT CAPTUR 2023', 'RENAULT CLIO 2017', 'RENAULT CLIO 2018', 'RENAULT CLIO 2019', 'RENAULT CLIO 2020', 'RENAULT CLIO 2021', 'RENAULT CLIO 2022', 'RENAULT CLIO 2023', 'RENAULT ESPACE 2021', 'RENAULT ESPACE 2023', 'RENAULT GRAND SCENIC 2017', 'RENAULT GRAND SCENIC 2018', 'RENAULT GRAND SCENIC 2019', 'RENAULT GRAND SCENIC 2020', 'RENAULT GRAND SCENIC 2021', 'RENAULT KADJAR 2017', 'RENAULT KADJAR 2018', 'RENAULT KADJAR 2019', 'RENAULT KADJAR 2020', 'RENAULT KADJAR 2021', 'RENAULT KADJAR 2022', 'RENAULT KANGOO 2017', 'RENAULT KANGOO 2018', 'RENAULT KOLEOS 2020', 'RENAULT KOLEOS 2021', 'RENAULT SCENIC 2017', 'RENAULT SCENIC 2018', 'RENAULT SCENIC 2019', 'RENAULT SCENIC 2021', 'RENAULT TALISMAN 2017', 'RENAULT TALISMAN 2018', 'RENAULT TALISMAN 2019', 'RENAULT TALISMAN 2020', 'RENAULT TALISMAN 2021', 'RENAULT TWINGO 2019', 'RENAULT TWINGO 2020', 'RENAULT TWINGO 2021', 'RENAULT TWINGO 2022', 'SEAT ARONA 2017', 'SEAT ARONA 2019', 'SEAT ARONA 2020', 'SEAT ARONA 2023', 'SEAT ARONA 2024', 'SEAT ATECA 2017', 'SEAT ATECA 2018', 'SEAT ATECA 2019', 'SEAT ATECA 2020', 'SEAT ATECA 2021', 'SEAT ATECA 2022', 'SEAT ATECA 2023', 'SEAT IBIZA 2018', 'SEAT IBIZA 2019', 'SEAT IBIZA 2020', 'SEAT IBIZA 2022', 'SEAT LEON 2018', 'SEAT LEON 2020', 'SEAT LEON 2021', 'SEAT LEON 2022', 'SEAT TARRACO 2019', 'SEAT TARRACO 2020', 'SKODA FABIA 2018', 'SKODA FABIA 2019', 'SKODA FABIA 2021', 'SKODA FABIA 2022', 'SKODA FABIA 2023', 'SKODA KAMIQ 2019', 'SKODA KAMIQ 2020', 'SKODA KAMIQ 2022', 'SKODA KAMIQ 2023', 'SKODA KAROQ 2020', 'SKODA KAROQ 2021', 'SKODA KODIAQ 2022', 'SKODA OCTAVIA 2018', 'SKODA OCTAVIA 2019', 'SKODA OCTAVIA 2022', 'SKODA OCTAVIA 2023', 'SKODA SCALA 2019', 'SKODA SCALA 2020', 'SKODA SCALA 2023', 'SKODA SUPERB 2020', 'SKODA SUPERB 2022', 'SMART FORFOUR 2017', 'SMART FORTWO 2017', 'SMART FORTWO 2019', 'SUZUKI IGNIS 2018', 'SUZUKI IGNIS 2020', 'SUZUKI S-CROSS 2023', 'SUZUKI SWIFT 2019', 'SUZUKI SWIFT 2020', 'SUZUKI SWIFT 2021', 'SUZUKI SWIFT 2023', 'SUZUKI SX4 S-CROSS 2020', 'SUZUKI VITARA 2019', 'SUZUKI VITARA 2021', 'TOYOTA C-HR 2017', 'TOYOTA C-HR 2018', 'TOYOTA C-HR 2019', 'TOYOTA C-HR 2020', 'TOYOTA C-HR 2022', 'TOYOTA COROLLA 2019', 'TOYOTA COROLLA 2020', 'TOYOTA COROLLA 2021', 'TOYOTA COROLLA 2022', 'TOYOTA PROACE 2021', 'TOYOTA PROACE VERSO 2021', 'TOYOTA RAV 4 2017', 'TOYOTA RAV 4 2018', 'TOYOTA RAV 4 2020', 'TOYOTA RAV 4 2021', 'TOYOTA RAV 4 2022', 'TOYOTA YARIS 2021', 'TOYOTA YARIS 2023', 'TOYOTA YARIS CROSS 2023', 'TOYOTA YARIS CROSS 2024', 'VOLKSWAGEN AMAROK 2017', 'VOLKSWAGEN AMAROK 2018', 'VOLKSWAGEN ARTEON 2018', 'VOLKSWAGEN GOLF 2017', 'VOLKSWAGEN GOLF 2018', 'VOLKSWAGEN GOLF 2019', 'VOLKSWAGEN GOLF 2020', 'VOLKSWAGEN GOLF 2021', 'VOLKSWAGEN GOLF 2022', 'VOLKSWAGEN GOLF 2023', 'VOLKSWAGEN GOLF 2024', 'VOLKSWAGEN PASSAT 2019', 'VOLKSWAGEN POLO 2017', 'VOLKSWAGEN POLO 2018', 'VOLKSWAGEN POLO 2019', 'VOLKSWAGEN POLO 2020', 'VOLKSWAGEN POLO 2021', 'VOLKSWAGEN POLO 2022', 'VOLKSWAGEN POLO 2023', 'VOLKSWAGEN T-CROSS 2019', 'VOLKSWAGEN T-CROSS 2020', 'VOLKSWAGEN T-CROSS 2021', 'VOLKSWAGEN T-CROSS 2022', 'VOLKSWAGEN T-CROSS 2023', 'VOLKSWAGEN T-CROSS 2024', 'VOLKSWAGEN T-ROC 2017', 'VOLKSWAGEN T-ROC 2018', 'VOLKSWAGEN T-ROC 2019', 'VOLKSWAGEN T-ROC 2020', 'VOLKSWAGEN T-ROC 2021', 'VOLKSWAGEN T-ROC 2022', 'VOLKSWAGEN T-ROC 2023', 'VOLKSWAGEN T-ROC 2024', 'VOLKSWAGEN TAIGO 2022', 'VOLKSWAGEN TAIGO 2023', 'VOLKSWAGEN TIGUAN 2018', 'VOLKSWAGEN TIGUAN 2019', 'VOLKSWAGEN TIGUAN 2020', 'VOLKSWAGEN TIGUAN 2021', 'VOLKSWAGEN TIGUAN 2022', 'VOLKSWAGEN TIGUAN ALLSPACE 2022', 'VOLKSWAGEN TOURAN 2017', 'VOLKSWAGEN TOURAN 2019', 'VOLKSWAGEN TOURAN 2021', 'VOLKSWAGEN UP! 2017', 'VOLKSWAGEN UP! 2018', 'VOLKSWAGEN UP! 2019', 'VOLKSWAGEN UP! 2021', 'VOLVO V40 2018', 'VOLVO V40 CROSS COUNTRY 2019', 'VOLVO XC40 2019', 'VOLVO XC60 2020']\n"
     ]
    },
    {
     "data": {
      "application/vnd.microsoft.datawrangler.viewer.v0+json": {
       "columns": [
        {
         "name": "index",
         "rawType": "int64",
         "type": "integer"
        },
        {
         "name": "modele_annee_option",
         "rawType": "object",
         "type": "string"
        },
        {
         "name": "duplicate_source_models",
         "rawType": "object",
         "type": "string"
        }
       ],
       "conversionMethod": "pd.DataFrame",
       "ref": "48bd4436-8bb8-4d00-83fe-4533089b6938",
       "rows": [
        [
         "1393",
         "AUDI A1 2021",
         "Audi A1#Audi A1 citycarver"
        ],
        [
         "1497",
         "AUDI A3 2017",
         "Audi A3#Audi A3 Limousine"
        ],
        [
         "2462",
         "AUDI A3 2019",
         "Audi A3#Audi A3 Limousine"
        ],
        [
         "2737",
         "AUDI A3 2021",
         "Audi A3#Audi A3 Limousine"
        ],
        [
         "8787",
         "FIAT 500 2017",
         "Fiat 500#Fiat 500C#Fiat 500X"
        ],
        [
         "8981",
         "FIAT 500 2018",
         "Fiat 500#Fiat 500C#Fiat 500X"
        ],
        [
         "9194",
         "FIAT 500 2019",
         "Fiat 500#Fiat 500C#Fiat 500X"
        ],
        [
         "16198",
         "HYUNDAI I30 2019",
         "Hyundai i30#Hyundai i30 Fastback"
        ],
        [
         "23573",
         "MERCEDES CLASSE A 2019",
         "Mercedes-Benz Classe A#Mercedes-Benz Classe A Berline"
        ],
        [
         "23668",
         "MERCEDES CLASSE A 2020",
         "Mercedes-Benz Classe A#Mercedes-Benz Classe A Berline"
        ],
        [
         "23788",
         "MERCEDES CLASSE A 2021",
         "Mercedes-Benz Classe A#Mercedes-Benz Classe A Berline"
        ],
        [
         "23876",
         "MERCEDES CLASSE A 2022",
         "Mercedes-Benz Classe A#Mercedes-Benz Classe A Berline"
        ],
        [
         "42316",
         "VOLKSWAGEN GOLF 2017",
         "Volkswagen Golf VII#Volkswagen Golf VII Sportsvan"
        ],
        [
         "43130",
         "VOLKSWAGEN GOLF 2019",
         "Volkswagen Golf VII#Volkswagen Golf VII Sportsvan"
        ],
        [
         "43318",
         "VOLKSWAGEN GOLF 2020",
         "Volkswagen Golf VII#Volkswagen Golf VII Sportsvan#Volkswagen Golf VIII"
        ],
        [
         "47446",
         "AUDI Q3 2020",
         "Audi Q3#Audi Q3 Sportback"
        ],
        [
         "47576",
         "AUDI Q3 2021",
         "Audi Q3#Audi Q3 Sportback"
        ]
       ],
       "shape": {
        "columns": 2,
        "rows": 17
       }
      },
      "text/html": [
       "<div>\n",
       "<style scoped>\n",
       "    .dataframe tbody tr th:only-of-type {\n",
       "        vertical-align: middle;\n",
       "    }\n",
       "\n",
       "    .dataframe tbody tr th {\n",
       "        vertical-align: top;\n",
       "    }\n",
       "\n",
       "    .dataframe thead th {\n",
       "        text-align: right;\n",
       "    }\n",
       "</style>\n",
       "<table border=\"1\" class=\"dataframe\">\n",
       "  <thead>\n",
       "    <tr style=\"text-align: right;\">\n",
       "      <th></th>\n",
       "      <th>modele_annee_option</th>\n",
       "      <th>duplicate_source_models</th>\n",
       "    </tr>\n",
       "  </thead>\n",
       "  <tbody>\n",
       "    <tr>\n",
       "      <th>1393</th>\n",
       "      <td>AUDI A1 2021</td>\n",
       "      <td>Audi A1#Audi A1 citycarver</td>\n",
       "    </tr>\n",
       "    <tr>\n",
       "      <th>1497</th>\n",
       "      <td>AUDI A3 2017</td>\n",
       "      <td>Audi A3#Audi A3 Limousine</td>\n",
       "    </tr>\n",
       "    <tr>\n",
       "      <th>2462</th>\n",
       "      <td>AUDI A3 2019</td>\n",
       "      <td>Audi A3#Audi A3 Limousine</td>\n",
       "    </tr>\n",
       "    <tr>\n",
       "      <th>2737</th>\n",
       "      <td>AUDI A3 2021</td>\n",
       "      <td>Audi A3#Audi A3 Limousine</td>\n",
       "    </tr>\n",
       "    <tr>\n",
       "      <th>8787</th>\n",
       "      <td>FIAT 500 2017</td>\n",
       "      <td>Fiat 500#Fiat 500C#Fiat 500X</td>\n",
       "    </tr>\n",
       "    <tr>\n",
       "      <th>8981</th>\n",
       "      <td>FIAT 500 2018</td>\n",
       "      <td>Fiat 500#Fiat 500C#Fiat 500X</td>\n",
       "    </tr>\n",
       "    <tr>\n",
       "      <th>9194</th>\n",
       "      <td>FIAT 500 2019</td>\n",
       "      <td>Fiat 500#Fiat 500C#Fiat 500X</td>\n",
       "    </tr>\n",
       "    <tr>\n",
       "      <th>16198</th>\n",
       "      <td>HYUNDAI I30 2019</td>\n",
       "      <td>Hyundai i30#Hyundai i30 Fastback</td>\n",
       "    </tr>\n",
       "    <tr>\n",
       "      <th>23573</th>\n",
       "      <td>MERCEDES CLASSE A 2019</td>\n",
       "      <td>Mercedes-Benz Classe A#Mercedes-Benz Classe A ...</td>\n",
       "    </tr>\n",
       "    <tr>\n",
       "      <th>23668</th>\n",
       "      <td>MERCEDES CLASSE A 2020</td>\n",
       "      <td>Mercedes-Benz Classe A#Mercedes-Benz Classe A ...</td>\n",
       "    </tr>\n",
       "    <tr>\n",
       "      <th>23788</th>\n",
       "      <td>MERCEDES CLASSE A 2021</td>\n",
       "      <td>Mercedes-Benz Classe A#Mercedes-Benz Classe A ...</td>\n",
       "    </tr>\n",
       "    <tr>\n",
       "      <th>23876</th>\n",
       "      <td>MERCEDES CLASSE A 2022</td>\n",
       "      <td>Mercedes-Benz Classe A#Mercedes-Benz Classe A ...</td>\n",
       "    </tr>\n",
       "    <tr>\n",
       "      <th>42316</th>\n",
       "      <td>VOLKSWAGEN GOLF 2017</td>\n",
       "      <td>Volkswagen Golf VII#Volkswagen Golf VII Sportsvan</td>\n",
       "    </tr>\n",
       "    <tr>\n",
       "      <th>43130</th>\n",
       "      <td>VOLKSWAGEN GOLF 2019</td>\n",
       "      <td>Volkswagen Golf VII#Volkswagen Golf VII Sportsvan</td>\n",
       "    </tr>\n",
       "    <tr>\n",
       "      <th>43318</th>\n",
       "      <td>VOLKSWAGEN GOLF 2020</td>\n",
       "      <td>Volkswagen Golf VII#Volkswagen Golf VII Sports...</td>\n",
       "    </tr>\n",
       "    <tr>\n",
       "      <th>47446</th>\n",
       "      <td>AUDI Q3 2020</td>\n",
       "      <td>Audi Q3#Audi Q3 Sportback</td>\n",
       "    </tr>\n",
       "    <tr>\n",
       "      <th>47576</th>\n",
       "      <td>AUDI Q3 2021</td>\n",
       "      <td>Audi Q3#Audi Q3 Sportback</td>\n",
       "    </tr>\n",
       "  </tbody>\n",
       "</table>\n",
       "</div>"
      ],
      "text/plain": [
       "          modele_annee_option  \\\n",
       "1393             AUDI A1 2021   \n",
       "1497             AUDI A3 2017   \n",
       "2462             AUDI A3 2019   \n",
       "2737             AUDI A3 2021   \n",
       "8787            FIAT 500 2017   \n",
       "8981            FIAT 500 2018   \n",
       "9194            FIAT 500 2019   \n",
       "16198        HYUNDAI I30 2019   \n",
       "23573  MERCEDES CLASSE A 2019   \n",
       "23668  MERCEDES CLASSE A 2020   \n",
       "23788  MERCEDES CLASSE A 2021   \n",
       "23876  MERCEDES CLASSE A 2022   \n",
       "42316    VOLKSWAGEN GOLF 2017   \n",
       "43130    VOLKSWAGEN GOLF 2019   \n",
       "43318    VOLKSWAGEN GOLF 2020   \n",
       "47446            AUDI Q3 2020   \n",
       "47576            AUDI Q3 2021   \n",
       "\n",
       "                                 duplicate_source_models  \n",
       "1393                          Audi A1#Audi A1 citycarver  \n",
       "1497                           Audi A3#Audi A3 Limousine  \n",
       "2462                           Audi A3#Audi A3 Limousine  \n",
       "2737                           Audi A3#Audi A3 Limousine  \n",
       "8787                        Fiat 500#Fiat 500C#Fiat 500X  \n",
       "8981                        Fiat 500#Fiat 500C#Fiat 500X  \n",
       "9194                        Fiat 500#Fiat 500C#Fiat 500X  \n",
       "16198                   Hyundai i30#Hyundai i30 Fastback  \n",
       "23573  Mercedes-Benz Classe A#Mercedes-Benz Classe A ...  \n",
       "23668  Mercedes-Benz Classe A#Mercedes-Benz Classe A ...  \n",
       "23788  Mercedes-Benz Classe A#Mercedes-Benz Classe A ...  \n",
       "23876  Mercedes-Benz Classe A#Mercedes-Benz Classe A ...  \n",
       "42316  Volkswagen Golf VII#Volkswagen Golf VII Sportsvan  \n",
       "43130  Volkswagen Golf VII#Volkswagen Golf VII Sportsvan  \n",
       "43318  Volkswagen Golf VII#Volkswagen Golf VII Sports...  \n",
       "47446                          Audi Q3#Audi Q3 Sportback  \n",
       "47576                          Audi Q3#Audi Q3 Sportback  "
      ]
     },
     "execution_count": 31,
     "metadata": {},
     "output_type": "execute_result"
    }
   ],
   "source": [
    "# Liste des modèles & années à collecter\n",
    "df['modele_annee'] = df['modele'] + ' ' + df['annee'].astype(str)\n",
    "unique_modele_annee = sorted(pd.unique(df[\"modele_annee\"]))\n",
    "print(f\"{len(unique_modele_annee)} modèles et années à collecter: \\n {unique_modele_annee}\")\n",
    "\n",
    "# Liste des modèles & années qui n'ont pas été collectés\n",
    "path = \"../data/processed_data\"\n",
    "pattern = \"prix_neuf_voitures_pack*.csv\"\n",
    "files = [file for file in glob.glob(os.path.join(path, pattern)) if \"error\" not in file]\n",
    "print(files)\n",
    "df_prix_neuf = pd.DataFrame()\n",
    "for file in files:\n",
    "    df_ = pd.read_csv(file)\n",
    "    df_prix_neuf = pd.concat([df_prix_neuf, df_], ignore_index=True)\n",
    "df_prix_neuf['modele_annee'] = df_prix_neuf['source_model'] + ' ' + df_prix_neuf['source_year'].astype(str)\n",
    "unique_modele_annee_collected = sorted(pd.unique(df_prix_neuf[\"modele_annee\"]))\n",
    "print(f\"{len(unique_modele_annee_collected)} modèles et années collectés: \\n {unique_modele_annee_collected}\")\n",
    "\n",
    "# Liste des modèles & années qui ont été collectés (sans doublons)\n",
    "df_prix_neuf['modele_annee_option'] = df_prix_neuf['option_marque_select'] +  ' ' + df_prix_neuf['option_modele_select'] + ' ' + df_prix_neuf['option_year_select'].astype(str)\n",
    "unique_modele_annee_option = sorted(pd.unique(df_prix_neuf[\"modele_annee_option\"]))\n",
    "print(f\"{len(unique_modele_annee_option)} modèles et années sélectionnés: \\n {unique_modele_annee_option}\")\n",
    "\n",
    "unique_modele_annee_final = df_prix_neuf[['source_model', 'source_year', 'modele_annee_option']].drop_duplicates()\n",
    "unique_modele_annee_final['duplicate_source_models'] = unique_modele_annee_final.groupby('modele_annee_option')['source_model'].transform(lambda x: '#'.join(x) if len(x) > 1 else None)\n",
    "df_doublons = unique_modele_annee_final[['modele_annee_option', 'duplicate_source_models']].drop_duplicates()\n",
    "df_doublons = df_doublons[df_doublons['duplicate_source_models'].notnull()]\n",
    "df_doublons"
   ]
  },
  {
   "cell_type": "markdown",
   "id": "d0dd6208",
   "metadata": {},
   "source": [
    "### Second attempt"
   ]
  },
  {
   "cell_type": "code",
   "execution_count": 32,
   "id": "3e1e9134",
   "metadata": {},
   "outputs": [
    {
     "name": "stdout",
     "output_type": "stream",
     "text": [
      "102\n",
      "['Abarth 595 2017', 'Abarth 595C 2020', 'Audi A1 2023', 'Audi A3 2020', 'BMW Série 4 2019', 'BMW Série 4 2022', 'Citroen C4 Grand Picasso 2017', 'Citroen C4 Grand Picasso 2019', 'Citroen C4 Picasso 2019', 'Citroen DS3 2018', 'Citroen DS3 Cabrio 2017', 'Citroen DS3 Cabrio 2019', 'Citroen DS4 2018', 'Citroen DS4 Crossback 2018', 'Citroen DS5 2017', 'Citroen DS5 2018', 'DS Automobiles DS3 2019', 'DS Automobiles DS3 2022', 'DS Automobiles DS3 2023', 'DS Automobiles DS3 Crossback 2019', 'DS Automobiles DS3 Crossback 2020', 'DS Automobiles DS3 Crossback 2021', 'DS Automobiles DS3 Crossback 2022', 'DS Automobiles DS4 2021', 'DS Automobiles DS4 2022', 'DS Automobiles DS7 2022', 'DS Automobiles DS7 Crossback 2018', 'DS Automobiles DS7 Crossback 2020', 'DS Automobiles DS7 Crossback 2021', 'Dacia Dokker 2019', 'Dacia Duster 2018', 'Fiat 500 2020', 'Fiat 500 2021', 'Fiat 500 2022', 'Fiat 500C 2020', 'Fiat 500C 2021', 'Fiat 500L 2020', 'Fiat 500X 2020', 'Fiat 500X 2021', 'Ford EcoSport 2021', 'Ford EcoSport 2022', 'Ford Ka+ 2018', 'Ford Tourneo 2020', \"Kia cee'd 2018\", \"Kia cee'd 2019\", \"Kia cee'd 2021\", \"Kia cee'd 2022\", \"Kia cee'd 2023\", \"Kia pro_cee'd 2017\", \"Kia pro_cee'd 2019\", \"Kia pro_cee'd 2020\", \"Kia pro_cee'd 2021\", 'Land Rover Evoque 2017', 'Land Rover Evoque 2018', 'Land Rover Evoque 2020', 'Mazda 3 2022', 'Mazda 6 2020', 'Mazda MX-5 2017', 'Mazda MX-5 2019', 'Mercedes-Benz Classe GLB 2020', 'Mercedes-Benz Classe GLB 2021', 'Mercedes-Benz Classe GLB 2022', 'Mercedes-Benz Classe GLC 2017', 'Mercedes-Benz Classe GLC 2018', 'Mercedes-Benz Classe GLC 2019', 'Mercedes-Benz Classe GLC 2020', 'Mercedes-Benz Classe GLC 2021', 'Mercedes-Benz Classe GLE 2018', 'Opel Astra 2018', 'Opel Corsa 2017', 'Opel Corsa 2018', 'Opel Corsa 2019', 'Opel Crossland X 2023', 'Peugeot 2008 2018', 'Renault Mégane 2017', 'Renault Mégane 2018', 'Renault Mégane 2019', 'Renault Mégane 2020', 'Renault Mégane 2021', 'Renault Mégane 2022', 'Renault Twingo 2017', 'Renault Twingo 2018', 'Seat Ibiza 2021', 'Seat Leon 2019', 'Skoda Kodiaq 2018', 'Skoda Kodiaq 2020', 'Skoda Kodiaq 2021', 'Suzuki SX4 S-Cross 2021', 'Toyota Auris 2017', 'Toyota Aygo 2018', 'Toyota Aygo 2019', 'Toyota Aygo X 2022', 'Toyota Aygo X 2024', 'Toyota C-HR 2021', 'Toyota Yaris 2017', 'Toyota Yaris 2018', 'Toyota Yaris 2019', 'Toyota Yaris 2020', 'Toyota Yaris 2024', 'Toyota Yaris Cross 2021', 'Toyota Yaris Cross 2022', 'Volkswagen Caddy 2019']\n"
     ]
    }
   ],
   "source": [
    "# Liste des modèles & années restant à collecter\n",
    "remaining_to_collect = set(unique_modele_annee) - set(unique_modele_annee_collected)\n",
    "print(len(remaining_to_collect))\n",
    "print(sorted(remaining_to_collect))"
   ]
  },
  {
   "cell_type": "code",
   "execution_count": 33,
   "id": "c245b961",
   "metadata": {},
   "outputs": [],
   "source": [
    "# Dataframe des modèles restant à collecter\n",
    "df2 = df[df['modele_annee'].isin(remaining_to_collect)]\n",
    "df2 = df2.reset_index(drop=True)"
   ]
  },
  {
   "cell_type": "code",
   "execution_count": 34,
   "id": "a720f56d",
   "metadata": {},
   "outputs": [
    {
     "data": {
      "application/vnd.microsoft.datawrangler.viewer.v0+json": {
       "columns": [
        {
         "name": "index",
         "rawType": "int64",
         "type": "integer"
        },
        {
         "name": "marque",
         "rawType": "object",
         "type": "string"
        },
        {
         "name": "modele",
         "rawType": "object",
         "type": "string"
        },
        {
         "name": "annee",
         "rawType": "int64",
         "type": "integer"
        },
        {
         "name": "modele_annee",
         "rawType": "object",
         "type": "string"
        }
       ],
       "conversionMethod": "pd.DataFrame",
       "ref": "2e265d3b-6da2-4f1c-8abe-ea3d243adc8e",
       "rows": [
        [
         "0",
         "Abarth",
         "Abarth 595",
         "2017",
         "Abarth 595 2017"
        ],
        [
         "1",
         "Abarth",
         "Abarth 595C",
         "2020",
         "Abarth 595C 2020"
        ],
        [
         "2",
         "Audi",
         "Audi A1",
         "2023",
         "Audi A1 2023"
        ],
        [
         "3",
         "Audi",
         "Audi A3",
         "2020",
         "Audi A3 2020"
        ],
        [
         "4",
         "BMW",
         "BMW Série 4",
         "2019",
         "BMW Série 4 2019"
        ]
       ],
       "shape": {
        "columns": 4,
        "rows": 5
       }
      },
      "text/html": [
       "<div>\n",
       "<style scoped>\n",
       "    .dataframe tbody tr th:only-of-type {\n",
       "        vertical-align: middle;\n",
       "    }\n",
       "\n",
       "    .dataframe tbody tr th {\n",
       "        vertical-align: top;\n",
       "    }\n",
       "\n",
       "    .dataframe thead th {\n",
       "        text-align: right;\n",
       "    }\n",
       "</style>\n",
       "<table border=\"1\" class=\"dataframe\">\n",
       "  <thead>\n",
       "    <tr style=\"text-align: right;\">\n",
       "      <th></th>\n",
       "      <th>marque</th>\n",
       "      <th>modele</th>\n",
       "      <th>annee</th>\n",
       "      <th>modele_annee</th>\n",
       "    </tr>\n",
       "  </thead>\n",
       "  <tbody>\n",
       "    <tr>\n",
       "      <th>0</th>\n",
       "      <td>Abarth</td>\n",
       "      <td>Abarth 595</td>\n",
       "      <td>2017</td>\n",
       "      <td>Abarth 595 2017</td>\n",
       "    </tr>\n",
       "    <tr>\n",
       "      <th>1</th>\n",
       "      <td>Abarth</td>\n",
       "      <td>Abarth 595C</td>\n",
       "      <td>2020</td>\n",
       "      <td>Abarth 595C 2020</td>\n",
       "    </tr>\n",
       "    <tr>\n",
       "      <th>2</th>\n",
       "      <td>Audi</td>\n",
       "      <td>Audi A1</td>\n",
       "      <td>2023</td>\n",
       "      <td>Audi A1 2023</td>\n",
       "    </tr>\n",
       "    <tr>\n",
       "      <th>3</th>\n",
       "      <td>Audi</td>\n",
       "      <td>Audi A3</td>\n",
       "      <td>2020</td>\n",
       "      <td>Audi A3 2020</td>\n",
       "    </tr>\n",
       "    <tr>\n",
       "      <th>4</th>\n",
       "      <td>BMW</td>\n",
       "      <td>BMW Série 4</td>\n",
       "      <td>2019</td>\n",
       "      <td>BMW Série 4 2019</td>\n",
       "    </tr>\n",
       "  </tbody>\n",
       "</table>\n",
       "</div>"
      ],
      "text/plain": [
       "   marque       modele  annee      modele_annee\n",
       "0  Abarth   Abarth 595   2017   Abarth 595 2017\n",
       "1  Abarth  Abarth 595C   2020  Abarth 595C 2020\n",
       "2    Audi      Audi A1   2023      Audi A1 2023\n",
       "3    Audi      Audi A3   2020      Audi A3 2020\n",
       "4     BMW  BMW Série 4   2019  BMW Série 4 2019"
      ]
     },
     "execution_count": 34,
     "metadata": {},
     "output_type": "execute_result"
    }
   ],
   "source": [
    "df2.head()"
   ]
  },
  {
   "cell_type": "code",
   "execution_count": 35,
   "id": "3bde145b",
   "metadata": {},
   "outputs": [
    {
     "name": "stdout",
     "output_type": "stream",
     "text": [
      "File ../data/processed_data/prix_neuf_voitures_essaie_2.csv already exists, skipping...\n"
     ]
    }
   ],
   "source": [
    "# Il y avait peut-être des erreurs lors du 1er scraping à cause du serveur trop chargé\n",
    "# 2è essaie...\n",
    "csv_path_ok = '../data/processed_data/prix_neuf_voitures_essaie_2.csv'\n",
    "if not os.path.exists(csv_path_ok):\n",
    "    csv_path_ko = '../data/processed_data/prix_neuf_voitures_essaie_2_error.csv'\n",
    "    scraping_prix_neuf (df2, csv_path_ok, csv_path_ko)\n",
    "else:\n",
    "    print(f\"File {csv_path_ok} already exists, skipping...\")"
   ]
  },
  {
   "cell_type": "code",
   "execution_count": 36,
   "id": "750a1f41",
   "metadata": {},
   "outputs": [
    {
     "data": {
      "application/vnd.microsoft.datawrangler.viewer.v0+json": {
       "columns": [
        {
         "name": "index",
         "rawType": "int64",
         "type": "integer"
        },
        {
         "name": "source_model",
         "rawType": "object",
         "type": "string"
        },
        {
         "name": "source_year",
         "rawType": "int64",
         "type": "integer"
        },
        {
         "name": "Versions",
         "rawType": "object",
         "type": "string"
        },
        {
         "name": "Portes",
         "rawType": "float64",
         "type": "float"
        },
        {
         "name": "Energie",
         "rawType": "object",
         "type": "string"
        },
        {
         "name": "Boite",
         "rawType": "object",
         "type": "string"
        },
        {
         "name": "CO2\n(g/km)",
         "rawType": "object",
         "type": "string"
        },
        {
         "name": "Prix",
         "rawType": "object",
         "type": "string"
        },
        {
         "name": "url",
         "rawType": "object",
         "type": "string"
        },
        {
         "name": "option_marque_select",
         "rawType": "object",
         "type": "string"
        },
        {
         "name": "option_modele_select",
         "rawType": "object",
         "type": "string"
        },
        {
         "name": "option_year_select",
         "rawType": "int64",
         "type": "integer"
        },
        {
         "name": "match_type_marque",
         "rawType": "object",
         "type": "string"
        },
        {
         "name": "match_type_modele",
         "rawType": "object",
         "type": "string"
        },
        {
         "name": "match_type_year",
         "rawType": "object",
         "type": "string"
        }
       ],
       "conversionMethod": "pd.DataFrame",
       "ref": "d4a2a316-86b0-44fc-a46f-35522acd164e",
       "rows": [
        [
         "0",
         "Audi A1",
         "2023",
         "II ALLSTREET 25 TFSI 95 ADVANCED BVM5",
         "5.0",
         "Ess.",
         "Mécanique",
         "130 (wltp)",
         "27 040 €",
         "https://www.caradisiac.com/fiches-techniques/modele--audi-a1-2e-generation-allstreet/2023/",
         "AUDI",
         "A1",
         "2023",
         "Exact match",
         "Partial match",
         "Exact match"
        ],
        [
         "1",
         "Audi A1",
         "2023",
         "II ALLSTREET 25 TFSI 95 DESIGN BVM5",
         "5.0",
         "Ess.",
         "Mécanique",
         "129 (wltp)",
         "26 510 €",
         "https://www.caradisiac.com/fiches-techniques/modele--audi-a1-2e-generation-allstreet/2023/",
         "AUDI",
         "A1",
         "2023",
         "Exact match",
         "Partial match",
         "Exact match"
        ],
        [
         "2",
         "Audi A1",
         "2023",
         "II ALLSTREET 30 TFSI 110 ADVANCED BVM6",
         "5.0",
         "Ess.",
         "Mécanique",
         "128 (wltp)",
         "27 750 €",
         "https://www.caradisiac.com/fiches-techniques/modele--audi-a1-2e-generation-allstreet/2023/",
         "AUDI",
         "A1",
         "2023",
         "Exact match",
         "Partial match",
         "Exact match"
        ],
        [
         "3",
         "Audi A1",
         "2023",
         "II ALLSTREET 30 TFSI 110 ADVANCED S TRONIC 7",
         "5.0",
         "Ess.",
         "Automatique",
         "141 (wltp)",
         "29 650 €",
         "https://www.caradisiac.com/fiches-techniques/modele--audi-a1-2e-generation-allstreet/2023/",
         "AUDI",
         "A1",
         "2023",
         "Exact match",
         "Partial match",
         "Exact match"
        ],
        [
         "4",
         "Audi A1",
         "2023",
         "II ALLSTREET 30 TFSI 110 AVUS BVM6",
         "5.0",
         "Ess.",
         "Mécanique",
         "128 (wltp)",
         "33 200 €",
         "https://www.caradisiac.com/fiches-techniques/modele--audi-a1-2e-generation-allstreet/2023/",
         "AUDI",
         "A1",
         "2023",
         "Exact match",
         "Partial match",
         "Exact match"
        ]
       ],
       "shape": {
        "columns": 15,
        "rows": 5
       }
      },
      "text/html": [
       "<div>\n",
       "<style scoped>\n",
       "    .dataframe tbody tr th:only-of-type {\n",
       "        vertical-align: middle;\n",
       "    }\n",
       "\n",
       "    .dataframe tbody tr th {\n",
       "        vertical-align: top;\n",
       "    }\n",
       "\n",
       "    .dataframe thead th {\n",
       "        text-align: right;\n",
       "    }\n",
       "</style>\n",
       "<table border=\"1\" class=\"dataframe\">\n",
       "  <thead>\n",
       "    <tr style=\"text-align: right;\">\n",
       "      <th></th>\n",
       "      <th>source_model</th>\n",
       "      <th>source_year</th>\n",
       "      <th>Versions</th>\n",
       "      <th>Portes</th>\n",
       "      <th>Energie</th>\n",
       "      <th>Boite</th>\n",
       "      <th>CO2\\n(g/km)</th>\n",
       "      <th>Prix</th>\n",
       "      <th>url</th>\n",
       "      <th>option_marque_select</th>\n",
       "      <th>option_modele_select</th>\n",
       "      <th>option_year_select</th>\n",
       "      <th>match_type_marque</th>\n",
       "      <th>match_type_modele</th>\n",
       "      <th>match_type_year</th>\n",
       "    </tr>\n",
       "  </thead>\n",
       "  <tbody>\n",
       "    <tr>\n",
       "      <th>0</th>\n",
       "      <td>Audi A1</td>\n",
       "      <td>2023</td>\n",
       "      <td>II ALLSTREET 25 TFSI 95 ADVANCED BVM5</td>\n",
       "      <td>5.0</td>\n",
       "      <td>Ess.</td>\n",
       "      <td>Mécanique</td>\n",
       "      <td>130 (wltp)</td>\n",
       "      <td>27 040 €</td>\n",
       "      <td>https://www.caradisiac.com/fiches-techniques/m...</td>\n",
       "      <td>AUDI</td>\n",
       "      <td>A1</td>\n",
       "      <td>2023</td>\n",
       "      <td>Exact match</td>\n",
       "      <td>Partial match</td>\n",
       "      <td>Exact match</td>\n",
       "    </tr>\n",
       "    <tr>\n",
       "      <th>1</th>\n",
       "      <td>Audi A1</td>\n",
       "      <td>2023</td>\n",
       "      <td>II ALLSTREET 25 TFSI 95 DESIGN BVM5</td>\n",
       "      <td>5.0</td>\n",
       "      <td>Ess.</td>\n",
       "      <td>Mécanique</td>\n",
       "      <td>129 (wltp)</td>\n",
       "      <td>26 510 €</td>\n",
       "      <td>https://www.caradisiac.com/fiches-techniques/m...</td>\n",
       "      <td>AUDI</td>\n",
       "      <td>A1</td>\n",
       "      <td>2023</td>\n",
       "      <td>Exact match</td>\n",
       "      <td>Partial match</td>\n",
       "      <td>Exact match</td>\n",
       "    </tr>\n",
       "    <tr>\n",
       "      <th>2</th>\n",
       "      <td>Audi A1</td>\n",
       "      <td>2023</td>\n",
       "      <td>II ALLSTREET 30 TFSI 110 ADVANCED BVM6</td>\n",
       "      <td>5.0</td>\n",
       "      <td>Ess.</td>\n",
       "      <td>Mécanique</td>\n",
       "      <td>128 (wltp)</td>\n",
       "      <td>27 750 €</td>\n",
       "      <td>https://www.caradisiac.com/fiches-techniques/m...</td>\n",
       "      <td>AUDI</td>\n",
       "      <td>A1</td>\n",
       "      <td>2023</td>\n",
       "      <td>Exact match</td>\n",
       "      <td>Partial match</td>\n",
       "      <td>Exact match</td>\n",
       "    </tr>\n",
       "    <tr>\n",
       "      <th>3</th>\n",
       "      <td>Audi A1</td>\n",
       "      <td>2023</td>\n",
       "      <td>II ALLSTREET 30 TFSI 110 ADVANCED S TRONIC 7</td>\n",
       "      <td>5.0</td>\n",
       "      <td>Ess.</td>\n",
       "      <td>Automatique</td>\n",
       "      <td>141 (wltp)</td>\n",
       "      <td>29 650 €</td>\n",
       "      <td>https://www.caradisiac.com/fiches-techniques/m...</td>\n",
       "      <td>AUDI</td>\n",
       "      <td>A1</td>\n",
       "      <td>2023</td>\n",
       "      <td>Exact match</td>\n",
       "      <td>Partial match</td>\n",
       "      <td>Exact match</td>\n",
       "    </tr>\n",
       "    <tr>\n",
       "      <th>4</th>\n",
       "      <td>Audi A1</td>\n",
       "      <td>2023</td>\n",
       "      <td>II ALLSTREET 30 TFSI 110 AVUS BVM6</td>\n",
       "      <td>5.0</td>\n",
       "      <td>Ess.</td>\n",
       "      <td>Mécanique</td>\n",
       "      <td>128 (wltp)</td>\n",
       "      <td>33 200 €</td>\n",
       "      <td>https://www.caradisiac.com/fiches-techniques/m...</td>\n",
       "      <td>AUDI</td>\n",
       "      <td>A1</td>\n",
       "      <td>2023</td>\n",
       "      <td>Exact match</td>\n",
       "      <td>Partial match</td>\n",
       "      <td>Exact match</td>\n",
       "    </tr>\n",
       "  </tbody>\n",
       "</table>\n",
       "</div>"
      ],
      "text/plain": [
       "  source_model  source_year                                      Versions  \\\n",
       "0      Audi A1         2023         II ALLSTREET 25 TFSI 95 ADVANCED BVM5   \n",
       "1      Audi A1         2023           II ALLSTREET 25 TFSI 95 DESIGN BVM5   \n",
       "2      Audi A1         2023        II ALLSTREET 30 TFSI 110 ADVANCED BVM6   \n",
       "3      Audi A1         2023  II ALLSTREET 30 TFSI 110 ADVANCED S TRONIC 7   \n",
       "4      Audi A1         2023            II ALLSTREET 30 TFSI 110 AVUS BVM6   \n",
       "\n",
       "   Portes Energie        Boite CO2\\n(g/km)      Prix  \\\n",
       "0     5.0    Ess.    Mécanique  130 (wltp)  27 040 €   \n",
       "1     5.0    Ess.    Mécanique  129 (wltp)  26 510 €   \n",
       "2     5.0    Ess.    Mécanique  128 (wltp)  27 750 €   \n",
       "3     5.0    Ess.  Automatique  141 (wltp)  29 650 €   \n",
       "4     5.0    Ess.    Mécanique  128 (wltp)  33 200 €   \n",
       "\n",
       "                                                 url option_marque_select  \\\n",
       "0  https://www.caradisiac.com/fiches-techniques/m...                 AUDI   \n",
       "1  https://www.caradisiac.com/fiches-techniques/m...                 AUDI   \n",
       "2  https://www.caradisiac.com/fiches-techniques/m...                 AUDI   \n",
       "3  https://www.caradisiac.com/fiches-techniques/m...                 AUDI   \n",
       "4  https://www.caradisiac.com/fiches-techniques/m...                 AUDI   \n",
       "\n",
       "  option_modele_select  option_year_select match_type_marque  \\\n",
       "0                   A1                2023       Exact match   \n",
       "1                   A1                2023       Exact match   \n",
       "2                   A1                2023       Exact match   \n",
       "3                   A1                2023       Exact match   \n",
       "4                   A1                2023       Exact match   \n",
       "\n",
       "  match_type_modele match_type_year  \n",
       "0     Partial match     Exact match  \n",
       "1     Partial match     Exact match  \n",
       "2     Partial match     Exact match  \n",
       "3     Partial match     Exact match  \n",
       "4     Partial match     Exact match  "
      ]
     },
     "execution_count": 36,
     "metadata": {},
     "output_type": "execute_result"
    }
   ],
   "source": [
    "# Importer les résultats\n",
    "df2_ok = pd.read_csv('../data/processed_data/prix_neuf_voitures_essaie_2.csv')\n",
    "df2_ok.head()"
   ]
  },
  {
   "cell_type": "code",
   "execution_count": 37,
   "id": "040eefd2",
   "metadata": {},
   "outputs": [
    {
     "name": "stdout",
     "output_type": "stream",
     "text": [
      "38 modèles et années collectés avec la 2è essaie: \n",
      " ['Audi A1 2023', 'DS Automobiles DS3 2019', 'DS Automobiles DS3 2022', 'DS Automobiles DS3 2023', 'DS Automobiles DS3 Crossback 2020', 'DS Automobiles DS3 Crossback 2021', 'DS Automobiles DS3 Crossback 2022', 'DS Automobiles DS4 2021', 'DS Automobiles DS4 2022', 'DS Automobiles DS7 2022', 'DS Automobiles DS7 Crossback 2018', 'DS Automobiles DS7 Crossback 2020', 'DS Automobiles DS7 Crossback 2021', 'Dacia Dokker 2019', 'Dacia Duster 2018', 'Fiat 500L 2020', 'Fiat 500X 2020', 'Fiat 500X 2021', 'Mazda 3 2022', 'Mazda MX-5 2017', 'Mazda MX-5 2019', 'Peugeot 2008 2018', 'Renault Twingo 2017', 'Renault Twingo 2018', 'Seat Ibiza 2021', 'Seat Leon 2019', 'Skoda Kodiaq 2018', 'Skoda Kodiaq 2020', 'Skoda Kodiaq 2021', 'Toyota Auris 2017', 'Toyota Aygo 2018', 'Toyota Aygo 2019', 'Toyota Aygo X 2022', 'Toyota Aygo X 2024', 'Toyota C-HR 2021', 'Toyota Yaris 2024', 'Toyota Yaris Cross 2021', 'Toyota Yaris Cross 2022']\n",
      "64 modèles et années restant à collecter: \n",
      " ['Abarth 595 2017', 'Abarth 595C 2020', 'Audi A3 2020', 'BMW Série 4 2019', 'BMW Série 4 2022', 'Citroen C4 Grand Picasso 2017', 'Citroen C4 Grand Picasso 2019', 'Citroen C4 Picasso 2019', 'Citroen DS3 2018', 'Citroen DS3 Cabrio 2017', 'Citroen DS3 Cabrio 2019', 'Citroen DS4 2018', 'Citroen DS4 Crossback 2018', 'Citroen DS5 2017', 'Citroen DS5 2018', 'DS Automobiles DS3 Crossback 2019', 'Fiat 500 2020', 'Fiat 500 2021', 'Fiat 500 2022', 'Fiat 500C 2020', 'Fiat 500C 2021', 'Ford EcoSport 2021', 'Ford EcoSport 2022', 'Ford Ka+ 2018', 'Ford Tourneo 2020', \"Kia cee'd 2018\", \"Kia cee'd 2019\", \"Kia cee'd 2021\", \"Kia cee'd 2022\", \"Kia cee'd 2023\", \"Kia pro_cee'd 2017\", \"Kia pro_cee'd 2019\", \"Kia pro_cee'd 2020\", \"Kia pro_cee'd 2021\", 'Land Rover Evoque 2017', 'Land Rover Evoque 2018', 'Land Rover Evoque 2020', 'Mazda 6 2020', 'Mercedes-Benz Classe GLB 2020', 'Mercedes-Benz Classe GLB 2021', 'Mercedes-Benz Classe GLB 2022', 'Mercedes-Benz Classe GLC 2017', 'Mercedes-Benz Classe GLC 2018', 'Mercedes-Benz Classe GLC 2019', 'Mercedes-Benz Classe GLC 2020', 'Mercedes-Benz Classe GLC 2021', 'Mercedes-Benz Classe GLE 2018', 'Opel Astra 2018', 'Opel Corsa 2017', 'Opel Corsa 2018', 'Opel Corsa 2019', 'Opel Crossland X 2023', 'Renault Mégane 2017', 'Renault Mégane 2018', 'Renault Mégane 2019', 'Renault Mégane 2020', 'Renault Mégane 2021', 'Renault Mégane 2022', 'Suzuki SX4 S-Cross 2021', 'Toyota Yaris 2017', 'Toyota Yaris 2018', 'Toyota Yaris 2019', 'Toyota Yaris 2020', 'Volkswagen Caddy 2019']\n"
     ]
    }
   ],
   "source": [
    "# Liste des modèles qui sont collectés avec la 2è essaie\n",
    "df2_ok['modele_annee'] = df2_ok['source_model'] + ' ' + df2_ok['source_year'].astype(str)\n",
    "unique_modele_annee_collected_sup = sorted(pd.unique(df2_ok[\"modele_annee\"]))\n",
    "print(f\"{len(unique_modele_annee_collected_sup)} modèles et années collectés avec la 2è essaie: \\n {unique_modele_annee_collected_sup}\")\n",
    "\n",
    "# Liste des modèles qui ne sont toujours pas collectés avec la 2è essaie\n",
    "remaining_to_collect_sup = sorted(set(remaining_to_collect) - set(unique_modele_annee_collected_sup))\n",
    "print(f\"{len(remaining_to_collect_sup)} modèles et années restant à collecter: \\n {remaining_to_collect_sup}\")"
   ]
  },
  {
   "cell_type": "markdown",
   "id": "41051e12",
   "metadata": {},
   "source": [
    "### Third attempt"
   ]
  },
  {
   "cell_type": "code",
   "execution_count": 38,
   "id": "e9dc23ba",
   "metadata": {},
   "outputs": [
    {
     "data": {
      "application/vnd.microsoft.datawrangler.viewer.v0+json": {
       "columns": [
        {
         "name": "index",
         "rawType": "int64",
         "type": "integer"
        },
        {
         "name": "marque",
         "rawType": "object",
         "type": "string"
        },
        {
         "name": "modele",
         "rawType": "object",
         "type": "string"
        },
        {
         "name": "annee",
         "rawType": "int64",
         "type": "integer"
        },
        {
         "name": "modele_annee",
         "rawType": "object",
         "type": "string"
        }
       ],
       "conversionMethod": "pd.DataFrame",
       "ref": "271e7fab-f3e5-4ec7-9ad6-0997affac312",
       "rows": [
        [
         "0",
         "Abarth",
         "Abarth 595",
         "2017",
         "Abarth 595 2017"
        ],
        [
         "1",
         "Abarth",
         "Abarth 595C",
         "2020",
         "Abarth 595C 2020"
        ],
        [
         "2",
         "Audi",
         "Audi A3",
         "2020",
         "Audi A3 2020"
        ],
        [
         "3",
         "BMW",
         "BMW Série 4",
         "2019",
         "BMW Série 4 2019"
        ],
        [
         "4",
         "BMW",
         "BMW Série 4",
         "2022",
         "BMW Série 4 2022"
        ],
        [
         "5",
         "Citroen",
         "Citroen C4 Grand Picasso",
         "2017",
         "Citroen C4 Grand Picasso 2017"
        ],
        [
         "6",
         "Citroen",
         "Citroen C4 Grand Picasso",
         "2019",
         "Citroen C4 Grand Picasso 2019"
        ],
        [
         "7",
         "Citroen",
         "Citroen C4 Picasso",
         "2019",
         "Citroen C4 Picasso 2019"
        ],
        [
         "8",
         "Citroen",
         "Citroen DS3",
         "2018",
         "Citroen DS3 2018"
        ],
        [
         "9",
         "Citroen",
         "Citroen DS3 Cabrio",
         "2017",
         "Citroen DS3 Cabrio 2017"
        ],
        [
         "10",
         "Citroen",
         "Citroen DS3 Cabrio",
         "2019",
         "Citroen DS3 Cabrio 2019"
        ],
        [
         "11",
         "Citroen",
         "Citroen DS4",
         "2018",
         "Citroen DS4 2018"
        ],
        [
         "12",
         "Citroen",
         "Citroen DS4 Crossback",
         "2018",
         "Citroen DS4 Crossback 2018"
        ],
        [
         "13",
         "Citroen",
         "Citroen DS5",
         "2017",
         "Citroen DS5 2017"
        ],
        [
         "14",
         "Citroen",
         "Citroen DS5",
         "2018",
         "Citroen DS5 2018"
        ],
        [
         "15",
         "DS",
         "DS Automobiles DS3 Crossback",
         "2019",
         "DS Automobiles DS3 Crossback 2019"
        ],
        [
         "16",
         "Fiat",
         "Fiat 500",
         "2020",
         "Fiat 500 2020"
        ],
        [
         "17",
         "Fiat",
         "Fiat 500",
         "2021",
         "Fiat 500 2021"
        ],
        [
         "18",
         "Fiat",
         "Fiat 500",
         "2022",
         "Fiat 500 2022"
        ],
        [
         "19",
         "Fiat",
         "Fiat 500C",
         "2020",
         "Fiat 500C 2020"
        ],
        [
         "20",
         "Fiat",
         "Fiat 500C",
         "2021",
         "Fiat 500C 2021"
        ],
        [
         "21",
         "Ford",
         "Ford EcoSport",
         "2021",
         "Ford EcoSport 2021"
        ],
        [
         "22",
         "Ford",
         "Ford EcoSport",
         "2022",
         "Ford EcoSport 2022"
        ],
        [
         "23",
         "Ford",
         "Ford Ka+",
         "2018",
         "Ford Ka+ 2018"
        ],
        [
         "24",
         "Ford",
         "Ford Tourneo",
         "2020",
         "Ford Tourneo 2020"
        ],
        [
         "25",
         "Kia",
         "Kia cee'd",
         "2018",
         "Kia cee'd 2018"
        ],
        [
         "26",
         "Kia",
         "Kia cee'd",
         "2019",
         "Kia cee'd 2019"
        ],
        [
         "27",
         "Kia",
         "Kia cee'd",
         "2021",
         "Kia cee'd 2021"
        ],
        [
         "28",
         "Kia",
         "Kia cee'd",
         "2022",
         "Kia cee'd 2022"
        ],
        [
         "29",
         "Kia",
         "Kia cee'd",
         "2023",
         "Kia cee'd 2023"
        ],
        [
         "30",
         "Kia",
         "Kia pro_cee'd",
         "2017",
         "Kia pro_cee'd 2017"
        ],
        [
         "31",
         "Kia",
         "Kia pro_cee'd",
         "2019",
         "Kia pro_cee'd 2019"
        ],
        [
         "32",
         "Kia",
         "Kia pro_cee'd",
         "2020",
         "Kia pro_cee'd 2020"
        ],
        [
         "33",
         "Kia",
         "Kia pro_cee'd",
         "2021",
         "Kia pro_cee'd 2021"
        ],
        [
         "34",
         "Land Rover",
         "Land Rover Evoque",
         "2017",
         "Land Rover Evoque 2017"
        ],
        [
         "35",
         "Land Rover",
         "Land Rover Evoque",
         "2018",
         "Land Rover Evoque 2018"
        ],
        [
         "36",
         "Land Rover",
         "Land Rover Evoque",
         "2020",
         "Land Rover Evoque 2020"
        ],
        [
         "37",
         "Mazda",
         "Mazda 6",
         "2020",
         "Mazda 6 2020"
        ],
        [
         "38",
         "Mercedes",
         "Mercedes-Benz Classe GLB",
         "2020",
         "Mercedes-Benz Classe GLB 2020"
        ],
        [
         "39",
         "Mercedes",
         "Mercedes-Benz Classe GLB",
         "2021",
         "Mercedes-Benz Classe GLB 2021"
        ],
        [
         "40",
         "Mercedes",
         "Mercedes-Benz Classe GLB",
         "2022",
         "Mercedes-Benz Classe GLB 2022"
        ],
        [
         "41",
         "Mercedes",
         "Mercedes-Benz Classe GLC",
         "2017",
         "Mercedes-Benz Classe GLC 2017"
        ],
        [
         "42",
         "Mercedes",
         "Mercedes-Benz Classe GLC",
         "2018",
         "Mercedes-Benz Classe GLC 2018"
        ],
        [
         "43",
         "Mercedes",
         "Mercedes-Benz Classe GLC",
         "2019",
         "Mercedes-Benz Classe GLC 2019"
        ],
        [
         "44",
         "Mercedes",
         "Mercedes-Benz Classe GLC",
         "2020",
         "Mercedes-Benz Classe GLC 2020"
        ],
        [
         "45",
         "Mercedes",
         "Mercedes-Benz Classe GLC",
         "2021",
         "Mercedes-Benz Classe GLC 2021"
        ],
        [
         "46",
         "Mercedes",
         "Mercedes-Benz Classe GLE",
         "2018",
         "Mercedes-Benz Classe GLE 2018"
        ],
        [
         "47",
         "Opel",
         "Opel Astra",
         "2018",
         "Opel Astra 2018"
        ],
        [
         "48",
         "Opel",
         "Opel Corsa",
         "2017",
         "Opel Corsa 2017"
        ],
        [
         "49",
         "Opel",
         "Opel Corsa",
         "2018",
         "Opel Corsa 2018"
        ]
       ],
       "shape": {
        "columns": 4,
        "rows": 64
       }
      },
      "text/html": [
       "<div>\n",
       "<style scoped>\n",
       "    .dataframe tbody tr th:only-of-type {\n",
       "        vertical-align: middle;\n",
       "    }\n",
       "\n",
       "    .dataframe tbody tr th {\n",
       "        vertical-align: top;\n",
       "    }\n",
       "\n",
       "    .dataframe thead th {\n",
       "        text-align: right;\n",
       "    }\n",
       "</style>\n",
       "<table border=\"1\" class=\"dataframe\">\n",
       "  <thead>\n",
       "    <tr style=\"text-align: right;\">\n",
       "      <th></th>\n",
       "      <th>marque</th>\n",
       "      <th>modele</th>\n",
       "      <th>annee</th>\n",
       "      <th>modele_annee</th>\n",
       "    </tr>\n",
       "  </thead>\n",
       "  <tbody>\n",
       "    <tr>\n",
       "      <th>0</th>\n",
       "      <td>Abarth</td>\n",
       "      <td>Abarth 595</td>\n",
       "      <td>2017</td>\n",
       "      <td>Abarth 595 2017</td>\n",
       "    </tr>\n",
       "    <tr>\n",
       "      <th>1</th>\n",
       "      <td>Abarth</td>\n",
       "      <td>Abarth 595C</td>\n",
       "      <td>2020</td>\n",
       "      <td>Abarth 595C 2020</td>\n",
       "    </tr>\n",
       "    <tr>\n",
       "      <th>2</th>\n",
       "      <td>Audi</td>\n",
       "      <td>Audi A3</td>\n",
       "      <td>2020</td>\n",
       "      <td>Audi A3 2020</td>\n",
       "    </tr>\n",
       "    <tr>\n",
       "      <th>3</th>\n",
       "      <td>BMW</td>\n",
       "      <td>BMW Série 4</td>\n",
       "      <td>2019</td>\n",
       "      <td>BMW Série 4 2019</td>\n",
       "    </tr>\n",
       "    <tr>\n",
       "      <th>4</th>\n",
       "      <td>BMW</td>\n",
       "      <td>BMW Série 4</td>\n",
       "      <td>2022</td>\n",
       "      <td>BMW Série 4 2022</td>\n",
       "    </tr>\n",
       "    <tr>\n",
       "      <th>...</th>\n",
       "      <td>...</td>\n",
       "      <td>...</td>\n",
       "      <td>...</td>\n",
       "      <td>...</td>\n",
       "    </tr>\n",
       "    <tr>\n",
       "      <th>59</th>\n",
       "      <td>Toyota</td>\n",
       "      <td>Toyota Yaris</td>\n",
       "      <td>2017</td>\n",
       "      <td>Toyota Yaris 2017</td>\n",
       "    </tr>\n",
       "    <tr>\n",
       "      <th>60</th>\n",
       "      <td>Toyota</td>\n",
       "      <td>Toyota Yaris</td>\n",
       "      <td>2018</td>\n",
       "      <td>Toyota Yaris 2018</td>\n",
       "    </tr>\n",
       "    <tr>\n",
       "      <th>61</th>\n",
       "      <td>Toyota</td>\n",
       "      <td>Toyota Yaris</td>\n",
       "      <td>2019</td>\n",
       "      <td>Toyota Yaris 2019</td>\n",
       "    </tr>\n",
       "    <tr>\n",
       "      <th>62</th>\n",
       "      <td>Toyota</td>\n",
       "      <td>Toyota Yaris</td>\n",
       "      <td>2020</td>\n",
       "      <td>Toyota Yaris 2020</td>\n",
       "    </tr>\n",
       "    <tr>\n",
       "      <th>63</th>\n",
       "      <td>Volkswagen</td>\n",
       "      <td>Volkswagen Caddy</td>\n",
       "      <td>2019</td>\n",
       "      <td>Volkswagen Caddy 2019</td>\n",
       "    </tr>\n",
       "  </tbody>\n",
       "</table>\n",
       "<p>64 rows × 4 columns</p>\n",
       "</div>"
      ],
      "text/plain": [
       "        marque            modele  annee           modele_annee\n",
       "0       Abarth        Abarth 595   2017        Abarth 595 2017\n",
       "1       Abarth       Abarth 595C   2020       Abarth 595C 2020\n",
       "2         Audi           Audi A3   2020           Audi A3 2020\n",
       "3          BMW       BMW Série 4   2019       BMW Série 4 2019\n",
       "4          BMW       BMW Série 4   2022       BMW Série 4 2022\n",
       "..         ...               ...    ...                    ...\n",
       "59      Toyota      Toyota Yaris   2017      Toyota Yaris 2017\n",
       "60      Toyota      Toyota Yaris   2018      Toyota Yaris 2018\n",
       "61      Toyota      Toyota Yaris   2019      Toyota Yaris 2019\n",
       "62      Toyota      Toyota Yaris   2020      Toyota Yaris 2020\n",
       "63  Volkswagen  Volkswagen Caddy   2019  Volkswagen Caddy 2019\n",
       "\n",
       "[64 rows x 4 columns]"
      ]
     },
     "execution_count": 38,
     "metadata": {},
     "output_type": "execute_result"
    }
   ],
   "source": [
    "df3 = df[df['modele_annee'].isin(remaining_to_collect_sup)]\n",
    "df3 = df3.reset_index(drop=True)\n",
    "df3"
   ]
  },
  {
   "cell_type": "code",
   "execution_count": 39,
   "id": "aa2553ad",
   "metadata": {},
   "outputs": [
    {
     "name": "stdout",
     "output_type": "stream",
     "text": [
      "File ../data/processed_data/prix_neuf_voitures_essaie_3.csv already exists, skipping...\n"
     ]
    }
   ],
   "source": [
    "# 3è essaie avec wait time plus élevé\n",
    "csv_path_ok = '../data/processed_data/prix_neuf_voitures_essaie_3.csv'\n",
    "if not os.path.exists(csv_path_ok):\n",
    "    csv_path_ko = '../data/processed_data/prix_neuf_voitures_essaie_3_error.csv'\n",
    "    scraping_prix_neuf (df3, csv_path_ok, csv_path_ko, 20)\n",
    "else:\n",
    "    print(f\"File {csv_path_ok} already exists, skipping...\")"
   ]
  },
  {
   "cell_type": "markdown",
   "id": "69520c41",
   "metadata": {},
   "source": [
    "### Fourth attempt"
   ]
  },
  {
   "cell_type": "code",
   "execution_count": 40,
   "id": "375a5c88",
   "metadata": {},
   "outputs": [
    {
     "name": "stdout",
     "output_type": "stream",
     "text": [
      "27 modèles et années collectés avec la 3è essaie: \n",
      " ['Audi A3 2020', 'BMW Série 4 2019', 'BMW Série 4 2022', 'DS Automobiles DS3 Crossback 2019', 'Fiat 500 2020', 'Fiat 500 2021', 'Fiat 500 2022', 'Fiat 500C 2020', 'Fiat 500C 2021', 'Ford EcoSport 2021', 'Ford EcoSport 2022', 'Mazda 6 2020', 'Opel Astra 2018', 'Opel Corsa 2017', 'Opel Corsa 2018', 'Opel Corsa 2019', 'Renault Mégane 2017', 'Renault Mégane 2018', 'Renault Mégane 2019', 'Renault Mégane 2020', 'Renault Mégane 2021', 'Renault Mégane 2022', 'Toyota Yaris 2017', 'Toyota Yaris 2018', 'Toyota Yaris 2019', 'Toyota Yaris 2020', 'Volkswagen Caddy 2019']\n",
      "37 modèles et années restant à collecter: \n",
      " ['Abarth 595 2017', 'Abarth 595C 2020', 'Citroen C4 Grand Picasso 2017', 'Citroen C4 Grand Picasso 2019', 'Citroen C4 Picasso 2019', 'Citroen DS3 2018', 'Citroen DS3 Cabrio 2017', 'Citroen DS3 Cabrio 2019', 'Citroen DS4 2018', 'Citroen DS4 Crossback 2018', 'Citroen DS5 2017', 'Citroen DS5 2018', 'Ford Ka+ 2018', 'Ford Tourneo 2020', \"Kia cee'd 2018\", \"Kia cee'd 2019\", \"Kia cee'd 2021\", \"Kia cee'd 2022\", \"Kia cee'd 2023\", \"Kia pro_cee'd 2017\", \"Kia pro_cee'd 2019\", \"Kia pro_cee'd 2020\", \"Kia pro_cee'd 2021\", 'Land Rover Evoque 2017', 'Land Rover Evoque 2018', 'Land Rover Evoque 2020', 'Mercedes-Benz Classe GLB 2020', 'Mercedes-Benz Classe GLB 2021', 'Mercedes-Benz Classe GLB 2022', 'Mercedes-Benz Classe GLC 2017', 'Mercedes-Benz Classe GLC 2018', 'Mercedes-Benz Classe GLC 2019', 'Mercedes-Benz Classe GLC 2020', 'Mercedes-Benz Classe GLC 2021', 'Mercedes-Benz Classe GLE 2018', 'Opel Crossland X 2023', 'Suzuki SX4 S-Cross 2021']\n"
     ]
    }
   ],
   "source": [
    "df3_ok = pd.read_csv('../data/processed_data/prix_neuf_voitures_essaie_3.csv')\n",
    "# Liste des modèles qui sont collectés avec la 3è essaie\n",
    "df3_ok['modele_annee'] = df3_ok['source_model'] + ' ' + df3_ok['source_year'].astype(str)\n",
    "unique_modele_annee_collected_sup_2 = sorted(pd.unique(df3_ok[\"modele_annee\"]))\n",
    "print(f\"{len(unique_modele_annee_collected_sup_2)} modèles et années collectés avec la 3è essaie: \\n {unique_modele_annee_collected_sup_2}\")\n",
    "\n",
    "# Liste des modèles qui ne sont toujours pas collectés avec la 3è essaie\n",
    "remaining_to_collect_sup_2 = sorted(set(remaining_to_collect_sup) - set(unique_modele_annee_collected_sup_2))\n",
    "print(f\"{len(remaining_to_collect_sup_2)} modèles et années restant à collecter: \\n {remaining_to_collect_sup_2}\")"
   ]
  },
  {
   "cell_type": "code",
   "execution_count": 41,
   "id": "6debf50e",
   "metadata": {},
   "outputs": [
    {
     "name": "stdout",
     "output_type": "stream",
     "text": [
      "['Abarth 595' 'Abarth 595C' 'Citroen C4 Grand Picasso'\n",
      " 'Citroen C4 Picasso' 'Citroen DS3' 'Citroen DS3 Cabrio' 'Citroen DS4'\n",
      " 'Citroen DS4 Crossback' 'Citroen DS5' 'Ford Ka+' 'Ford Tourneo'\n",
      " \"Kia cee'd\" \"Kia pro_cee'd\" 'Land Rover Evoque'\n",
      " 'Mercedes-Benz Classe GLB' 'Mercedes-Benz Classe GLC'\n",
      " 'Mercedes-Benz Classe GLE' 'Opel Crossland X' 'Suzuki SX4 S-Cross']\n"
     ]
    }
   ],
   "source": [
    "df4 = df3[df3['modele_annee'].isin(remaining_to_collect_sup_2)].reset_index(drop=True)\n",
    "# liste des modèles\n",
    "list_modele_df4 = pd.unique(df4['modele'])\n",
    "print(list_modele_df4)"
   ]
  },
  {
   "cell_type": "code",
   "execution_count": 42,
   "id": "2f053011",
   "metadata": {},
   "outputs": [],
   "source": [
    "# Corriger manuellement le nom du modèle/marque pour qu'il soit aligné avec celui utilisé par le site\n",
    "dict_model_corr = {\n",
    "\n",
    " 'Abarth 595' : '500',\n",
    " 'Abarth 595C' : '500',\n",
    " 'Citroen C4 Grand Picasso' : 'C4 PICASSO',\n",
    " 'Citroen C4 Picasso' : 'C4 PICASSO', \n",
    " 'Citroen DS3' : 'DS3',\n",
    " 'Citroen DS3 Cabrio' : 'DS3',\n",
    " 'Citroen DS4' : 'DS4',\n",
    " 'Citroen DS4 Crossback' : 'DS4 CROSSBACK',\n",
    " 'Citroen DS5' : 'DS5',\n",
    " 'Ford Ka+' : 'KA+',\n",
    " 'Ford Tourneo' : 'TOURNEO COURIER',\n",
    " \"Kia cee'd\" : 'CEED',\n",
    " \"Kia pro_cee'd\": 'PROCEED',\n",
    " 'Land Rover Evoque' : 'RANGE ROVER EVOQUE',\n",
    " 'Mercedes-Benz Classe GLB' : 'GLB',\n",
    " 'Mercedes-Benz Classe GLC' : 'GLC',\n",
    " 'Mercedes-Benz Classe GLE' : 'GLE',\n",
    " 'Opel Crossland X' : 'CROSSLAND' ,\n",
    " 'Suzuki SX4 S-Cross' : 'S-CROSS'\n",
    "}"
   ]
  },
  {
   "cell_type": "code",
   "execution_count": 43,
   "id": "5b89360c",
   "metadata": {},
   "outputs": [
    {
     "data": {
      "application/vnd.microsoft.datawrangler.viewer.v0+json": {
       "columns": [
        {
         "name": "index",
         "rawType": "int64",
         "type": "integer"
        },
        {
         "name": "marque",
         "rawType": "object",
         "type": "string"
        },
        {
         "name": "modele",
         "rawType": "object",
         "type": "string"
        },
        {
         "name": "annee",
         "rawType": "int64",
         "type": "integer"
        },
        {
         "name": "modele_annee",
         "rawType": "object",
         "type": "string"
        },
        {
         "name": "marque_init",
         "rawType": "object",
         "type": "string"
        },
        {
         "name": "modele_init",
         "rawType": "object",
         "type": "string"
        }
       ],
       "conversionMethod": "pd.DataFrame",
       "ref": "8803483a-2915-4dec-bd07-76daa5d63f9f",
       "rows": [
        [
         "0",
         "Abarth",
         "500",
         "2017",
         "Abarth 595 2017",
         "Abarth",
         "Abarth 595"
        ],
        [
         "1",
         "Abarth",
         "500",
         "2020",
         "Abarth 595C 2020",
         "Abarth",
         "Abarth 595C"
        ],
        [
         "2",
         "Citroen",
         "C4 PICASSO",
         "2017",
         "Citroen C4 Grand Picasso 2017",
         "Citroen",
         "Citroen C4 Grand Picasso"
        ],
        [
         "3",
         "Citroen",
         "C4 PICASSO",
         "2019",
         "Citroen C4 Grand Picasso 2019",
         "Citroen",
         "Citroen C4 Grand Picasso"
        ],
        [
         "4",
         "Citroen",
         "C4 PICASSO",
         "2019",
         "Citroen C4 Picasso 2019",
         "Citroen",
         "Citroen C4 Picasso"
        ]
       ],
       "shape": {
        "columns": 6,
        "rows": 5
       }
      },
      "text/html": [
       "<div>\n",
       "<style scoped>\n",
       "    .dataframe tbody tr th:only-of-type {\n",
       "        vertical-align: middle;\n",
       "    }\n",
       "\n",
       "    .dataframe tbody tr th {\n",
       "        vertical-align: top;\n",
       "    }\n",
       "\n",
       "    .dataframe thead th {\n",
       "        text-align: right;\n",
       "    }\n",
       "</style>\n",
       "<table border=\"1\" class=\"dataframe\">\n",
       "  <thead>\n",
       "    <tr style=\"text-align: right;\">\n",
       "      <th></th>\n",
       "      <th>marque</th>\n",
       "      <th>modele</th>\n",
       "      <th>annee</th>\n",
       "      <th>modele_annee</th>\n",
       "      <th>marque_init</th>\n",
       "      <th>modele_init</th>\n",
       "    </tr>\n",
       "  </thead>\n",
       "  <tbody>\n",
       "    <tr>\n",
       "      <th>0</th>\n",
       "      <td>Abarth</td>\n",
       "      <td>500</td>\n",
       "      <td>2017</td>\n",
       "      <td>Abarth 595 2017</td>\n",
       "      <td>Abarth</td>\n",
       "      <td>Abarth 595</td>\n",
       "    </tr>\n",
       "    <tr>\n",
       "      <th>1</th>\n",
       "      <td>Abarth</td>\n",
       "      <td>500</td>\n",
       "      <td>2020</td>\n",
       "      <td>Abarth 595C 2020</td>\n",
       "      <td>Abarth</td>\n",
       "      <td>Abarth 595C</td>\n",
       "    </tr>\n",
       "    <tr>\n",
       "      <th>2</th>\n",
       "      <td>Citroen</td>\n",
       "      <td>C4 PICASSO</td>\n",
       "      <td>2017</td>\n",
       "      <td>Citroen C4 Grand Picasso 2017</td>\n",
       "      <td>Citroen</td>\n",
       "      <td>Citroen C4 Grand Picasso</td>\n",
       "    </tr>\n",
       "    <tr>\n",
       "      <th>3</th>\n",
       "      <td>Citroen</td>\n",
       "      <td>C4 PICASSO</td>\n",
       "      <td>2019</td>\n",
       "      <td>Citroen C4 Grand Picasso 2019</td>\n",
       "      <td>Citroen</td>\n",
       "      <td>Citroen C4 Grand Picasso</td>\n",
       "    </tr>\n",
       "    <tr>\n",
       "      <th>4</th>\n",
       "      <td>Citroen</td>\n",
       "      <td>C4 PICASSO</td>\n",
       "      <td>2019</td>\n",
       "      <td>Citroen C4 Picasso 2019</td>\n",
       "      <td>Citroen</td>\n",
       "      <td>Citroen C4 Picasso</td>\n",
       "    </tr>\n",
       "  </tbody>\n",
       "</table>\n",
       "</div>"
      ],
      "text/plain": [
       "    marque      modele  annee                   modele_annee marque_init  \\\n",
       "0   Abarth         500   2017                Abarth 595 2017      Abarth   \n",
       "1   Abarth         500   2020               Abarth 595C 2020      Abarth   \n",
       "2  Citroen  C4 PICASSO   2017  Citroen C4 Grand Picasso 2017     Citroen   \n",
       "3  Citroen  C4 PICASSO   2019  Citroen C4 Grand Picasso 2019     Citroen   \n",
       "4  Citroen  C4 PICASSO   2019        Citroen C4 Picasso 2019     Citroen   \n",
       "\n",
       "                modele_init  \n",
       "0                Abarth 595  \n",
       "1               Abarth 595C  \n",
       "2  Citroen C4 Grand Picasso  \n",
       "3  Citroen C4 Grand Picasso  \n",
       "4        Citroen C4 Picasso  "
      ]
     },
     "execution_count": 43,
     "metadata": {},
     "output_type": "execute_result"
    }
   ],
   "source": [
    "# Create columns to keep original \"marque\" & \"modele\" name\n",
    "df4[\"marque_init\"] = df4[\"marque\"]\n",
    "df4['modele_init'] = df4['modele']\n",
    "\n",
    "# Replace the \"modele\" name\n",
    "df4['modele'] = df4['modele'].replace(dict_model_corr)\n",
    "df4.head()"
   ]
  },
  {
   "cell_type": "code",
   "execution_count": 44,
   "id": "11044504",
   "metadata": {},
   "outputs": [],
   "source": [
    "#df4[(df4[\"modele\"].str.contains(\"DS\", na=False)) & (df4[\"marque\"].str.contains(\"Citroen\", na=False))]"
   ]
  },
  {
   "cell_type": "code",
   "execution_count": 45,
   "id": "976cd309",
   "metadata": {},
   "outputs": [
    {
     "name": "stdout",
     "output_type": "stream",
     "text": [
      "36 à collecter: \n",
      " ['500 2017', '500 2020', 'C4 PICASSO 2017', 'C4 PICASSO 2019', 'CEED 2018', 'CEED 2019', 'CEED 2021', 'CEED 2022', 'CEED 2023', 'CROSSLAND 2023', 'DS3 2017', 'DS3 2018', 'DS3 2019', 'DS4 2018', 'DS4 CROSSBACK 2018', 'DS5 2017', 'DS5 2018', 'GLB 2020', 'GLB 2021', 'GLB 2022', 'GLC 2017', 'GLC 2018', 'GLC 2019', 'GLC 2020', 'GLC 2021', 'GLE 2018', 'KA+ 2018', 'PROCEED 2017', 'PROCEED 2019', 'PROCEED 2020', 'PROCEED 2021', 'RANGE ROVER EVOQUE 2017', 'RANGE ROVER EVOQUE 2018', 'RANGE ROVER EVOQUE 2020', 'S-CROSS 2021', 'TOURNEO COURIER 2020']\n"
     ]
    }
   ],
   "source": [
    "# Rename \"marque\" Citroen = DS if \"modele\" contains DS and \"marque\" contains Citroen\n",
    "df4.loc[(df4[\"modele\"].str.contains(\"DS\", na=False)) \n",
    "        & (df4[\"marque\"].str.contains(\"Citroen\", na=False)), \"marque\"] = \"DS\"\n",
    "df4['modele_annee_upd'] = df4['modele']+ ' ' + df4['annee'].astype(str)\n",
    "list_to_collect_4th = sorted(pd.unique(df4['modele_annee_upd']))\n",
    "print(f\"{len(list_to_collect_4th)} à collecter: \\n {list_to_collect_4th}\")"
   ]
  },
  {
   "cell_type": "code",
   "execution_count": 46,
   "id": "d8a26ea6",
   "metadata": {},
   "outputs": [],
   "source": [
    "# url = \"https://www.caradisiac.com/fiches-techniques\"\n",
    "# marque = \"KIA\"\n",
    "# modele = \"PROCEED\"\n",
    "# annee = \"2021\"\n",
    "# df_test = collect_prix_neuf (url, marque, modele, annee)"
   ]
  },
  {
   "cell_type": "code",
   "execution_count": 47,
   "id": "9b7ba727",
   "metadata": {},
   "outputs": [
    {
     "name": "stdout",
     "output_type": "stream",
     "text": [
      "File ../data/processed_data/prix_neuf_voitures_essaie_4.csv already exists, skipping...\n"
     ]
    }
   ],
   "source": [
    "# 4è essaie\n",
    "csv_path_ok = '../data/processed_data/prix_neuf_voitures_essaie_4.csv'\n",
    "if not os.path.exists(csv_path_ok):\n",
    "    csv_path_ko = '../data/processed_data/prix_neuf_voitures_essaie_4_error.csv'\n",
    "    scraping_prix_neuf (df4, csv_path_ok, csv_path_ko, 10)\n",
    "else:\n",
    "    print(f\"File {csv_path_ok} already exists, skipping...\")"
   ]
  },
  {
   "cell_type": "code",
   "execution_count": 48,
   "id": "bfd486eb",
   "metadata": {},
   "outputs": [
    {
     "name": "stdout",
     "output_type": "stream",
     "text": [
      "34 modèles et années collectés avec la 4è essaie: \n",
      " ['500 2017', '500 2020', 'C4 PICASSO 2017', 'CEED 2018', 'CEED 2019', 'CEED 2021', 'CEED 2022', 'CEED 2023', 'CROSSLAND 2023', 'DS3 2017', 'DS3 2018', 'DS3 2019', 'DS4 2018', 'DS4 CROSSBACK 2018', 'DS5 2017', 'DS5 2018', 'GLB 2020', 'GLB 2021', 'GLB 2022', 'GLC 2017', 'GLC 2018', 'GLC 2019', 'GLC 2020', 'GLC 2021', 'GLE 2018', 'KA+ 2018', 'PROCEED 2019', 'PROCEED 2020', 'PROCEED 2021', 'RANGE ROVER EVOQUE 2017', 'RANGE ROVER EVOQUE 2018', 'RANGE ROVER EVOQUE 2020', 'S-CROSS 2021', 'TOURNEO COURIER 2020']\n",
      "2 modèles et années restant à collecter: \n",
      " ['C4 PICASSO 2019', 'PROCEED 2017']\n"
     ]
    }
   ],
   "source": [
    "# Import the result from 4th attempt\n",
    "df4_ok = pd.read_csv(csv_path_ok)\n",
    "df4_ok\n",
    "\n",
    "# Liste des modèles qui sont collectés avec la 4è essaie\n",
    "df4_ok['modele_annee'] = df4_ok['source_model'] + ' ' + df4_ok['source_year'].astype(str)\n",
    "unique_modele_annee_collected_sup_3 = sorted(pd.unique(df4_ok[\"modele_annee\"]))\n",
    "print(f\"{len(unique_modele_annee_collected_sup_3)} modèles et années collectés avec la 4è essaie: \\n {unique_modele_annee_collected_sup_3}\")\n",
    "\n",
    "# Liste des modèles qui ne sont toujours pas collectés avec la 3è essaie\n",
    "remaining_to_collect_sup_3 = sorted(set(list_to_collect_4th) - set(unique_modele_annee_collected_sup_3))\n",
    "print(f\"{len(remaining_to_collect_sup_3)} modèles et années restant à collecter: \\n {remaining_to_collect_sup_3}\")"
   ]
  },
  {
   "cell_type": "markdown",
   "id": "593b3f38",
   "metadata": {},
   "source": [
    "### Final"
   ]
  },
  {
   "cell_type": "code",
   "execution_count": 49,
   "id": "7aeedc7c",
   "metadata": {},
   "outputs": [
    {
     "name": "stdout",
     "output_type": "stream",
     "text": [
      "724\n"
     ]
    }
   ],
   "source": [
    "# Concatenate the dataframes\n",
    "df_combined = pd.concat([df_prix_neuf, df2_ok, df3_ok, df4_ok], ignore_index=True)\n",
    "\n",
    "# Display the combined dataframe\n",
    "df_combined.head()\n",
    "\n",
    "# Remove duplicates\n",
    "df_combined_nodup = df_combined.drop_duplicates(subset=['option_marque_select', 'option_modele_select', 'option_year_select', 'Versions'])\n",
    "list_final = sorted(pd.unique(df_combined_nodup[\"modele_annee\"]))\n",
    "\n",
    "print(len(list_final))"
   ]
  },
  {
   "cell_type": "code",
   "execution_count": 50,
   "id": "41e7df69",
   "metadata": {},
   "outputs": [
    {
     "data": {
      "application/vnd.microsoft.datawrangler.viewer.v0+json": {
       "columns": [
        {
         "name": "index",
         "rawType": "int64",
         "type": "integer"
        },
        {
         "name": "source_model",
         "rawType": "object",
         "type": "string"
        },
        {
         "name": "source_year",
         "rawType": "int64",
         "type": "integer"
        },
        {
         "name": "Versions",
         "rawType": "object",
         "type": "string"
        },
        {
         "name": "Portes",
         "rawType": "float64",
         "type": "float"
        },
        {
         "name": "Energie",
         "rawType": "object",
         "type": "string"
        },
        {
         "name": "Boite",
         "rawType": "object",
         "type": "string"
        },
        {
         "name": "CO2\n(g/km)",
         "rawType": "object",
         "type": "string"
        },
        {
         "name": "Prix",
         "rawType": "object",
         "type": "string"
        },
        {
         "name": "url",
         "rawType": "object",
         "type": "string"
        },
        {
         "name": "option_marque_select",
         "rawType": "object",
         "type": "string"
        },
        {
         "name": "option_modele_select",
         "rawType": "object",
         "type": "string"
        },
        {
         "name": "option_year_select",
         "rawType": "int64",
         "type": "integer"
        },
        {
         "name": "match_type_marque",
         "rawType": "object",
         "type": "string"
        },
        {
         "name": "match_type_modele",
         "rawType": "object",
         "type": "string"
        },
        {
         "name": "match_type_year",
         "rawType": "object",
         "type": "string"
        },
        {
         "name": "modele_annee",
         "rawType": "object",
         "type": "string"
        },
        {
         "name": "modele_annee_option",
         "rawType": "object",
         "type": "string"
        }
       ],
       "conversionMethod": "pd.DataFrame",
       "ref": "2904bf7b-8a63-4fac-af01-69c362a05151",
       "rows": [
        [
         "0",
         "Abarth 124 Spider",
         "2019",
         "II 1.4 TURBO 170",
         "2.0",
         "Ess.",
         "Mécanique",
         "146 (nedc)",
         "34 500 €",
         "https://www.caradisiac.com/fiches-techniques/modele--abarth-124-2e-generation-spider/2019/",
         "ABARTH",
         "124",
         "2019",
         "Exact match",
         "Partial match",
         "Exact match",
         "Abarth 124 Spider 2019",
         "ABARTH 124 2019"
        ],
        [
         "1",
         "Abarth 124 Spider",
         "2019",
         "II 1.4 TURBO 170 GT",
         "2.0",
         "Ess.",
         "Mécanique",
         "146 (nedc)",
         "40 900 €",
         "https://www.caradisiac.com/fiches-techniques/modele--abarth-124-2e-generation-spider/2019/",
         "ABARTH",
         "124",
         "2019",
         "Exact match",
         "Partial match",
         "Exact match",
         "Abarth 124 Spider 2019",
         "ABARTH 124 2019"
        ],
        [
         "2",
         "Abarth 124 Spider",
         "2019",
         "II 1.4 TURBO 170 GT BVA",
         "2.0",
         "Ess.",
         "Automatique",
         "161 (nedc)",
         "42 900 €",
         "https://www.caradisiac.com/fiches-techniques/modele--abarth-124-2e-generation-spider/2019/",
         "ABARTH",
         "124",
         "2019",
         "Exact match",
         "Partial match",
         "Exact match",
         "Abarth 124 Spider 2019",
         "ABARTH 124 2019"
        ],
        [
         "3",
         "Abarth 124 Spider",
         "2019",
         "II 1.4 TURBO 170 TURISMO",
         "2.0",
         "Ess.",
         "Mécanique",
         "146 (nedc)",
         "37 500 €",
         "https://www.caradisiac.com/fiches-techniques/modele--abarth-124-2e-generation-spider/2019/",
         "ABARTH",
         "124",
         "2019",
         "Exact match",
         "Partial match",
         "Exact match",
         "Abarth 124 Spider 2019",
         "ABARTH 124 2019"
        ],
        [
         "4",
         "Abarth 124 Spider",
         "2019",
         "II 1.4 TURBO 170 TURISMO BVA",
         "2.0",
         "Ess.",
         "Automatique",
         "161 (nedc)",
         "39 500 €",
         "https://www.caradisiac.com/fiches-techniques/modele--abarth-124-2e-generation-spider/2019/",
         "ABARTH",
         "124",
         "2019",
         "Exact match",
         "Partial match",
         "Exact match",
         "Abarth 124 Spider 2019",
         "ABARTH 124 2019"
        ]
       ],
       "shape": {
        "columns": 17,
        "rows": 5
       }
      },
      "text/html": [
       "<div>\n",
       "<style scoped>\n",
       "    .dataframe tbody tr th:only-of-type {\n",
       "        vertical-align: middle;\n",
       "    }\n",
       "\n",
       "    .dataframe tbody tr th {\n",
       "        vertical-align: top;\n",
       "    }\n",
       "\n",
       "    .dataframe thead th {\n",
       "        text-align: right;\n",
       "    }\n",
       "</style>\n",
       "<table border=\"1\" class=\"dataframe\">\n",
       "  <thead>\n",
       "    <tr style=\"text-align: right;\">\n",
       "      <th></th>\n",
       "      <th>source_model</th>\n",
       "      <th>source_year</th>\n",
       "      <th>Versions</th>\n",
       "      <th>Portes</th>\n",
       "      <th>Energie</th>\n",
       "      <th>Boite</th>\n",
       "      <th>CO2\\n(g/km)</th>\n",
       "      <th>Prix</th>\n",
       "      <th>url</th>\n",
       "      <th>option_marque_select</th>\n",
       "      <th>option_modele_select</th>\n",
       "      <th>option_year_select</th>\n",
       "      <th>match_type_marque</th>\n",
       "      <th>match_type_modele</th>\n",
       "      <th>match_type_year</th>\n",
       "      <th>modele_annee</th>\n",
       "      <th>modele_annee_option</th>\n",
       "    </tr>\n",
       "  </thead>\n",
       "  <tbody>\n",
       "    <tr>\n",
       "      <th>0</th>\n",
       "      <td>Abarth 124 Spider</td>\n",
       "      <td>2019</td>\n",
       "      <td>II 1.4 TURBO 170</td>\n",
       "      <td>2.0</td>\n",
       "      <td>Ess.</td>\n",
       "      <td>Mécanique</td>\n",
       "      <td>146 (nedc)</td>\n",
       "      <td>34 500 €</td>\n",
       "      <td>https://www.caradisiac.com/fiches-techniques/m...</td>\n",
       "      <td>ABARTH</td>\n",
       "      <td>124</td>\n",
       "      <td>2019</td>\n",
       "      <td>Exact match</td>\n",
       "      <td>Partial match</td>\n",
       "      <td>Exact match</td>\n",
       "      <td>Abarth 124 Spider 2019</td>\n",
       "      <td>ABARTH 124 2019</td>\n",
       "    </tr>\n",
       "    <tr>\n",
       "      <th>1</th>\n",
       "      <td>Abarth 124 Spider</td>\n",
       "      <td>2019</td>\n",
       "      <td>II 1.4 TURBO 170 GT</td>\n",
       "      <td>2.0</td>\n",
       "      <td>Ess.</td>\n",
       "      <td>Mécanique</td>\n",
       "      <td>146 (nedc)</td>\n",
       "      <td>40 900 €</td>\n",
       "      <td>https://www.caradisiac.com/fiches-techniques/m...</td>\n",
       "      <td>ABARTH</td>\n",
       "      <td>124</td>\n",
       "      <td>2019</td>\n",
       "      <td>Exact match</td>\n",
       "      <td>Partial match</td>\n",
       "      <td>Exact match</td>\n",
       "      <td>Abarth 124 Spider 2019</td>\n",
       "      <td>ABARTH 124 2019</td>\n",
       "    </tr>\n",
       "    <tr>\n",
       "      <th>2</th>\n",
       "      <td>Abarth 124 Spider</td>\n",
       "      <td>2019</td>\n",
       "      <td>II 1.4 TURBO 170 GT BVA</td>\n",
       "      <td>2.0</td>\n",
       "      <td>Ess.</td>\n",
       "      <td>Automatique</td>\n",
       "      <td>161 (nedc)</td>\n",
       "      <td>42 900 €</td>\n",
       "      <td>https://www.caradisiac.com/fiches-techniques/m...</td>\n",
       "      <td>ABARTH</td>\n",
       "      <td>124</td>\n",
       "      <td>2019</td>\n",
       "      <td>Exact match</td>\n",
       "      <td>Partial match</td>\n",
       "      <td>Exact match</td>\n",
       "      <td>Abarth 124 Spider 2019</td>\n",
       "      <td>ABARTH 124 2019</td>\n",
       "    </tr>\n",
       "    <tr>\n",
       "      <th>3</th>\n",
       "      <td>Abarth 124 Spider</td>\n",
       "      <td>2019</td>\n",
       "      <td>II 1.4 TURBO 170 TURISMO</td>\n",
       "      <td>2.0</td>\n",
       "      <td>Ess.</td>\n",
       "      <td>Mécanique</td>\n",
       "      <td>146 (nedc)</td>\n",
       "      <td>37 500 €</td>\n",
       "      <td>https://www.caradisiac.com/fiches-techniques/m...</td>\n",
       "      <td>ABARTH</td>\n",
       "      <td>124</td>\n",
       "      <td>2019</td>\n",
       "      <td>Exact match</td>\n",
       "      <td>Partial match</td>\n",
       "      <td>Exact match</td>\n",
       "      <td>Abarth 124 Spider 2019</td>\n",
       "      <td>ABARTH 124 2019</td>\n",
       "    </tr>\n",
       "    <tr>\n",
       "      <th>4</th>\n",
       "      <td>Abarth 124 Spider</td>\n",
       "      <td>2019</td>\n",
       "      <td>II 1.4 TURBO 170 TURISMO BVA</td>\n",
       "      <td>2.0</td>\n",
       "      <td>Ess.</td>\n",
       "      <td>Automatique</td>\n",
       "      <td>161 (nedc)</td>\n",
       "      <td>39 500 €</td>\n",
       "      <td>https://www.caradisiac.com/fiches-techniques/m...</td>\n",
       "      <td>ABARTH</td>\n",
       "      <td>124</td>\n",
       "      <td>2019</td>\n",
       "      <td>Exact match</td>\n",
       "      <td>Partial match</td>\n",
       "      <td>Exact match</td>\n",
       "      <td>Abarth 124 Spider 2019</td>\n",
       "      <td>ABARTH 124 2019</td>\n",
       "    </tr>\n",
       "  </tbody>\n",
       "</table>\n",
       "</div>"
      ],
      "text/plain": [
       "        source_model  source_year                      Versions  Portes  \\\n",
       "0  Abarth 124 Spider         2019              II 1.4 TURBO 170     2.0   \n",
       "1  Abarth 124 Spider         2019           II 1.4 TURBO 170 GT     2.0   \n",
       "2  Abarth 124 Spider         2019       II 1.4 TURBO 170 GT BVA     2.0   \n",
       "3  Abarth 124 Spider         2019      II 1.4 TURBO 170 TURISMO     2.0   \n",
       "4  Abarth 124 Spider         2019  II 1.4 TURBO 170 TURISMO BVA     2.0   \n",
       "\n",
       "  Energie        Boite CO2\\n(g/km)      Prix  \\\n",
       "0    Ess.    Mécanique  146 (nedc)  34 500 €   \n",
       "1    Ess.    Mécanique  146 (nedc)  40 900 €   \n",
       "2    Ess.  Automatique  161 (nedc)  42 900 €   \n",
       "3    Ess.    Mécanique  146 (nedc)  37 500 €   \n",
       "4    Ess.  Automatique  161 (nedc)  39 500 €   \n",
       "\n",
       "                                                 url option_marque_select  \\\n",
       "0  https://www.caradisiac.com/fiches-techniques/m...               ABARTH   \n",
       "1  https://www.caradisiac.com/fiches-techniques/m...               ABARTH   \n",
       "2  https://www.caradisiac.com/fiches-techniques/m...               ABARTH   \n",
       "3  https://www.caradisiac.com/fiches-techniques/m...               ABARTH   \n",
       "4  https://www.caradisiac.com/fiches-techniques/m...               ABARTH   \n",
       "\n",
       "  option_modele_select  option_year_select match_type_marque  \\\n",
       "0                  124                2019       Exact match   \n",
       "1                  124                2019       Exact match   \n",
       "2                  124                2019       Exact match   \n",
       "3                  124                2019       Exact match   \n",
       "4                  124                2019       Exact match   \n",
       "\n",
       "  match_type_modele match_type_year            modele_annee  \\\n",
       "0     Partial match     Exact match  Abarth 124 Spider 2019   \n",
       "1     Partial match     Exact match  Abarth 124 Spider 2019   \n",
       "2     Partial match     Exact match  Abarth 124 Spider 2019   \n",
       "3     Partial match     Exact match  Abarth 124 Spider 2019   \n",
       "4     Partial match     Exact match  Abarth 124 Spider 2019   \n",
       "\n",
       "  modele_annee_option  \n",
       "0     ABARTH 124 2019  \n",
       "1     ABARTH 124 2019  \n",
       "2     ABARTH 124 2019  \n",
       "3     ABARTH 124 2019  \n",
       "4     ABARTH 124 2019  "
      ]
     },
     "execution_count": 50,
     "metadata": {},
     "output_type": "execute_result"
    }
   ],
   "source": [
    "df_combined_nodup.head()"
   ]
  },
  {
   "cell_type": "code",
   "execution_count": 51,
   "id": "50b8246e",
   "metadata": {},
   "outputs": [
    {
     "data": {
      "text/plain": [
       "count        52423\n",
       "unique        5829\n",
       "top       28 900 €\n",
       "freq           129\n",
       "Name: Prix, dtype: object"
      ]
     },
     "execution_count": 51,
     "metadata": {},
     "output_type": "execute_result"
    }
   ],
   "source": [
    "# Remove missing price\n",
    "df_combined_nodup = df_combined_nodup[df_combined_nodup[\"Prix\"].notna()]\n",
    "df_combined_nodup['Prix'].describe()"
   ]
  },
  {
   "cell_type": "code",
   "execution_count": 52,
   "id": "0bce3333",
   "metadata": {},
   "outputs": [
    {
     "name": "stdout",
     "output_type": "stream",
     "text": [
      "0\n"
     ]
    }
   ],
   "source": [
    "# Checking missing price is well removed\n",
    "missing_price = df_combined_nodup['Prix'].isnull().sum()\n",
    "print(missing_price)"
   ]
  },
  {
   "cell_type": "code",
   "execution_count": 53,
   "id": "bdd5745f",
   "metadata": {},
   "outputs": [],
   "source": [
    "# Extract the version from the URL\n",
    "df_combined_nodup['Version_selected'] = df_combined_nodup['url'].str.extract(r'--(.*?)/')\n",
    "df_combined_nodup['Version_selected'] = df_combined_nodup['Version_selected'].str.replace('-', ' ', regex=False)"
   ]
  },
  {
   "cell_type": "code",
   "execution_count": 54,
   "id": "2a2fe75d",
   "metadata": {},
   "outputs": [],
   "source": [
    "df_combined_nodup['option_marque_select'] = df_combined_nodup['option_marque_select'].str.upper()\n",
    "df_combined_nodup['Versions'] = df_combined_nodup['Versions'].str.upper()\n",
    "df_combined_nodup.drop(columns=['source_year', 'option_modele_select',\n",
    "                                'match_type_marque', 'match_type_modele', 'match_type_year',\n",
    "                                'modele_annee', 'modele_annee_option',  ], inplace=True)"
   ]
  },
  {
   "cell_type": "code",
   "execution_count": 55,
   "id": "5fcbcf3d",
   "metadata": {},
   "outputs": [
    {
     "data": {
      "application/vnd.microsoft.datawrangler.viewer.v0+json": {
       "columns": [
        {
         "name": "index",
         "rawType": "int64",
         "type": "integer"
        },
        {
         "name": "source_model",
         "rawType": "object",
         "type": "string"
        },
        {
         "name": "Versions",
         "rawType": "object",
         "type": "string"
        },
        {
         "name": "Portes",
         "rawType": "float64",
         "type": "float"
        },
        {
         "name": "Energie",
         "rawType": "object",
         "type": "string"
        },
        {
         "name": "Boite",
         "rawType": "object",
         "type": "string"
        },
        {
         "name": "CO2\n(g/km)",
         "rawType": "object",
         "type": "string"
        },
        {
         "name": "Prix",
         "rawType": "object",
         "type": "string"
        },
        {
         "name": "url",
         "rawType": "object",
         "type": "string"
        },
        {
         "name": "option_marque_select",
         "rawType": "object",
         "type": "string"
        },
        {
         "name": "option_year_select",
         "rawType": "int64",
         "type": "integer"
        },
        {
         "name": "Version_selected",
         "rawType": "object",
         "type": "string"
        }
       ],
       "conversionMethod": "pd.DataFrame",
       "ref": "a41592d2-6b69-46b5-b767-52e9dbe830ef",
       "rows": [
        [
         "0",
         "Abarth 124 Spider",
         "II 1.4 TURBO 170",
         "2.0",
         "Ess.",
         "Mécanique",
         "146 (nedc)",
         "34 500 €",
         "https://www.caradisiac.com/fiches-techniques/modele--abarth-124-2e-generation-spider/2019/",
         "ABARTH",
         "2019",
         "abarth 124 2e generation spider"
        ],
        [
         "1",
         "Abarth 124 Spider",
         "II 1.4 TURBO 170 GT",
         "2.0",
         "Ess.",
         "Mécanique",
         "146 (nedc)",
         "40 900 €",
         "https://www.caradisiac.com/fiches-techniques/modele--abarth-124-2e-generation-spider/2019/",
         "ABARTH",
         "2019",
         "abarth 124 2e generation spider"
        ],
        [
         "2",
         "Abarth 124 Spider",
         "II 1.4 TURBO 170 GT BVA",
         "2.0",
         "Ess.",
         "Automatique",
         "161 (nedc)",
         "42 900 €",
         "https://www.caradisiac.com/fiches-techniques/modele--abarth-124-2e-generation-spider/2019/",
         "ABARTH",
         "2019",
         "abarth 124 2e generation spider"
        ],
        [
         "3",
         "Abarth 124 Spider",
         "II 1.4 TURBO 170 TURISMO",
         "2.0",
         "Ess.",
         "Mécanique",
         "146 (nedc)",
         "37 500 €",
         "https://www.caradisiac.com/fiches-techniques/modele--abarth-124-2e-generation-spider/2019/",
         "ABARTH",
         "2019",
         "abarth 124 2e generation spider"
        ],
        [
         "4",
         "Abarth 124 Spider",
         "II 1.4 TURBO 170 TURISMO BVA",
         "2.0",
         "Ess.",
         "Automatique",
         "161 (nedc)",
         "39 500 €",
         "https://www.caradisiac.com/fiches-techniques/modele--abarth-124-2e-generation-spider/2019/",
         "ABARTH",
         "2019",
         "abarth 124 2e generation spider"
        ]
       ],
       "shape": {
        "columns": 11,
        "rows": 5
       }
      },
      "text/html": [
       "<div>\n",
       "<style scoped>\n",
       "    .dataframe tbody tr th:only-of-type {\n",
       "        vertical-align: middle;\n",
       "    }\n",
       "\n",
       "    .dataframe tbody tr th {\n",
       "        vertical-align: top;\n",
       "    }\n",
       "\n",
       "    .dataframe thead th {\n",
       "        text-align: right;\n",
       "    }\n",
       "</style>\n",
       "<table border=\"1\" class=\"dataframe\">\n",
       "  <thead>\n",
       "    <tr style=\"text-align: right;\">\n",
       "      <th></th>\n",
       "      <th>source_model</th>\n",
       "      <th>Versions</th>\n",
       "      <th>Portes</th>\n",
       "      <th>Energie</th>\n",
       "      <th>Boite</th>\n",
       "      <th>CO2\\n(g/km)</th>\n",
       "      <th>Prix</th>\n",
       "      <th>url</th>\n",
       "      <th>option_marque_select</th>\n",
       "      <th>option_year_select</th>\n",
       "      <th>Version_selected</th>\n",
       "    </tr>\n",
       "  </thead>\n",
       "  <tbody>\n",
       "    <tr>\n",
       "      <th>0</th>\n",
       "      <td>Abarth 124 Spider</td>\n",
       "      <td>II 1.4 TURBO 170</td>\n",
       "      <td>2.0</td>\n",
       "      <td>Ess.</td>\n",
       "      <td>Mécanique</td>\n",
       "      <td>146 (nedc)</td>\n",
       "      <td>34 500 €</td>\n",
       "      <td>https://www.caradisiac.com/fiches-techniques/m...</td>\n",
       "      <td>ABARTH</td>\n",
       "      <td>2019</td>\n",
       "      <td>abarth 124 2e generation spider</td>\n",
       "    </tr>\n",
       "    <tr>\n",
       "      <th>1</th>\n",
       "      <td>Abarth 124 Spider</td>\n",
       "      <td>II 1.4 TURBO 170 GT</td>\n",
       "      <td>2.0</td>\n",
       "      <td>Ess.</td>\n",
       "      <td>Mécanique</td>\n",
       "      <td>146 (nedc)</td>\n",
       "      <td>40 900 €</td>\n",
       "      <td>https://www.caradisiac.com/fiches-techniques/m...</td>\n",
       "      <td>ABARTH</td>\n",
       "      <td>2019</td>\n",
       "      <td>abarth 124 2e generation spider</td>\n",
       "    </tr>\n",
       "    <tr>\n",
       "      <th>2</th>\n",
       "      <td>Abarth 124 Spider</td>\n",
       "      <td>II 1.4 TURBO 170 GT BVA</td>\n",
       "      <td>2.0</td>\n",
       "      <td>Ess.</td>\n",
       "      <td>Automatique</td>\n",
       "      <td>161 (nedc)</td>\n",
       "      <td>42 900 €</td>\n",
       "      <td>https://www.caradisiac.com/fiches-techniques/m...</td>\n",
       "      <td>ABARTH</td>\n",
       "      <td>2019</td>\n",
       "      <td>abarth 124 2e generation spider</td>\n",
       "    </tr>\n",
       "    <tr>\n",
       "      <th>3</th>\n",
       "      <td>Abarth 124 Spider</td>\n",
       "      <td>II 1.4 TURBO 170 TURISMO</td>\n",
       "      <td>2.0</td>\n",
       "      <td>Ess.</td>\n",
       "      <td>Mécanique</td>\n",
       "      <td>146 (nedc)</td>\n",
       "      <td>37 500 €</td>\n",
       "      <td>https://www.caradisiac.com/fiches-techniques/m...</td>\n",
       "      <td>ABARTH</td>\n",
       "      <td>2019</td>\n",
       "      <td>abarth 124 2e generation spider</td>\n",
       "    </tr>\n",
       "    <tr>\n",
       "      <th>4</th>\n",
       "      <td>Abarth 124 Spider</td>\n",
       "      <td>II 1.4 TURBO 170 TURISMO BVA</td>\n",
       "      <td>2.0</td>\n",
       "      <td>Ess.</td>\n",
       "      <td>Automatique</td>\n",
       "      <td>161 (nedc)</td>\n",
       "      <td>39 500 €</td>\n",
       "      <td>https://www.caradisiac.com/fiches-techniques/m...</td>\n",
       "      <td>ABARTH</td>\n",
       "      <td>2019</td>\n",
       "      <td>abarth 124 2e generation spider</td>\n",
       "    </tr>\n",
       "  </tbody>\n",
       "</table>\n",
       "</div>"
      ],
      "text/plain": [
       "        source_model                      Versions  Portes Energie  \\\n",
       "0  Abarth 124 Spider              II 1.4 TURBO 170     2.0    Ess.   \n",
       "1  Abarth 124 Spider           II 1.4 TURBO 170 GT     2.0    Ess.   \n",
       "2  Abarth 124 Spider       II 1.4 TURBO 170 GT BVA     2.0    Ess.   \n",
       "3  Abarth 124 Spider      II 1.4 TURBO 170 TURISMO     2.0    Ess.   \n",
       "4  Abarth 124 Spider  II 1.4 TURBO 170 TURISMO BVA     2.0    Ess.   \n",
       "\n",
       "         Boite CO2\\n(g/km)      Prix  \\\n",
       "0    Mécanique  146 (nedc)  34 500 €   \n",
       "1    Mécanique  146 (nedc)  40 900 €   \n",
       "2  Automatique  161 (nedc)  42 900 €   \n",
       "3    Mécanique  146 (nedc)  37 500 €   \n",
       "4  Automatique  161 (nedc)  39 500 €   \n",
       "\n",
       "                                                 url option_marque_select  \\\n",
       "0  https://www.caradisiac.com/fiches-techniques/m...               ABARTH   \n",
       "1  https://www.caradisiac.com/fiches-techniques/m...               ABARTH   \n",
       "2  https://www.caradisiac.com/fiches-techniques/m...               ABARTH   \n",
       "3  https://www.caradisiac.com/fiches-techniques/m...               ABARTH   \n",
       "4  https://www.caradisiac.com/fiches-techniques/m...               ABARTH   \n",
       "\n",
       "   option_year_select                 Version_selected  \n",
       "0                2019  abarth 124 2e generation spider  \n",
       "1                2019  abarth 124 2e generation spider  \n",
       "2                2019  abarth 124 2e generation spider  \n",
       "3                2019  abarth 124 2e generation spider  \n",
       "4                2019  abarth 124 2e generation spider  "
      ]
     },
     "execution_count": 55,
     "metadata": {},
     "output_type": "execute_result"
    }
   ],
   "source": [
    "df_combined_nodup.head()"
   ]
  },
  {
   "cell_type": "code",
   "execution_count": 56,
   "id": "9312b06a",
   "metadata": {},
   "outputs": [
    {
     "name": "stdout",
     "output_type": "stream",
     "text": [
      "Data exported successfully to ../data/processed_data/prix_neuf_voitures.csv\n"
     ]
    }
   ],
   "source": [
    "# Exporter les données dans un fichier CSV\n",
    "df_combined_nodup.to_csv('../data/processed_data/prix_neuf_voitures_vf.csv', index=False, encoding='utf-8-sig')\n",
    "print(\"Data exported successfully to ../data/processed_data/prix_neuf_voitures.csv\")"
   ]
  },
  {
   "cell_type": "markdown",
   "id": "72b9eb41",
   "metadata": {},
   "source": [
    "## 4. Merging with initial data to get the listing price"
   ]
  },
  {
   "cell_type": "code",
   "execution_count": 57,
   "id": "162332df",
   "metadata": {},
   "outputs": [],
   "source": [
    "# df_model[(df_model['modele'].str.lower().str.contains(\"ds\", na=False)) & (df_model['marque'].str.lower().str.contains('citroen', na=False))]"
   ]
  },
  {
   "cell_type": "code",
   "execution_count": 58,
   "id": "37ef9e01",
   "metadata": {},
   "outputs": [],
   "source": [
    "# Rename \"marque\" Citroen = DS if \"modele\" contains DS and \"marque\" contains Citroen\n",
    "# df_model.loc[(df_model['marque'].str.lower().str.contains('citroen', na=False)) & (df_model['modele'].str.lower().str.contains('ds', na=False)), \"marque\"] = \"DS\""
   ]
  },
  {
   "cell_type": "code",
   "execution_count": 59,
   "id": "895ac49c",
   "metadata": {},
   "outputs": [],
   "source": [
    "# Checking again, should be empty\n",
    "# df_model[(df_model['modele'].str.lower().str.contains(\"ds\", na=False)) & (df_model['marque'].str.lower().str.contains('citroen', na=False))]"
   ]
  },
  {
   "cell_type": "code",
   "execution_count": 60,
   "id": "2a5f1656",
   "metadata": {},
   "outputs": [],
   "source": [
    "# Some cleaning\n",
    "# df_model['marque'] = df_model['marque'].str.upper()\n",
    "# df_model['finition'] = df_model['finition'].str.upper()"
   ]
  },
  {
   "cell_type": "code",
   "execution_count": 61,
   "id": "26abb797",
   "metadata": {},
   "outputs": [],
   "source": [
    "# Merging df_model with df_combined_nodup to get the listing price\n",
    "# df_merge_1 = df_model.merge(df_combined_nodup, how=\"left\", left_on=['marque', 'modele', 'annee'], right_on = ['option_marque_select', 'source_model', 'option_year_select'] )"
   ]
  },
  {
   "cell_type": "code",
   "execution_count": 62,
   "id": "a33b81c4",
   "metadata": {},
   "outputs": [],
   "source": [
    "# Checking the merge \"exactly\" or \"partially\"\n",
    "# df_merge_1['match_type'] = df_merge_1.apply(lambda row: 'Exact' if row['finition'] == row['Versions'] else 'Partial', axis=1)"
   ]
  },
  {
   "cell_type": "code",
   "execution_count": 63,
   "id": "432c9789",
   "metadata": {},
   "outputs": [],
   "source": [
    "# df_merge_1[df_merge_1['finition'].str.upper().str.contains(\"SPORTBACK 30 TFSI\", na=False)]"
   ]
  },
  {
   "cell_type": "code",
   "execution_count": 64,
   "id": "b2e0ffc6",
   "metadata": {},
   "outputs": [],
   "source": [
    "# df_combined_nodup[(df_combined_nodup['option_marque_select'].str.upper().str.contains(\"AUDI\", na=False))\n",
    "#                   & (df_combined_nodup['source_year'].astype(str) == \"2023\")\n",
    "#                   ]"
   ]
  }
 ],
 "metadata": {
  "kernelspec": {
   "display_name": ".venv",
   "language": "python",
   "name": "python3"
  },
  "language_info": {
   "codemirror_mode": {
    "name": "ipython",
    "version": 3
   },
   "file_extension": ".py",
   "mimetype": "text/x-python",
   "name": "python",
   "nbconvert_exporter": "python",
   "pygments_lexer": "ipython3",
   "version": "3.13.3"
  }
 },
 "nbformat": 4,
 "nbformat_minor": 5
}
